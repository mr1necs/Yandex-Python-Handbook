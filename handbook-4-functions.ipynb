{
 "cells": [
  {
   "cell_type": "markdown",
   "metadata": {},
   "source": "### 4. Функции и их особенности в Python"
  },
  {
   "cell_type": "markdown",
   "metadata": {},
   "source": "#### 4.1. Функции. Области видимости. Передача параметров в функции"
  },
  {
   "cell_type": "markdown",
   "metadata": {},
   "source": [
    "##### Задача A"
   ]
  },
  {
   "cell_type": "code",
   "metadata": {},
   "source": [
    "def print_hello(name):\n",
    "    print(f\"Hello, {name}!\")"
   ],
   "outputs": [],
   "execution_count": null
  },
  {
   "cell_type": "markdown",
   "metadata": {},
   "source": [
    "##### Задача B"
   ]
  },
  {
   "cell_type": "code",
   "metadata": {},
   "source": [
    "def gcd(num1, num2):\n",
    "    while min(num1, num2) != 0:\n",
    "        if num1 > num2:\n",
    "            num1 = num1 % num2\n",
    "        else:\n",
    "            num2 = num2 % num1\n",
    "    return max(num1, num2)"
   ],
   "outputs": [],
   "execution_count": null
  },
  {
   "cell_type": "markdown",
   "metadata": {},
   "source": [
    "##### Задача C"
   ]
  },
  {
   "cell_type": "code",
   "metadata": {},
   "source": [
    "def number_length(num):\n",
    "    return len(str(abs(num)))"
   ],
   "outputs": [],
   "execution_count": null
  },
  {
   "cell_type": "markdown",
   "metadata": {},
   "source": [
    "##### Задача D"
   ]
  },
  {
   "cell_type": "code",
   "metadata": {},
   "source": [
    "def month(num, lang):\n",
    "    month_dict = {\n",
    "        'ru': ['Январь', 'Февраль', 'Март', 'Апрель', 'Май', 'Июнь', \n",
    "               'Июль', 'Август', 'Сентябрь', 'Октябрь', 'Ноябрь', 'Декабрь'],\n",
    "        'en': ['January', 'February', 'March', 'April', 'May', 'June', \n",
    "               'July', 'August', 'September', 'October', 'November', 'December']\n",
    "    }\n",
    "    return month_dict[lang][num - 1]"
   ],
   "outputs": [],
   "execution_count": null
  },
  {
   "cell_type": "markdown",
   "metadata": {},
   "source": [
    "##### Задача E"
   ]
  },
  {
   "cell_type": "code",
   "metadata": {},
   "source": [
    "def split_numbers(string):\n",
    "    return tuple(int(x) for x in string.split())"
   ],
   "outputs": [],
   "execution_count": null
  },
  {
   "cell_type": "markdown",
   "metadata": {},
   "source": [
    "##### Задача F"
   ]
  },
  {
   "cell_type": "code",
   "metadata": {},
   "source": [
    "old_string = set()\n",
    "\n",
    "def modern_print(string):\n",
    "    global old_string\n",
    "    if string not in old_string:\n",
    "        print(string)\n",
    "        old_string.add(string)"
   ],
   "outputs": [],
   "execution_count": null
  },
  {
   "cell_type": "markdown",
   "metadata": {},
   "source": [
    "##### Задача G"
   ]
  },
  {
   "cell_type": "code",
   "metadata": {},
   "source": [
    "def can_eat(coord1, coord2):\n",
    "    dx = abs(coord1[0] - coord2[0])\n",
    "    dy = abs(coord1[1] - coord2[1])\n",
    "    return (dx == 2 and dy == 1) or (dx == 1 and dy == 2)"
   ],
   "outputs": [],
   "execution_count": null
  },
  {
   "cell_type": "markdown",
   "metadata": {},
   "source": [
    "##### Задача H"
   ]
  },
  {
   "cell_type": "code",
   "metadata": {},
   "source": [
    "def is_palindrome(data):\n",
    "    if isinstance(data, int):\n",
    "        data = str(data)\n",
    "    return data == data[::-1]"
   ],
   "outputs": [],
   "execution_count": null
  },
  {
   "cell_type": "markdown",
   "metadata": {},
   "source": [
    "##### Задача I"
   ]
  },
  {
   "cell_type": "code",
   "metadata": {},
   "source": [
    "def is_prime(n):\n",
    "    for i in range(2, int(n ** 0.5) + 1):\n",
    "        if n % i == 0:\n",
    "            return False\n",
    "    return True"
   ],
   "outputs": [],
   "execution_count": null
  },
  {
   "cell_type": "markdown",
   "metadata": {},
   "source": "##### Задача J"
  },
  {
   "cell_type": "code",
   "metadata": {},
   "source": [
    "def merge(tuple1, tuple2):\n",
    "    result = []\n",
    "    i, j = 0, 0\n",
    "    while i < len(tuple1) and j < len(tuple2):\n",
    "        if tuple1[i] < tuple2[j]:\n",
    "            result.append(tuple1[i])\n",
    "            i += 1\n",
    "        else:\n",
    "            result.append(tuple2[j])\n",
    "            j += 1\n",
    "\n",
    "    while i < len(tuple1):\n",
    "        result.append(tuple1[i])\n",
    "        i += 1\n",
    "\n",
    "    while j < len(tuple2):\n",
    "        result.append(tuple2[j])\n",
    "        j += 1\n",
    "\n",
    "    return tuple(result)"
   ],
   "outputs": [],
   "execution_count": null
  },
  {
   "metadata": {},
   "cell_type": "markdown",
   "source": "#### 4.2. Позиционные и именованные аргументы. Функции высших порядков. Лямбда-функции"
  },
  {
   "metadata": {},
   "cell_type": "markdown",
   "source": "##### Задача A\n"
  },
  {
   "metadata": {},
   "cell_type": "code",
   "source": "",
   "outputs": [],
   "execution_count": null
  },
  {
   "metadata": {},
   "cell_type": "markdown",
   "source": "##### Задача B"
  },
  {
   "metadata": {},
   "cell_type": "code",
   "source": "",
   "outputs": [],
   "execution_count": null
  },
  {
   "metadata": {},
   "cell_type": "markdown",
   "source": "##### Задача C"
  },
  {
   "metadata": {},
   "cell_type": "code",
   "source": "",
   "outputs": [],
   "execution_count": null
  },
  {
   "metadata": {},
   "cell_type": "markdown",
   "source": "##### Задача D"
  },
  {
   "metadata": {},
   "cell_type": "code",
   "source": "",
   "outputs": [],
   "execution_count": null
  },
  {
   "metadata": {},
   "cell_type": "markdown",
   "source": "##### Задача E"
  },
  {
   "metadata": {},
   "cell_type": "code",
   "source": "",
   "outputs": [],
   "execution_count": null
  },
  {
   "metadata": {},
   "cell_type": "markdown",
   "source": "##### Задача F"
  },
  {
   "metadata": {},
   "cell_type": "code",
   "source": "",
   "outputs": [],
   "execution_count": null
  },
  {
   "metadata": {},
   "cell_type": "markdown",
   "source": "##### Задача G"
  },
  {
   "metadata": {},
   "cell_type": "code",
   "source": "",
   "outputs": [],
   "execution_count": null
  },
  {
   "metadata": {},
   "cell_type": "markdown",
   "source": "##### Задача H"
  },
  {
   "metadata": {},
   "cell_type": "code",
   "source": "",
   "outputs": [],
   "execution_count": null
  },
  {
   "metadata": {},
   "cell_type": "markdown",
   "source": "##### Задача I"
  },
  {
   "metadata": {},
   "cell_type": "code",
   "source": "",
   "outputs": [],
   "execution_count": null
  },
  {
   "metadata": {},
   "cell_type": "markdown",
   "source": [
    "\n",
    "##### Задача J"
   ]
  },
  {
   "metadata": {},
   "cell_type": "code",
   "source": "",
   "outputs": [],
   "execution_count": null
  },
  {
   "metadata": {},
   "cell_type": "markdown",
   "source": "#### 4.3. Рекурсия. Декораторы. Генераторы"
  },
  {
   "metadata": {},
   "cell_type": "markdown",
   "source": "##### Задача A"
  },
  {
   "metadata": {},
   "cell_type": "code",
   "source": "",
   "outputs": [],
   "execution_count": null
  },
  {
   "metadata": {},
   "cell_type": "markdown",
   "source": "##### Задача B"
  },
  {
   "metadata": {},
   "cell_type": "code",
   "source": "",
   "outputs": [],
   "execution_count": null
  },
  {
   "metadata": {},
   "cell_type": "markdown",
   "source": "##### Задача C"
  },
  {
   "metadata": {},
   "cell_type": "code",
   "source": "",
   "outputs": [],
   "execution_count": null
  },
  {
   "metadata": {},
   "cell_type": "markdown",
   "source": "##### Задача D"
  },
  {
   "metadata": {},
   "cell_type": "code",
   "source": "",
   "outputs": [],
   "execution_count": null
  },
  {
   "metadata": {},
   "cell_type": "markdown",
   "source": "##### Задача E"
  },
  {
   "metadata": {},
   "cell_type": "code",
   "source": "",
   "outputs": [],
   "execution_count": null
  },
  {
   "metadata": {},
   "cell_type": "markdown",
   "source": "##### Задача F"
  },
  {
   "metadata": {},
   "cell_type": "code",
   "source": "",
   "outputs": [],
   "execution_count": null
  },
  {
   "metadata": {},
   "cell_type": "markdown",
   "source": "##### Задача G"
  },
  {
   "metadata": {},
   "cell_type": "code",
   "source": "",
   "outputs": [],
   "execution_count": null
  },
  {
   "metadata": {},
   "cell_type": "markdown",
   "source": "##### Задача H"
  },
  {
   "metadata": {},
   "cell_type": "code",
   "source": "",
   "outputs": [],
   "execution_count": null
  },
  {
   "metadata": {},
   "cell_type": "markdown",
   "source": "##### Задача I"
  },
  {
   "metadata": {},
   "cell_type": "code",
   "source": "",
   "outputs": [],
   "execution_count": null
  },
  {
   "metadata": {},
   "cell_type": "markdown",
   "source": "##### Задача J"
  },
  {
   "metadata": {},
   "cell_type": "code",
   "source": "",
   "outputs": [],
   "execution_count": null
  }
 ],
 "metadata": {
  "kernelspec": {
   "display_name": "Python 3",
   "language": "python",
   "name": "python3"
  },
  "language_info": {
   "codemirror_mode": {
    "name": "ipython",
    "version": 3
   },
   "file_extension": ".py",
   "mimetype": "text/x-python",
   "name": "python",
   "nbconvert_exporter": "python",
   "pygments_lexer": "ipython3",
   "version": "3.12.0"
  }
 },
 "nbformat": 4,
 "nbformat_minor": 2
}
