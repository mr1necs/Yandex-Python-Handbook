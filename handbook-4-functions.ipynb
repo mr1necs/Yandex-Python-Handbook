{
 "cells": [
  {
   "cell_type": "markdown",
   "metadata": {},
   "source": "### 4. Функции и их особенности в Python"
  },
  {
   "cell_type": "markdown",
   "metadata": {},
   "source": "#### 4.1. Функции. Области видимости. Передача параметров в функции"
  },
  {
   "cell_type": "markdown",
   "metadata": {},
   "source": [
    "##### Задача A"
   ]
  },
  {
   "cell_type": "code",
   "metadata": {},
   "source": [
    "def print_hello(name):\n",
    "    print(f\"Hello, {name}!\")"
   ],
   "outputs": [],
   "execution_count": null
  },
  {
   "cell_type": "markdown",
   "metadata": {},
   "source": [
    "##### Задача B"
   ]
  },
  {
   "cell_type": "code",
   "metadata": {},
   "source": [
    "def gcd(num1, num2):\n",
    "    while min(num1, num2) != 0:\n",
    "        if num1 > num2:\n",
    "            num1 = num1 % num2\n",
    "        else:\n",
    "            num2 = num2 % num1\n",
    "    return max(num1, num2)"
   ],
   "outputs": [],
   "execution_count": null
  },
  {
   "cell_type": "markdown",
   "metadata": {},
   "source": [
    "##### Задача C"
   ]
  },
  {
   "cell_type": "code",
   "metadata": {},
   "source": [
    "def number_length(num):\n",
    "    return len(str(abs(num)))"
   ],
   "outputs": [],
   "execution_count": null
  },
  {
   "cell_type": "markdown",
   "metadata": {},
   "source": [
    "##### Задача D"
   ]
  },
  {
   "cell_type": "code",
   "metadata": {},
   "source": [
    "def month(num, lang):\n",
    "    month_dict = {\n",
    "        'ru': ['Январь', 'Февраль', 'Март', 'Апрель', 'Май', 'Июнь', \n",
    "               'Июль', 'Август', 'Сентябрь', 'Октябрь', 'Ноябрь', 'Декабрь'],\n",
    "        'en': ['January', 'February', 'March', 'April', 'May', 'June', \n",
    "               'July', 'August', 'September', 'October', 'November', 'December']\n",
    "    }\n",
    "    return month_dict[lang][num - 1]"
   ],
   "outputs": [],
   "execution_count": null
  },
  {
   "cell_type": "markdown",
   "metadata": {},
   "source": [
    "##### Задача E"
   ]
  },
  {
   "cell_type": "code",
   "metadata": {},
   "source": [
    "def split_numbers(string):\n",
    "    return tuple(int(x) for x in string.split())"
   ],
   "outputs": [],
   "execution_count": null
  },
  {
   "cell_type": "markdown",
   "metadata": {},
   "source": [
    "##### Задача F"
   ]
  },
  {
   "cell_type": "code",
   "metadata": {},
   "source": [
    "old_string = set()\n",
    "\n",
    "def modern_print(string):\n",
    "    global old_string\n",
    "    if string not in old_string:\n",
    "        print(string)\n",
    "        old_string.add(string)"
   ],
   "outputs": [],
   "execution_count": null
  },
  {
   "cell_type": "markdown",
   "metadata": {},
   "source": [
    "##### Задача G"
   ]
  },
  {
   "cell_type": "code",
   "metadata": {},
   "source": [
    "def can_eat(coord1, coord2):\n",
    "    dx = abs(coord1[0] - coord2[0])\n",
    "    dy = abs(coord1[1] - coord2[1])\n",
    "    return (dx == 2 and dy == 1) or (dx == 1 and dy == 2)"
   ],
   "outputs": [],
   "execution_count": null
  },
  {
   "cell_type": "markdown",
   "metadata": {},
   "source": [
    "##### Задача H"
   ]
  },
  {
   "cell_type": "code",
   "metadata": {},
   "source": [
    "def is_palindrome(data):\n",
    "    if isinstance(data, int):\n",
    "        data = str(data)\n",
    "    return data == data[::-1]"
   ],
   "outputs": [],
   "execution_count": null
  },
  {
   "cell_type": "markdown",
   "metadata": {},
   "source": [
    "##### Задача I"
   ]
  },
  {
   "cell_type": "code",
   "metadata": {},
   "source": [
    "def is_prime(n):\n",
    "    for i in range(2, int(n ** 0.5) + 1):\n",
    "        if n % i == 0:\n",
    "            return False\n",
    "    return True"
   ],
   "outputs": [],
   "execution_count": null
  },
  {
   "cell_type": "markdown",
   "metadata": {},
   "source": "##### Задача J"
  },
  {
   "cell_type": "code",
   "metadata": {},
   "source": [
    "def merge(tuple1, tuple2):\n",
    "    result = []\n",
    "    i, j = 0, 0\n",
    "    while i < len(tuple1) and j < len(tuple2):\n",
    "        if tuple1[i] < tuple2[j]:\n",
    "            result.append(tuple1[i])\n",
    "            i += 1\n",
    "        else:\n",
    "            result.append(tuple2[j])\n",
    "            j += 1\n",
    "\n",
    "    while i < len(tuple1):\n",
    "        result.append(tuple1[i])\n",
    "        i += 1\n",
    "\n",
    "    while j < len(tuple2):\n",
    "        result.append(tuple2[j])\n",
    "        j += 1\n",
    "\n",
    "    return tuple(result)"
   ],
   "outputs": [],
   "execution_count": null
  },
  {
   "metadata": {},
   "cell_type": "markdown",
   "source": "#### 4.2. Позиционные и именованные аргументы. Функции высших порядков. Лямбда-функции"
  },
  {
   "metadata": {},
   "cell_type": "markdown",
   "source": "##### Задача A\n"
  },
  {
   "metadata": {},
   "cell_type": "code",
   "source": [
    "def make_list(length, value=None):\n",
    "    return [value if value else 0] * length"
   ],
   "outputs": [],
   "execution_count": null
  },
  {
   "metadata": {},
   "cell_type": "markdown",
   "source": "##### Задача B"
  },
  {
   "metadata": {},
   "cell_type": "code",
   "source": [
    "def make_matrix(size, value=0):\n",
    "    if isinstance(size, int):\n",
    "        return [[value for _ in range(size)] for _ in range(size)]\n",
    "    else: \n",
    "        return [[value for _ in range(size[0])] for _ in range(size[1])]"
   ],
   "outputs": [],
   "execution_count": null
  },
  {
   "metadata": {},
   "cell_type": "markdown",
   "source": "##### Задача C"
  },
  {
   "metadata": {},
   "cell_type": "code",
   "source": [
    "def gcd_new(*numbers):\n",
    "    result = numbers[0]\n",
    "    for num in numbers[1:]:\n",
    "        while num:\n",
    "            result, num = num, result % num \n",
    "    return result"
   ],
   "outputs": [],
   "execution_count": null
  },
  {
   "metadata": {},
   "cell_type": "markdown",
   "source": "##### Задача D"
  },
  {
   "metadata": {},
   "cell_type": "code",
   "source": [
    "def month_new(num, lang='ru'):\n",
    "    month_dict = {\n",
    "        'ru': ['Январь', 'Февраль', 'Март', 'Апрель', 'Май', 'Июнь', \n",
    "               'Июль', 'Август', 'Сентябрь', 'Октябрь', 'Ноябрь', 'Декабрь'],\n",
    "        'en': ['January', 'February', 'March', 'April', 'May', 'June', \n",
    "               'July', 'August', 'September', 'October', 'November', 'December']\n",
    "    }\n",
    "    return month_dict[lang][num - 1]"
   ],
   "outputs": [],
   "execution_count": null
  },
  {
   "metadata": {},
   "cell_type": "markdown",
   "source": "##### Задача E"
  },
  {
   "metadata": {},
   "cell_type": "code",
   "source": [
    "def to_string(*data, sep=' ', end='\\n'):\n",
    "    return sep.join(ch for ch in data) + end"
   ],
   "outputs": [],
   "execution_count": null
  },
  {
   "metadata": {},
   "cell_type": "markdown",
   "source": "##### Задача F"
  },
  {
   "metadata": {},
   "cell_type": "code",
   "source": [
    "in_stock = {}\n",
    "\n",
    "\n",
    "def order(*drinks):\n",
    "    global in_stock\n",
    "    for drink in drinks:\n",
    "        match drink:\n",
    "            case \"Эспрессо\":\n",
    "                if in_stock[\"coffee\"] >= 1:\n",
    "                    in_stock[\"coffee\"] -= 1\n",
    "                    return \"Эспрессо\"\n",
    "            case \"Капучино\":\n",
    "                if in_stock[\"coffee\"] >= 1 and in_stock[\"milk\"] >= 3:\n",
    "                    in_stock[\"coffee\"] -= 1\n",
    "                    in_stock[\"milk\"] -= 3\n",
    "                    return \"Капучино\"\n",
    "            case \"Макиато\":\n",
    "                if in_stock[\"coffee\"] >= 2 and in_stock[\"milk\"] >= 1:\n",
    "                    in_stock[\"coffee\"] -= 2\n",
    "                    in_stock[\"milk\"] -= 1\n",
    "                    return \"Макиато\"\n",
    "            case \"Кофе по-венски\":\n",
    "                if in_stock[\"coffee\"] >= 1 and in_stock[\"cream\"] >= 2:\n",
    "                    in_stock[\"coffee\"] -= 1\n",
    "                    in_stock[\"cream\"] -= 2\n",
    "                    return \"Кофе по-венски\"\n",
    "            case \"Латте Макиато\":\n",
    "                if in_stock[\"coffee\"] >= 1 and in_stock[\"milk\"] >= 2 and in_stock[\"cream\"] >= 1:\n",
    "                    in_stock[\"coffee\"] -= 1\n",
    "                    in_stock[\"milk\"] -= 2\n",
    "                    in_stock[\"cream\"] -= 1\n",
    "                    return \"Латте Макиато\"\n",
    "            case \"Кон Панна\":\n",
    "                if in_stock[\"coffee\"] >= 1 and in_stock[\"cream\"] >= 1:\n",
    "                    in_stock[\"coffee\"] -= 1\n",
    "                    in_stock[\"cream\"] -= 1\n",
    "                    return \"Кон Панна\"\n",
    "    return \"К сожалению, не можем предложить Вам напиток\""
   ],
   "outputs": [],
   "execution_count": null
  },
  {
   "metadata": {},
   "cell_type": "markdown",
   "source": "##### Задача G"
  },
  {
   "metadata": {},
   "cell_type": "code",
   "source": [
    "parameters = []\n",
    "\n",
    "\n",
    "def enter_results(*args):\n",
    "    global parameters\n",
    "    parameters += [arg for arg in args]\n",
    "\n",
    "\n",
    "def get_sum():\n",
    "    return sum(parameters[::2]), sum(parameters[1::2])\n",
    "\n",
    "\n",
    "def get_average():\n",
    "    count_pairs = len(parameters) // 2\n",
    "    return sum(parameters[::2]) / count_pairs, sum(parameters[1::2]) / count_pairs"
   ],
   "outputs": [],
   "execution_count": null
  },
  {
   "metadata": {},
   "cell_type": "markdown",
   "source": "##### Задача H"
  },
  {
   "metadata": {},
   "cell_type": "code",
   "source": "lambda word: (len(word), word.lower())",
   "outputs": [],
   "execution_count": null
  },
  {
   "metadata": {},
   "cell_type": "markdown",
   "source": "##### Задача I"
  },
  {
   "metadata": {},
   "cell_type": "code",
   "source": "lambda x: sum(map(int, str(x))) % 2 == 0",
   "outputs": [],
   "execution_count": null
  },
  {
   "metadata": {},
   "cell_type": "markdown",
   "source": [
    "\n",
    "##### Задача J"
   ]
  },
  {
   "metadata": {},
   "cell_type": "code",
   "source": [
    "def secret_replace(entered_text, **replaces):\n",
    "    new_message = ''\n",
    "    counters = {key: 0 for key in replaces}\n",
    "\n",
    "    for i in entered_text:\n",
    "        if i in replaces:\n",
    "            new_message += replaces[i][counters[i] % len(replaces[i])] \n",
    "            counters[i] += 1\n",
    "        else:\n",
    "            new_message += i \n",
    "    \n",
    "    return new_message"
   ],
   "outputs": [],
   "execution_count": null
  },
  {
   "metadata": {},
   "cell_type": "markdown",
   "source": "#### 4.3. Рекурсия. Декораторы. Генераторы"
  },
  {
   "metadata": {},
   "cell_type": "markdown",
   "source": "##### Задача A"
  },
  {
   "metadata": {},
   "cell_type": "code",
   "source": [
    "def recursive_sum(*args):\n",
    "    if not args:\n",
    "        return 0\n",
    "    return args[-1] + recursive_sum(*args[:-1])   "
   ],
   "outputs": [],
   "execution_count": null
  },
  {
   "metadata": {},
   "cell_type": "markdown",
   "source": "##### Задача B"
  },
  {
   "metadata": {},
   "cell_type": "code",
   "source": [
    "def recursive_digit_sum(arg):\n",
    "    return arg % 10 + recursive_digit_sum(arg // 10) if arg else 0"
   ],
   "outputs": [],
   "execution_count": null
  },
  {
   "metadata": {},
   "cell_type": "markdown",
   "source": "##### Задача C"
  },
  {
   "metadata": {},
   "cell_type": "code",
   "source": [
    "def make_equation(*args):\n",
    "    if len(args) <= 1:\n",
    "        return f'{args[-1]}'\n",
    "    return f'({make_equation(*args[:-1])}) * x + {args[-1]}'"
   ],
   "outputs": [],
   "execution_count": null
  },
  {
   "metadata": {},
   "cell_type": "markdown",
   "source": "##### Задача D"
  },
  {
   "metadata": {},
   "cell_type": "code",
   "source": [
    "def answer(function):\n",
    "    def decorated(*args, **kwargs):\n",
    "        return f'Результат функции: {function(*args, **kwargs)}'\n",
    "    return decorated\n",
    "\n",
    "@answer\n",
    "def a_plus_b(a, b):\n",
    "    return a + b"
   ],
   "outputs": [],
   "execution_count": null
  },
  {
   "metadata": {},
   "cell_type": "markdown",
   "source": "##### Задача E"
  },
  {
   "metadata": {},
   "cell_type": "code",
   "source": [
    "def result_accumulator(func):\n",
    "    queue = []\n",
    "\n",
    "    def decorated(*args, method='accumulate', **kwargs):\n",
    "        nonlocal queue\n",
    "        queue.append(func(*args, **kwargs))\n",
    "        if method == 'drop':\n",
    "            result = list(queue)\n",
    "            queue.clear()\n",
    "            return result\n",
    "    return decorated\n",
    "\n",
    "@result_accumulator\n",
    "def a_plus_b(a, b):\n",
    "    return a + b"
   ],
   "outputs": [],
   "execution_count": null
  },
  {
   "metadata": {},
   "cell_type": "markdown",
   "source": "##### Задача F"
  },
  {
   "metadata": {},
   "cell_type": "code",
   "source": [
    "def merge_sort(array):\n",
    "    if len(array) == 1:\n",
    "        return array\n",
    "\n",
    "    left = merge_sort(array[:len(array) // 2])\n",
    "    right = merge_sort(array[len(array) // 2:])\n",
    "\n",
    "    result = []\n",
    "    pos_left = pos_right = 0\n",
    "\n",
    "    while pos_left < len(left) and pos_right < len(right):\n",
    "        if left[pos_left] < right[pos_right]:\n",
    "            result.append(left[pos_left])\n",
    "            pos_left += 1\n",
    "        else:\n",
    "            result.append(right[pos_right])\n",
    "            pos_right += 1\n",
    "\n",
    "    return result + left[pos_left:] + right[pos_right:]     "
   ],
   "outputs": [],
   "execution_count": null
  },
  {
   "metadata": {},
   "cell_type": "markdown",
   "source": "##### Задача G"
  },
  {
   "metadata": {},
   "cell_type": "code",
   "source": [
    "def same_type(func):\n",
    "    def decorated(*args):\n",
    "        if all(isinstance(item, type(args[0])) for item in args[1:]):\n",
    "            return func(*args)\n",
    "        else:\n",
    "            print('Обнаружены различные типы данных')\n",
    "            return False\n",
    "    return decorated\n",
    "\n",
    "@same_type\n",
    "def a_plus_b(a, b):\n",
    "    return a + b"
   ],
   "outputs": [],
   "execution_count": null
  },
  {
   "metadata": {},
   "cell_type": "markdown",
   "source": "##### Задача H"
  },
  {
   "metadata": {},
   "cell_type": "code",
   "source": [
    "def fibonacci(n):\n",
    "    n_1, n_2 = 0, 1\n",
    "    for i in range(n):\n",
    "        yield n_1\n",
    "        n_1, n_2 = n_2, n_1 + n_2"
   ],
   "outputs": [],
   "execution_count": null
  },
  {
   "metadata": {},
   "cell_type": "markdown",
   "source": "##### Задача I"
  },
  {
   "metadata": {},
   "cell_type": "code",
   "source": [
    "def cycle(iterable):\n",
    "    while True:\n",
    "        for item in iterable:\n",
    "            yield item"
   ],
   "outputs": [],
   "execution_count": null
  },
  {
   "metadata": {},
   "cell_type": "markdown",
   "source": "##### Задача J"
  },
  {
   "metadata": {},
   "cell_type": "code",
   "source": [
    "def make_linear(lst):\n",
    "    result = []\n",
    "    for item in lst:\n",
    "        if isinstance(item, list):\n",
    "            result.extend(make_linear(item))\n",
    "        else:\n",
    "            result.append(item)\n",
    "    return result"
   ],
   "outputs": [],
   "execution_count": null
  }
 ],
 "metadata": {
  "kernelspec": {
   "display_name": "Python 3",
   "language": "python",
   "name": "python3"
  },
  "language_info": {
   "codemirror_mode": {
    "name": "ipython",
    "version": 3
   },
   "file_extension": ".py",
   "mimetype": "text/x-python",
   "name": "python",
   "nbconvert_exporter": "python",
   "pygments_lexer": "ipython3",
   "version": "3.12.0"
  }
 },
 "nbformat": 4,
 "nbformat_minor": 2
}
