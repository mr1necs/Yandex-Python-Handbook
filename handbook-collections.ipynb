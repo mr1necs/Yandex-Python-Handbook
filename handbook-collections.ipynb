{
 "cells": [
  {
   "cell_type": "markdown",
   "metadata": {},
   "source": [
    "### 3. Коллекции и работа с памятью"
   ]
  },
  {
   "cell_type": "markdown",
   "metadata": {},
   "source": [
    "#### 3.1. Строки, кортежи, списки"
   ]
  },
  {
   "cell_type": "markdown",
   "metadata": {},
   "source": [
    "##### Задача A"
   ]
  },
  {
   "cell_type": "code",
   "metadata": {},
   "source": [
    "n = int(input())\n",
    "fl = True\n",
    "\n",
    "for _ in range(n):\n",
    "    if not input().lower().startswith(('а', 'б', 'в')):\n",
    "        fl = False\n",
    "    \n",
    "print(\"YES\" if fl else \"NO\")\n"
   ],
   "outputs": [],
   "execution_count": null
  },
  {
   "cell_type": "markdown",
   "metadata": {},
   "source": [
    "##### Задача B"
   ]
  },
  {
   "cell_type": "code",
   "metadata": {},
   "source": [
    "new_list = list(input())\n",
    "for letter in new_list:\n",
    "    print(letter)"
   ],
   "outputs": [],
   "execution_count": null
  },
  {
   "cell_type": "markdown",
   "metadata": {},
   "source": [
    "##### Задача C"
   ]
  },
  {
   "cell_type": "code",
   "metadata": {},
   "source": [
    "max_len = int(input())\n",
    "n = int(input())\n",
    "\n",
    "for _ in range(n):\n",
    "    s = input()\n",
    "    print(s[:(max_len - 3)] + '...') if len(s) > max_len else print(s)"
   ],
   "outputs": [],
   "execution_count": null
  },
  {
   "cell_type": "markdown",
   "metadata": {},
   "source": [
    "##### Задача D"
   ]
  },
  {
   "cell_type": "code",
   "metadata": {},
   "source": [
    "while (s := input()) != '':\n",
    "    if not s.endswith(\"@@@\"):\n",
    "        print(s.lstrip(\"##\"))"
   ],
   "outputs": [],
   "execution_count": null
  },
  {
   "cell_type": "markdown",
   "metadata": {},
   "source": [
    "##### Задача E"
   ]
  },
  {
   "cell_type": "code",
   "metadata": {},
   "source": [
    "new_str = list(input())\n",
    "print(\"YES\" if new_str == list(reversed(new_str)) else \"NO\")"
   ],
   "outputs": [],
   "execution_count": null
  },
  {
   "cell_type": "markdown",
   "metadata": {},
   "source": [
    "##### Задача F"
   ]
  },
  {
   "cell_type": "code",
   "metadata": {},
   "source": [
    "count = 0\n",
    "\n",
    "for _ in range(int(input())):\n",
    "    count += input().lower().count(\"зайка\")\n",
    "\n",
    "print(count)"
   ],
   "outputs": [],
   "execution_count": null
  },
  {
   "cell_type": "markdown",
   "metadata": {},
   "source": [
    "##### Задача G"
   ]
  },
  {
   "cell_type": "code",
   "metadata": {},
   "source": [
    "a, b = map(int, input().split())\n",
    "print(a + b)"
   ],
   "outputs": [],
   "execution_count": null
  },
  {
   "cell_type": "markdown",
   "metadata": {},
   "source": [
    "##### Задача H"
   ]
  },
  {
   "cell_type": "code",
   "metadata": {},
   "source": [
    "for _ in range(int(input())):\n",
    "    s = input().lower().find(\"зайка\")\n",
    "    print(s + 1 if s != -1 else \"Заек нет =(\")"
   ],
   "outputs": [],
   "execution_count": null
  },
  {
   "cell_type": "markdown",
   "metadata": {},
   "source": [
    "##### Задача I"
   ]
  },
  {
   "cell_type": "code",
   "metadata": {},
   "source": [
    "while (s := input()) != '':\n",
    "    if not (pos := s.find('#')) + 1:\n",
    "        print(s)\n",
    "    elif s[:pos]:\n",
    "        print(s[:pos])"
   ],
   "outputs": [],
   "execution_count": null
  },
  {
   "cell_type": "markdown",
   "metadata": {},
   "source": [
    "##### Задача J"
   ]
  },
  {
   "cell_type": "code",
   "metadata": {},
   "source": [
    "char_count = {}\n",
    "\n",
    "while (line := input()) != 'ФИНИШ':\n",
    "    for char in line.lower():\n",
    "        if 'а' <= char <= 'я':\n",
    "            char_count[char] = char_count.get(char, 0) + 1\n",
    "\n",
    "print(min([char for char in char_count if char_count[char] == max(char_count.values())]))  "
   ],
   "outputs": [],
   "execution_count": null
  },
  {
   "cell_type": "markdown",
   "metadata": {},
   "source": [
    "##### Задача K"
   ]
  },
  {
   "cell_type": "code",
   "metadata": {},
   "source": [
    "n = int(input())\n",
    "sites = []\n",
    "\n",
    "for i in range(n):\n",
    "    sites.append(input())\n",
    "\n",
    "key = input().lower()\n",
    "\n",
    "for i in range(n):\n",
    "    if key in sites[i].lower():\n",
    "        print(sites[i])"
   ],
   "outputs": [],
   "execution_count": null
  },
  {
   "cell_type": "markdown",
   "metadata": {},
   "source": [
    "##### Задача L"
   ]
  },
  {
   "cell_type": "code",
   "metadata": {},
   "source": [
    "lib = ['Манная', 'Гречневая', 'Пшённая', 'Овсяная', 'Рисовая']\n",
    "\n",
    "for i in range(int(input())):\n",
    "    print(lib[i % 5])"
   ],
   "outputs": [],
   "execution_count": null
  },
  {
   "cell_type": "markdown",
   "metadata": {},
   "source": [
    "##### Задача M"
   ]
  },
  {
   "cell_type": "code",
   "metadata": {},
   "source": [
    "n = int(input())\n",
    "el = []\n",
    "[el.append(int(input())) for _ in range(n)]\n",
    "\n",
    "p = int(input())\n",
    "for i in el:\n",
    "    print(i ** p)\n"
   ],
   "outputs": [],
   "execution_count": null
  },
  {
   "cell_type": "markdown",
   "metadata": {},
   "source": [
    "##### Задача N"
   ]
  },
  {
   "cell_type": "code",
   "metadata": {},
   "source": [
    "el = list(map(int, input().split()))\n",
    "p = int(input())\n",
    "\n",
    "for i in el:\n",
    "    print(i ** p, end=' ')\n"
   ],
   "outputs": [],
   "execution_count": null
  },
  {
   "cell_type": "markdown",
   "metadata": {},
   "source": [
    "##### Задача O"
   ]
  },
  {
   "cell_type": "code",
   "metadata": {},
   "source": [
    "mas = list(map(int, input().split()))\n",
    "a = mas[0]\n",
    "for i in range(1, len(mas)):\n",
    "    while mas[i]:\n",
    "        a, mas[i] = mas[i], a % mas[i]\n",
    "print(a)"
   ],
   "outputs": [],
   "execution_count": null
  },
  {
   "cell_type": "markdown",
   "metadata": {},
   "source": [
    "##### Задача P"
   ]
  },
  {
   "cell_type": "code",
   "metadata": {},
   "source": [
    "max_len = int(input()) - 3 \n",
    "for _ in range(int(input())):\n",
    "    s = input()\n",
    "    if len(s) < max_len:\n",
    "        print(len(s))\n",
    "        max_len -= len(s)\n",
    "    else:\n",
    "        print(s[:max_len] + '...')\n",
    "        break"
   ],
   "outputs": [],
   "execution_count": null
  },
  {
   "cell_type": "markdown",
   "metadata": {},
   "source": [
    "##### Задача Q"
   ]
  },
  {
   "cell_type": "code",
   "metadata": {},
   "source": [
    "my_str = \"\".join(input().lower().split())\n",
    "print(\"YES\" if my_str == my_str[::-1] else \"NO\")"
   ],
   "outputs": [],
   "execution_count": null
  },
  {
   "cell_type": "markdown",
   "metadata": {},
   "source": [
    "##### Задача R"
   ]
  },
  {
   "cell_type": "code",
   "metadata": {},
   "source": [
    "s = input()\n",
    "count = 1\n",
    "\n",
    "for i in range(1, len(s)):\n",
    "    if s[i] == s[i - 1]:\n",
    "        count += 1\n",
    "    else:\n",
    "        print(s[i - 1], count)\n",
    "        count = 1\n",
    "\n",
    "print(s[-1], count)"
   ],
   "outputs": [],
   "execution_count": null
  },
  {
   "cell_type": "markdown",
   "metadata": {},
   "source": [
    "##### Задача S"
   ]
  },
  {
   "cell_type": "code",
   "metadata": {},
   "source": [
    "s = input().split()\n",
    "stack = []\n",
    "\n",
    "for i in s:\n",
    "    if i in \"*+-\":\n",
    "        a, b = stack.pop(), stack.pop()\n",
    "        stack.append(b * a if i == '*' else b + a if i == '+' else b - a)\n",
    "    else:\n",
    "        stack.append(int(i))\n",
    "\n",
    "print(stack.pop())"
   ],
   "outputs": [],
   "execution_count": null
  },
  {
   "metadata": {},
   "cell_type": "markdown",
   "source": "##### Задача T"
  },
  {
   "metadata": {},
   "cell_type": "code",
   "source": [
    "s = input().split()\n",
    "stack = []\n",
    "\n",
    "for i in s:\n",
    "    if i in \"+-*/\":\n",
    "        a, b = stack.pop(), stack.pop()\n",
    "        stack.append(b + a if i == '+' else b - a if i == '-' else b * a if i == '*' else b // a)\n",
    "    elif i == '~':\n",
    "        stack.append(-stack.pop())\n",
    "    elif i == '!':\n",
    "        a = stack.pop()\n",
    "        factorial = 1\n",
    "        for j in range(2, a + 1):\n",
    "            factorial *= j\n",
    "        stack.append(factorial)\n",
    "    elif i == '#':\n",
    "        stack.append(stack[-1])\n",
    "    elif i == '@':\n",
    "        a, b, c = stack.pop(), stack.pop(), stack.pop()\n",
    "        stack.extend([b, a, c])\n",
    "    else:\n",
    "        stack.append(int(i))\n",
    "\n",
    "print(stack.pop())"
   ],
   "outputs": [],
   "execution_count": null
  },
  {
   "cell_type": "markdown",
   "metadata": {},
   "source": [
    "#### 3.2. Множества, словари"
   ]
  },
  {
   "cell_type": "markdown",
   "metadata": {},
   "source": [
    "##### Задача A"
   ]
  },
  {
   "cell_type": "code",
   "metadata": {},
   "source": [
    "line = set(input())\n",
    "for ch in line:\n",
    "    print(ch, end='')"
   ],
   "outputs": [],
   "execution_count": null
  },
  {
   "cell_type": "markdown",
   "metadata": {},
   "source": [
    "##### Задача B"
   ]
  },
  {
   "cell_type": "code",
   "metadata": {},
   "source": [
    "line1 = set(input())\n",
    "line2 = set(input())\n",
    "for ch in line1 & line2:\n",
    "    print(ch, end='')"
   ],
   "outputs": [],
   "execution_count": null
  },
  {
   "cell_type": "markdown",
   "metadata": {},
   "source": [
    "##### Задача C"
   ]
  },
  {
   "cell_type": "code",
   "metadata": {},
   "source": [
    "words = dict()\n",
    "\n",
    "for _ in range(int(input())):\n",
    "    for word in input().split():\n",
    "        words[word] = words.get(word, [])\n",
    "\n",
    "for key in words.keys():\n",
    "    print(key)"
   ],
   "outputs": [],
   "execution_count": null
  },
  {
   "cell_type": "markdown",
   "metadata": {},
   "source": [
    "##### Задача D"
   ]
  },
  {
   "cell_type": "code",
   "metadata": {},
   "source": [
    "semolina = dict()\n",
    "oatmeal = dict()\n",
    "\n",
    "n_semolina, n_oatmeal = int(input()), int(input())\n",
    "for i in range(n_semolina):\n",
    "    name = input()\n",
    "    semolina[name] = semolina.get(name, [])\n",
    "\n",
    "for i in range(n_oatmeal):\n",
    "    name = input()\n",
    "    oatmeal[name] = oatmeal.get(name, [])\n",
    "\n",
    "count = 0\n",
    "for name in semolina.keys():\n",
    "    if name in oatmeal.keys():\n",
    "        count += 1\n",
    "        \n",
    "print(count if count != 0 else 'Таких нет')"
   ],
   "outputs": [],
   "execution_count": null
  },
  {
   "cell_type": "markdown",
   "metadata": {},
   "source": [
    "##### Задача E"
   ]
  },
  {
   "cell_type": "code",
   "metadata": {},
   "source": [
    "semolina = dict()\n",
    "\n",
    "n_semolina, n_oatmeal = int(input()), int(input())\n",
    "for i in range(n_semolina + n_oatmeal):\n",
    "    name = input()\n",
    "    semolina[name] = semolina.get(name, 0) + 1\n",
    "\n",
    "count = 0\n",
    "for name in semolina.values():\n",
    "    if name == 0:\n",
    "        count += 1\n",
    "\n",
    "print(count if count != 0 else 'Таких нет')"
   ],
   "outputs": [],
   "execution_count": null
  },
  {
   "cell_type": "markdown",
   "metadata": {},
   "source": [
    "##### Задача F"
   ]
  },
  {
   "cell_type": "code",
   "metadata": {},
   "source": [
    "porridge = dict()\n",
    "\n",
    "n_semolina, n_oatmeal = int(input()), int(input())\n",
    "for i in range(n_semolina + n_oatmeal):\n",
    "    name = input()\n",
    "    porridge[name] = porridge.get(name, 0) + 1\n",
    "\n",
    "names = []\n",
    "for name in porridge.keys():\n",
    "    if porridge[name] == 1:\n",
    "        names.append(name)\n",
    "\n",
    "names.sort()        \n",
    "if names:\n",
    "    for name in names:\n",
    "        print(name)\n",
    "else:\n",
    "    print('Таких нет')"
   ],
   "outputs": [],
   "execution_count": null
  },
  {
   "cell_type": "markdown",
   "metadata": {},
   "source": [
    "##### Задача G"
   ]
  },
  {
   "cell_type": "code",
   "metadata": {},
   "source": [
    "changer = {'A': '.-', 'B': '-...', 'C': '-.-.', 'D': '-..', 'E': '.',\n",
    "         'F': '..-.', 'G': '--.', 'H': '....', 'I': '..', 'J': '.---', 'K':\n",
    "         '-.-', 'L': '.-..', 'M': '--', 'N': '-.', 'O': '---', 'P': '.--.',\n",
    "         'Q': '--.-', 'R': '.-.', 'S': '...', 'T': '-', 'U': '..-',\n",
    "         'V': '...-', 'W': '.--', 'X': '-..-', 'Y': '-.--', 'Z': '--..',\n",
    "         '0': '-----', '1': '.----', '2': '..---', '3': '...--', '4': '....-',\n",
    "         '5': '.....', '6': '-....', '7': '--...', '8': '---..', '9': '----.'}\n",
    "\n",
    "for char in input():\n",
    "    if char != ' ':\n",
    "        print(changer[char.upper()], end=' ')\n",
    "    else:\n",
    "        print()"
   ],
   "outputs": [],
   "execution_count": null
  },
  {
   "cell_type": "markdown",
   "metadata": {},
   "source": [
    "##### Задача H"
   ]
  },
  {
   "cell_type": "code",
   "metadata": {},
   "source": [
    "n = int(input())\n",
    "porridge = dict()\n",
    "\n",
    "for _ in range(n):\n",
    "    line = input().split()\n",
    "    for i in range(1, len(line)):\n",
    "        porridge[line[i]] = porridge.get(line[i], ' ') + str(line[0]) + ' '\n",
    "    \n",
    "verification = input()\n",
    "try:\n",
    "    names = str(porridge[verification]).split()\n",
    "    names.sort()\n",
    "except KeyError:\n",
    "    names = []\n",
    "    \n",
    "if names:\n",
    "    for name in names:\n",
    "        print(name)\n",
    "else:\n",
    "    print('Таких нет')"
   ],
   "outputs": [],
   "execution_count": null
  },
  {
   "cell_type": "markdown",
   "metadata": {},
   "source": [
    "##### Задача I"
   ]
  },
  {
   "cell_type": "code",
   "metadata": {},
   "source": [
    "objects = dict()\n",
    "\n",
    "while (line := input()) != '':\n",
    "    line = line.split()\n",
    "    for i in range(len(line)):\n",
    "        objects[line[i]] = objects.get(line[i], 0) + 1\n",
    "\n",
    "for name in objects.keys():\n",
    "    print(name, objects[name])"
   ],
   "outputs": [],
   "execution_count": null
  },
  {
   "cell_type": "markdown",
   "metadata": {},
   "source": [
    "##### Задача J"
   ]
  },
  {
   "cell_type": "code",
   "metadata": {},
   "source": [
    "Transcript = {'А': 'A', 'Б': 'B', 'В': 'V', 'Г': 'G', 'Д': 'D', 'Е': 'E', 'Ё': 'E', 'Ж': 'ZH', \n",
    "              'З': 'Z', 'И': 'I', 'Й': 'I', 'К': 'K', 'Л': 'L', 'М': 'M', 'Н': 'N', 'О': 'O', \n",
    "              'П': 'P', 'Р': 'R', 'С': 'S', 'Т': 'T', 'У': 'U', 'Ф': 'F', 'Х': 'KH', 'Ц': 'TC', \n",
    "              'Ч': 'CH', 'Ш': 'SH', 'Щ': 'SHCH', 'Ы': 'Y', 'Э': 'E', 'Ю': 'IU', 'Я': 'IA'}\n",
    "\n",
    "line = input()\n",
    "for i in range(len(line)):\n",
    "    if line[i].upper() in Transcript:\n",
    "        if line[i].isupper():\n",
    "            print(Transcript[line[i].upper()].title(), end='')\n",
    "        else:\n",
    "            print(Transcript[line[i].upper()].lower(), end='')\n",
    "    elif line[i].lower() not in ['ь', \"ъ\"]: \n",
    "        print(line[i], end='')"
   ],
   "outputs": [],
   "execution_count": null
  },
  {
   "cell_type": "markdown",
   "metadata": {},
   "source": [
    "##### Задача K"
   ]
  },
  {
   "cell_type": "code",
   "metadata": {},
   "source": [
    "names = dict()\n",
    "\n",
    "for _ in range(int(input())):\n",
    "    name = input()\n",
    "    names[name] = names.get(name, 0) + 1\n",
    "\n",
    "count_flag = False\n",
    "new_names = []\n",
    "for name in names:\n",
    "    if names[name] > 1:\n",
    "        new_names.append(name)\n",
    "        \n",
    "new_names.sort()\n",
    "for name in new_names:\n",
    "    print(f\"{name} - {names[name]}\")\n",
    "    count_flag = True\n",
    "\n",
    "if not count_flag:\n",
    "    print(\"Однофамильцев нет\")"
   ],
   "outputs": [],
   "execution_count": null
  },
  {
   "cell_type": "markdown",
   "metadata": {},
   "source": [
    "##### Задача L"
   ]
  },
  {
   "cell_type": "code",
   "metadata": {},
   "source": [
    "dishes = dict()\n",
    "\n",
    "for _ in range(int(input())):\n",
    "    dish = input()\n",
    "    dishes[dish] = dishes.get(dish, 0) + 1\n",
    "\n",
    "n = int(input())\n",
    "for _ in range(n):\n",
    "    for _ in range(int(input())):\n",
    "        dish = input()\n",
    "        dishes[dish] = dishes[dish] + 1\n",
    "    \n",
    "curr_dishes = []\n",
    "for dish in dishes:\n",
    "    if dishes[dish] == 1:\n",
    "        curr_dishes.append(dish)\n",
    "\n",
    "if curr_dishes:\n",
    "    curr_dishes.sort()\n",
    "    for dish in curr_dishes:\n",
    "        print(dish)\n",
    "else:\n",
    "    print(\"Готовить нечего\")"
   ],
   "outputs": [],
   "execution_count": null
  },
  {
   "cell_type": "markdown",
   "metadata": {},
   "source": [
    "##### Задача M"
   ]
  },
  {
   "cell_type": "code",
   "metadata": {},
   "source": [
    "dishes = dict()\n",
    "\n",
    "for _ in range(int(input())):\n",
    "    dish = input()\n",
    "    dishes[dish] = dishes.get(dish, 0) + 1\n",
    "\n",
    "n = int(input())\n",
    "for _ in range(n):\n",
    "    for _ in range(int(input())):\n",
    "        dish = input()\n",
    "        dishes[dish] = dishes[dish] + 1\n",
    "    \n",
    "curr_dishes = []\n",
    "for dish in dishes:\n",
    "    if dishes[dish] == 1:\n",
    "        curr_dishes.append(dish)\n",
    "\n",
    "if curr_dishes:\n",
    "    curr_dishes.sort()\n",
    "    for dish in curr_dishes:\n",
    "        print(dish)\n",
    "else:\n",
    "    print(\"Готовить нечего\")"
   ],
   "outputs": [],
   "execution_count": null
  },
  {
   "cell_type": "markdown",
   "metadata": {},
   "source": [
    "##### Задача N"
   ]
  },
  {
   "cell_type": "code",
   "metadata": {},
   "source": [
    "dishes = dict()\n",
    "products = {input(): 0 for _ in range(int(input()))}\n",
    "\n",
    "for _ in range(int(input())):\n",
    "    dish = input()\n",
    "    n_products = int(input())\n",
    "    enough = 0\n",
    "    for _ in range(n_products):\n",
    "            enough += 1 if input() in products else 0\n",
    "    if enough == n_products:\n",
    "        dishes[dish] = dishes.get(dish, 0)\n",
    "\n",
    "curr_dishes = sorted(dishes)\n",
    "\n",
    "if curr_dishes:\n",
    "    for dish in curr_dishes:\n",
    "        print(dish)\n",
    "else:\n",
    "    print(\"Готовить нечего\")"
   ],
   "outputs": [],
   "execution_count": null
  },
  {
   "cell_type": "markdown",
   "metadata": {},
   "source": [
    "##### Задача O"
   ]
  },
  {
   "cell_type": "code",
   "metadata": {},
   "source": [
    "numbers = list(map(int, input().split()))\n",
    "print(\"[\")\n",
    "for (i, decimal_number) in enumerate(numbers):\n",
    "    binary_number = bin(decimal_number)[2:]\n",
    "    print(\"{\")\n",
    "    print(f'\"digits\": {len(binary_number)},')\n",
    "    print(f'\"units\": {binary_number.count('1')},')\n",
    "    print(f'\"zeros\": {binary_number.count('0')}')\n",
    "    print(\"}\", end=\"\\n\" if i == len(numbers) - 1 else \",\\n\")\n",
    "print(\"]\")\n",
    "    "
   ],
   "outputs": [],
   "execution_count": null
  },
  {
   "cell_type": "markdown",
   "metadata": {},
   "source": [
    "##### Задача P"
   ]
  },
  {
   "cell_type": "code",
   "metadata": {},
   "source": [
    "objects = set()\n",
    "\n",
    "while line := input().split():\n",
    "    for i in range(len(line)):\n",
    "        if line[i] == 'зайка':\n",
    "            if i > 1:\n",
    "                objects.add(line[i - 1])\n",
    "            if i < len(line) - 1:\n",
    "                objects.add(line[i + 1])\n",
    "\n",
    "for name in objects:\n",
    "    print(name)"
   ],
   "outputs": [],
   "execution_count": null
  },
  {
   "metadata": {},
   "cell_type": "code",
   "source": "",
   "outputs": [],
   "execution_count": null
  },
  {
   "cell_type": "markdown",
   "metadata": {},
   "source": [
    "##### Задача Q"
   ]
  },
  {
   "cell_type": "code",
   "metadata": {},
   "source": [
    "friends = {}\n",
    "\n",
    "while pair := input():\n",
    "    friend1, friend2 = pair.split()\n",
    "    friends[friend1] = friends.get(friend1, set()) | {friend2}\n",
    "    friends[friend2] = friends.get(friend2, set()) | {friend1}\n",
    "\n",
    "friends_of_friends = {}\n",
    "for name in sorted(friends):\n",
    "    for person in friends[name]:\n",
    "        friends_of_friends[name] = friends_of_friends.get(\n",
    "            name, set()) | friends[person]\n",
    "\n",
    "for name in friends_of_friends:\n",
    "    friends_of_friends[name].discard(name)\n",
    "    friends_of_friends[name] -= friends[name]\n",
    "\n",
    "    friends_of_friends[name] = sorted(friends_of_friends[name])\n",
    "\n",
    "    print(f'{name}: {\", \".join(friends_of_friends[name])}')"
   ],
   "outputs": [],
   "execution_count": null
  },
  {
   "cell_type": "markdown",
   "metadata": {},
   "source": [
    "##### Задача R"
   ]
  },
  {
   "cell_type": "code",
   "metadata": {},
   "source": [
    "treasures = dict()\n",
    "\n",
    "for _ in range(count := int(input())):\n",
    "    x, y = input().split()\n",
    "    index = (int(x) // 10, int(y) // 10)\n",
    "    treasures[index] = treasures.get(index, 0) + 1\n",
    "\n",
    "print(max(treasures.values()))"
   ],
   "outputs": [],
   "execution_count": null
  },
  {
   "cell_type": "markdown",
   "metadata": {},
   "source": [
    "##### Задача S"
   ]
  },
  {
   "cell_type": "code",
   "metadata": {},
   "source": [
    "toys = []\n",
    "unique = []\n",
    "\n",
    "for _ in range(int(input())):\n",
    "    name, string = input().split(': ')\n",
    "    toys.extend(set(string.split(', ')))  \n",
    "\n",
    "for i in range(len(toys)):\n",
    "    toy = toys.pop(0)\n",
    "    if toy not in toys:\n",
    "        unique.append(toy)\n",
    "    toys.append(toy)\n",
    "\n",
    "print('\\n'.join(sorted(unique)))"
   ],
   "outputs": [],
   "execution_count": null
  },
  {
   "cell_type": "markdown",
   "metadata": {},
   "source": [
    "##### Задача T"
   ]
  },
  {
   "cell_type": "code",
   "metadata": {},
   "source": [
    "items = set(input().split('; '))\n",
    "\n",
    "numbers = []\n",
    "\n",
    "for item in items:\n",
    "    numbers.append(int(item))\n",
    "\n",
    "numbers.sort()\n",
    "\n",
    "for num1 in numbers:\n",
    "    mutually = []\n",
    "    for num2 in numbers:\n",
    "        if num1 != num2:\n",
    "            a, b = num1, num2\n",
    "            while b != 0:\n",
    "                a, b = b, a % b\n",
    "            if a == 1:\n",
    "                mutually.append(str(num2))\n",
    "    if mutually:\n",
    "        print(num1, '-', \", \".join(mutually))"
   ],
   "outputs": [],
   "execution_count": null
  },
  {
   "cell_type": "markdown",
   "metadata": {},
   "source": "#### 3.3. Списочные выражения. Модель памяти для типов языка Python"
  },
  {
   "cell_type": "markdown",
   "metadata": {},
   "source": [
    "##### Задача A"
   ]
  },
  {
   "cell_type": "code",
   "metadata": {},
   "source": [
    "a = int(input())\n",
    "b = int(input())\n",
    "\n",
    "print([i ** 2 for i in range(a, b + 1)])"
   ],
   "outputs": [],
   "execution_count": null
  },
  {
   "cell_type": "markdown",
   "metadata": {},
   "source": [
    "##### Задача B"
   ]
  },
  {
   "cell_type": "code",
   "metadata": {},
   "source": [
    "n = int(input())\n",
    "\n",
    "print([[i * j for i in range(1, n + 1)] for j in range(1, n + 1)])"
   ],
   "outputs": [],
   "execution_count": null
  },
  {
   "cell_type": "markdown",
   "metadata": {},
   "source": [
    "##### Задача C"
   ]
  },
  {
   "cell_type": "code",
   "metadata": {},
   "source": [
    "sentence = input()\n",
    "\n",
    "print([len(word) for word in sentence.split()])"
   ],
   "outputs": [],
   "execution_count": null
  },
  {
   "cell_type": "markdown",
   "metadata": {},
   "source": [
    "##### Задача D"
   ]
  },
  {
   "cell_type": "code",
   "metadata": {},
   "source": [
    "numbers = [int(i) for i in input().split()]\n",
    "\n",
    "print({number for number in numbers if number % 2 == 1})"
   ],
   "outputs": [],
   "execution_count": null
  },
  {
   "cell_type": "markdown",
   "metadata": {},
   "source": [
    "##### Задача E"
   ]
  },
  {
   "cell_type": "code",
   "metadata": {},
   "source": [
    "numbers = [int(i) for i in input().split()]\n",
    "\n",
    "print({num for num in numbers if num ** 0.5 % 1 == 0})"
   ],
   "outputs": [],
   "execution_count": null
  },
  {
   "cell_type": "markdown",
   "metadata": {},
   "source": [
    "##### Задача F"
   ]
  },
  {
   "cell_type": "code",
   "metadata": {},
   "source": [
    "text = input()\n",
    "\n",
    "print({letter: text.lower().count(letter) for letter in set(text.lower()) if letter.isalpha()})"
   ],
   "outputs": [],
   "execution_count": null
  },
  {
   "cell_type": "markdown",
   "metadata": {},
   "source": [
    "##### Задача G"
   ]
  },
  {
   "cell_type": "code",
   "metadata": {},
   "source": [
    "numbers = [int(i) for i in input().split()]\n",
    "\n",
    "print({num: [i for i in range(1, num + 1) if num % i == 0] for num in numbers})"
   ],
   "outputs": [],
   "execution_count": null
  },
  {
   "cell_type": "markdown",
   "metadata": {},
   "source": [
    "##### Задача H"
   ]
  },
  {
   "cell_type": "code",
   "metadata": {
    "ExecuteTime": {
     "end_time": "2024-11-19T10:17:45.083636Z",
     "start_time": "2024-11-19T10:17:35.577549Z"
    }
   },
   "source": [
    "string = input()\n",
    "\n",
    "print(''.join(word[0].upper() for word in string.split()))"
   ],
   "outputs": [
    {
     "name": "stdout",
     "output_type": "stream",
     "text": [
      "<generator object <genexpr> at 0x1068d9700>\n"
     ]
    }
   ],
   "execution_count": 1
  },
  {
   "cell_type": "markdown",
   "metadata": {},
   "source": [
    "##### Задача I"
   ]
  },
  {
   "cell_type": "code",
   "metadata": {
    "ExecuteTime": {
     "end_time": "2024-11-19T10:26:07.803391Z",
     "start_time": "2024-11-19T10:26:04.927722Z"
    }
   },
   "source": [
    "numbers = [int(i) for i in input().split()]\n",
    "\n",
    "print(' - '.join(str(num) for num in sorted(set(numbers))))"
   ],
   "outputs": [
    {
     "name": "stdout",
     "output_type": "stream",
     "text": [
      "1 - 2 - 3\n"
     ]
    }
   ],
   "execution_count": 7
  },
  {
   "cell_type": "markdown",
   "metadata": {},
   "source": [
    "##### Задача J"
   ]
  },
  {
   "cell_type": "code",
   "metadata": {
    "ExecuteTime": {
     "end_time": "2024-11-19T10:29:53.849401Z",
     "start_time": "2024-11-19T10:29:53.843325Z"
    }
   },
   "source": [
    "rle = [('a', 2), ('b', 3), ('c', 1)]\n",
    "\n",
    "print(''.join(''.join(ch for _ in range(value)) for (ch, value) in rle))"
   ],
   "outputs": [
    {
     "name": "stdout",
     "output_type": "stream",
     "text": [
      "aabbbc\n"
     ]
    }
   ],
   "execution_count": 8
  },
  {
   "cell_type": "markdown",
   "metadata": {},
   "source": [
    "#### 3.4. Встроенные возможности по работе с коллекциями"
   ]
  },
  {
   "cell_type": "markdown",
   "metadata": {},
   "source": [
    "##### Задача A"
   ]
  },
  {
   "cell_type": "code",
   "metadata": {},
   "source": "",
   "outputs": [],
   "execution_count": null
  },
  {
   "cell_type": "markdown",
   "metadata": {},
   "source": [
    "##### Задача B"
   ]
  },
  {
   "cell_type": "code",
   "metadata": {},
   "source": "",
   "outputs": [],
   "execution_count": null
  },
  {
   "cell_type": "markdown",
   "metadata": {},
   "source": [
    "##### Задача C"
   ]
  },
  {
   "cell_type": "code",
   "metadata": {},
   "source": "",
   "outputs": [],
   "execution_count": null
  },
  {
   "cell_type": "markdown",
   "metadata": {},
   "source": [
    "##### Задача D"
   ]
  },
  {
   "cell_type": "code",
   "metadata": {},
   "source": "",
   "outputs": [],
   "execution_count": null
  },
  {
   "cell_type": "markdown",
   "metadata": {},
   "source": [
    "##### Задача E"
   ]
  },
  {
   "cell_type": "code",
   "metadata": {},
   "source": "",
   "outputs": [],
   "execution_count": null
  },
  {
   "cell_type": "markdown",
   "metadata": {},
   "source": [
    "##### Задача F"
   ]
  },
  {
   "cell_type": "code",
   "metadata": {},
   "source": "",
   "outputs": [],
   "execution_count": null
  },
  {
   "cell_type": "markdown",
   "metadata": {},
   "source": [
    "##### Задача G"
   ]
  },
  {
   "cell_type": "code",
   "metadata": {},
   "source": [],
   "outputs": [],
   "execution_count": null
  },
  {
   "cell_type": "markdown",
   "metadata": {},
   "source": [
    "##### Задача H"
   ]
  },
  {
   "cell_type": "code",
   "metadata": {},
   "source": [],
   "outputs": [],
   "execution_count": null
  },
  {
   "cell_type": "markdown",
   "metadata": {},
   "source": [
    "##### Задача I"
   ]
  },
  {
   "cell_type": "code",
   "metadata": {},
   "source": [],
   "outputs": [],
   "execution_count": null
  },
  {
   "cell_type": "markdown",
   "metadata": {},
   "source": [
    "##### Задача J"
   ]
  },
  {
   "cell_type": "code",
   "metadata": {},
   "source": [],
   "outputs": [],
   "execution_count": null
  },
  {
   "cell_type": "markdown",
   "metadata": {},
   "source": [
    "##### Задача K"
   ]
  },
  {
   "cell_type": "code",
   "metadata": {},
   "source": [],
   "outputs": [],
   "execution_count": null
  },
  {
   "cell_type": "markdown",
   "metadata": {},
   "source": [
    "##### Задача L"
   ]
  },
  {
   "cell_type": "code",
   "metadata": {},
   "source": [],
   "outputs": [],
   "execution_count": null
  },
  {
   "cell_type": "markdown",
   "metadata": {},
   "source": [
    "##### Задача M"
   ]
  },
  {
   "cell_type": "code",
   "metadata": {},
   "source": [],
   "outputs": [],
   "execution_count": null
  },
  {
   "cell_type": "markdown",
   "metadata": {},
   "source": [
    "##### Задача N"
   ]
  },
  {
   "cell_type": "code",
   "metadata": {},
   "source": [],
   "outputs": [],
   "execution_count": null
  },
  {
   "cell_type": "markdown",
   "metadata": {},
   "source": [
    "##### Задача O"
   ]
  },
  {
   "cell_type": "code",
   "metadata": {},
   "source": [],
   "outputs": [],
   "execution_count": null
  },
  {
   "cell_type": "markdown",
   "metadata": {},
   "source": [
    "##### Задача P"
   ]
  },
  {
   "cell_type": "code",
   "metadata": {},
   "source": [],
   "outputs": [],
   "execution_count": null
  },
  {
   "cell_type": "markdown",
   "metadata": {},
   "source": [
    "##### Задача Q"
   ]
  },
  {
   "cell_type": "code",
   "metadata": {},
   "source": [],
   "outputs": [],
   "execution_count": null
  },
  {
   "cell_type": "markdown",
   "metadata": {},
   "source": [
    "##### Задача R"
   ]
  },
  {
   "cell_type": "code",
   "metadata": {},
   "source": [],
   "outputs": [],
   "execution_count": null
  },
  {
   "cell_type": "markdown",
   "metadata": {},
   "source": [
    "##### Задача S"
   ]
  },
  {
   "cell_type": "code",
   "metadata": {},
   "source": [],
   "outputs": [],
   "execution_count": null
  },
  {
   "cell_type": "markdown",
   "metadata": {},
   "source": [
    "##### Задача T"
   ]
  },
  {
   "cell_type": "code",
   "metadata": {},
   "source": [],
   "outputs": [],
   "execution_count": null
  },
  {
   "cell_type": "markdown",
   "metadata": {},
   "source": [
    "#### 3.5. Потоковый ввод/вывод. Работа с текстовыми файлами. JSON"
   ]
  },
  {
   "cell_type": "markdown",
   "metadata": {},
   "source": [
    "##### Задача A"
   ]
  },
  {
   "cell_type": "code",
   "metadata": {},
   "source": [],
   "outputs": [],
   "execution_count": null
  },
  {
   "cell_type": "markdown",
   "metadata": {},
   "source": [
    "##### Задача B"
   ]
  },
  {
   "cell_type": "code",
   "metadata": {},
   "source": [],
   "outputs": [],
   "execution_count": null
  },
  {
   "cell_type": "markdown",
   "metadata": {},
   "source": [
    "##### Задача C"
   ]
  },
  {
   "cell_type": "code",
   "metadata": {},
   "source": [],
   "outputs": [],
   "execution_count": null
  },
  {
   "cell_type": "markdown",
   "metadata": {},
   "source": [
    "##### Задача D"
   ]
  },
  {
   "cell_type": "code",
   "metadata": {},
   "source": [],
   "outputs": [],
   "execution_count": null
  },
  {
   "cell_type": "markdown",
   "metadata": {},
   "source": [
    "##### Задача E"
   ]
  },
  {
   "cell_type": "code",
   "metadata": {},
   "source": [],
   "outputs": [],
   "execution_count": null
  },
  {
   "cell_type": "markdown",
   "metadata": {},
   "source": [
    "##### Задача F"
   ]
  },
  {
   "cell_type": "code",
   "metadata": {},
   "source": [],
   "outputs": [],
   "execution_count": null
  },
  {
   "cell_type": "markdown",
   "metadata": {},
   "source": [
    "##### Задача G"
   ]
  },
  {
   "cell_type": "code",
   "metadata": {},
   "source": [],
   "outputs": [],
   "execution_count": null
  },
  {
   "cell_type": "markdown",
   "metadata": {},
   "source": [
    "##### Задача H"
   ]
  },
  {
   "cell_type": "code",
   "metadata": {},
   "source": [],
   "outputs": [],
   "execution_count": null
  },
  {
   "cell_type": "markdown",
   "metadata": {},
   "source": [
    "##### Задача I"
   ]
  },
  {
   "cell_type": "code",
   "metadata": {},
   "source": [],
   "outputs": [],
   "execution_count": null
  },
  {
   "cell_type": "markdown",
   "metadata": {},
   "source": [
    "##### Задача J"
   ]
  },
  {
   "cell_type": "code",
   "metadata": {},
   "source": [],
   "outputs": [],
   "execution_count": null
  },
  {
   "cell_type": "markdown",
   "metadata": {},
   "source": [
    "##### Задача K"
   ]
  },
  {
   "cell_type": "code",
   "metadata": {},
   "source": [],
   "outputs": [],
   "execution_count": null
  },
  {
   "cell_type": "markdown",
   "metadata": {},
   "source": [
    "##### Задача L"
   ]
  },
  {
   "cell_type": "code",
   "metadata": {},
   "source": [],
   "outputs": [],
   "execution_count": null
  },
  {
   "cell_type": "markdown",
   "metadata": {},
   "source": [
    "##### Задача M"
   ]
  },
  {
   "cell_type": "code",
   "metadata": {},
   "source": [],
   "outputs": [],
   "execution_count": null
  },
  {
   "cell_type": "markdown",
   "metadata": {},
   "source": [
    "##### Задача N"
   ]
  },
  {
   "cell_type": "code",
   "metadata": {},
   "source": [],
   "outputs": [],
   "execution_count": null
  },
  {
   "cell_type": "markdown",
   "metadata": {},
   "source": [
    "##### Задача O"
   ]
  },
  {
   "cell_type": "code",
   "metadata": {},
   "source": [],
   "outputs": [],
   "execution_count": null
  },
  {
   "cell_type": "markdown",
   "metadata": {},
   "source": [
    "##### Задача P"
   ]
  },
  {
   "cell_type": "code",
   "metadata": {},
   "source": [],
   "outputs": [],
   "execution_count": null
  },
  {
   "cell_type": "markdown",
   "metadata": {},
   "source": [
    "##### Задача Q"
   ]
  },
  {
   "cell_type": "code",
   "metadata": {},
   "source": [],
   "outputs": [],
   "execution_count": null
  },
  {
   "cell_type": "markdown",
   "metadata": {},
   "source": [
    "##### Задача R"
   ]
  },
  {
   "cell_type": "code",
   "metadata": {},
   "source": [],
   "outputs": [],
   "execution_count": null
  },
  {
   "cell_type": "markdown",
   "metadata": {},
   "source": [
    "##### Задача S"
   ]
  },
  {
   "cell_type": "code",
   "metadata": {},
   "source": [],
   "outputs": [],
   "execution_count": null
  },
  {
   "cell_type": "markdown",
   "metadata": {},
   "source": "##### Задача T"
  },
  {
   "cell_type": "code",
   "metadata": {},
   "source": [],
   "outputs": [],
   "execution_count": null
  }
 ],
 "metadata": {
  "kernelspec": {
   "display_name": "Python 3",
   "language": "python",
   "name": "python3"
  },
  "language_info": {
   "codemirror_mode": {
    "name": "ipython",
    "version": 3
   },
   "file_extension": ".py",
   "mimetype": "text/x-python",
   "name": "python",
   "nbconvert_exporter": "python",
   "pygments_lexer": "ipython3",
   "version": "3.12.0"
  }
 },
 "nbformat": 4,
 "nbformat_minor": 2
}
