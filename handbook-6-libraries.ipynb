{
 "cells": [
  {
   "cell_type": "markdown",
   "metadata": {},
   "source": "### 6. Библиотеки для получения и обработки данных"
  },
  {
   "cell_type": "markdown",
   "metadata": {},
   "source": "#### 6.1. Модули math и numpy"
  },
  {
   "cell_type": "markdown",
   "metadata": {},
   "source": [
    "##### Задача A"
   ]
  },
  {
   "cell_type": "code",
   "metadata": {},
   "source": [
    "import math\n",
    "\n",
    "x = float(input())\n",
    "print(math.log(math.pow(x, 3 / 16), 32) +\n",
    "      math.pow(x, math.cos(math.pi * x / (2 * math.e))) -\n",
    "      math.pow(math.sin(x / math.pi), 2))"
   ],
   "outputs": [],
   "execution_count": null
  },
  {
   "cell_type": "markdown",
   "metadata": {},
   "source": [
    "##### Задача B"
   ]
  },
  {
   "cell_type": "code",
   "metadata": {},
   "source": [
    "from sys import stdin\n",
    "import math\n",
    "\n",
    "for line in stdin:\n",
    "    line = list(map(int, line.split()))\n",
    "    print(math.gcd(*line))"
   ],
   "outputs": [],
   "execution_count": null
  },
  {
   "cell_type": "markdown",
   "metadata": {},
   "source": [
    "##### Задача C"
   ]
  },
  {
   "cell_type": "code",
   "metadata": {},
   "source": [
    "import math\n",
    "\n",
    "n, m = map(int, input().split())\n",
    "all_comb = math.comb(n, m)\n",
    "print(int(all_comb * m // n), all_comb)"
   ],
   "outputs": [],
   "execution_count": null
  },
  {
   "cell_type": "markdown",
   "metadata": {},
   "source": [
    "##### Задача D"
   ]
  },
  {
   "cell_type": "code",
   "metadata": {},
   "source": [
    "import math\n",
    "\n",
    "line = list(map(float, input().split()))\n",
    "print(math.pow(math.prod(line), 1 / len(line)))"
   ],
   "outputs": [],
   "execution_count": null
  },
  {
   "cell_type": "markdown",
   "metadata": {},
   "source": [
    "##### Задача E"
   ]
  },
  {
   "cell_type": "code",
   "metadata": {},
   "source": [
    "import math\n",
    "\n",
    "x, y = map(float, input().split())\n",
    "r, f = map(float, input().split())\n",
    "print(math.dist((x, y), (r * math.cos(f), r * math.sin(f))))"
   ],
   "outputs": [],
   "execution_count": null
  },
  {
   "cell_type": "markdown",
   "metadata": {},
   "source": [
    "##### Задача F"
   ]
  },
  {
   "cell_type": "code",
   "metadata": {},
   "source": [
    "import numpy as np\n",
    "\n",
    "\n",
    "def multiplication_matrix(number):\n",
    "    row = np.arange(1, number + 1)\n",
    "    return np.outer(row, row)"
   ],
   "outputs": [],
   "execution_count": null
  },
  {
   "cell_type": "markdown",
   "metadata": {},
   "source": [
    "##### Задача G"
   ]
  },
  {
   "cell_type": "code",
   "metadata": {},
   "source": [
    "import numpy as np\n",
    "\n",
    "\n",
    "def make_board(number):\n",
    "    board = np.ones((number, number), dtype='int8')\n",
    "    board[1::2, 0::2] = 0\n",
    "    board[0::2, 1::2] = 0\n",
    "    return board"
   ],
   "outputs": [],
   "execution_count": null
  },
  {
   "cell_type": "markdown",
   "metadata": {},
   "source": [
    "##### Задача H"
   ]
  },
  {
   "cell_type": "code",
   "metadata": {},
   "source": [
    "import numpy as np\n",
    "\n",
    "\n",
    "def snake(width, height, direction='H'):\n",
    "    matrix = np.arange(1, width * height + 1, dtype='int16')\n",
    "    if direction == 'H':\n",
    "        matrix = matrix.reshape((height, width))\n",
    "        matrix[1::2] = matrix[1::2][:, ::-1]\n",
    "    else:\n",
    "        matrix = matrix.reshape((width, height)).transpose()\n",
    "        matrix[:, 1::2] = matrix[::-1, 1::2]\n",
    "    return matrix"
   ],
   "outputs": [],
   "execution_count": null
  },
  {
   "cell_type": "markdown",
   "metadata": {},
   "source": [
    "##### Задача I"
   ]
  },
  {
   "cell_type": "code",
   "metadata": {},
   "source": [
    "import numpy as np\n",
    "\n",
    "\n",
    "def rotate(matrix, angle):\n",
    "    return np.rot90(matrix, -angle // 90)"
   ],
   "outputs": [],
   "execution_count": null
  },
  {
   "cell_type": "markdown",
   "metadata": {},
   "source": [
    "##### Задача J"
   ]
  },
  {
   "cell_type": "code",
   "metadata": {},
   "source": [
    "import numpy as np\n",
    "\n",
    "\n",
    "def stairs(row):\n",
    "    matrix = np.zeros((len(row), len(row)), dtype='int16')\n",
    "    for i in range(len(row)):\n",
    "        matrix[i] = np.roll(row, i)\n",
    "    return matrix"
   ],
   "outputs": [],
   "execution_count": null
  },
  {
   "metadata": {},
   "cell_type": "markdown",
   "source": "#### 6.2. Модуль pandas"
  },
  {
   "metadata": {},
   "cell_type": "markdown",
   "source": "##### Задача A\n"
  },
  {
   "metadata": {},
   "cell_type": "code",
   "source": [
    "import pandas as pd\n",
    "import re\n",
    "\n",
    "\n",
    "def length_stats(enter_line):\n",
    "    enter_line = re.sub(r'[^a-zA-Zа-яА-ЯёЁ\\s]', '', enter_line.lower()).split()\n",
    "    words = {word: len(word) for word in sorted(enter_line)}\n",
    "    return pd.Series(words, dtype='int64')"
   ],
   "outputs": [],
   "execution_count": null
  },
  {
   "metadata": {},
   "cell_type": "markdown",
   "source": "##### Задача B"
  },
  {
   "metadata": {},
   "cell_type": "code",
   "source": [
    "import pandas as pd\n",
    "import re\n",
    "\n",
    "\n",
    "def length_stats(enter_line):\n",
    "    enter_line = re.sub(r'[^a-zA-Zа-яА-ЯёЁ\\s]', '', enter_line.lower()).split()\n",
    "    words_even = {word: len(word) for word in sorted(enter_line) if len(word) % 2 == 0}\n",
    "    words_odd = {word: len(word) for word in sorted(enter_line) if len(word) % 2 != 0}\n",
    "    return pd.Series(words_odd, dtype='int64'), pd.Series(words_even, dtype='int64') "
   ],
   "outputs": [],
   "execution_count": null
  },
  {
   "metadata": {},
   "cell_type": "markdown",
   "source": "##### Задача C"
  },
  {
   "metadata": {},
   "cell_type": "code",
   "source": [
    "import pandas as pd\n",
    "\n",
    "\n",
    "def cheque(price, **args):\n",
    "    \n",
    "    args_series = pd.Series(args)\n",
    "\n",
    "    df = pd.DataFrame({\n",
    "        'product': args_series.index,\n",
    "        'price': price[args_series.index],\n",
    "        'number': args_series.values,\n",
    "        'cost': args_series.values * price[args_series.index]\n",
    "    })\n",
    "    df.sort_values(by=['product'], inplace=True)\n",
    "    df.index = range(df.shape[0])\n",
    "    return df"
   ],
   "outputs": [],
   "execution_count": null
  },
  {
   "metadata": {},
   "cell_type": "markdown",
   "source": "##### Задача D"
  },
  {
   "metadata": {},
   "cell_type": "code",
   "source": [
    "import pandas as pd\n",
    "\n",
    "\n",
    "def cheque(price, **args):\n",
    "    \n",
    "    args_series = pd.Series(args)\n",
    "\n",
    "    df = pd.DataFrame({\n",
    "        'product': args_series.index,\n",
    "        'price': price[args_series.index],\n",
    "        'number': args_series.values,\n",
    "        'cost': args_series.values * price[args_series.index]\n",
    "    })\n",
    "    df.sort_values(by=['product'], inplace=True)\n",
    "    df.index = range(df.shape[0])\n",
    "    return df\n",
    "\n",
    "\n",
    "def discount(df):\n",
    "    new_df = df.copy()\n",
    "    new_df['cost'] = new_df.apply(lambda row: row['cost'] * 0.5 if row['number'] > 2 else row['cost'], axis=1)\n",
    "    return new_df"
   ],
   "outputs": [],
   "execution_count": null
  },
  {
   "metadata": {},
   "cell_type": "markdown",
   "source": "##### Задача E"
  },
  {
   "metadata": {},
   "cell_type": "code",
   "source": [
    "import pandas as pd\n",
    "\n",
    "\n",
    "def get_long(pd_data, min_length=5):\n",
    "    return pd_data[pd_data >= min_length]"
   ],
   "outputs": [],
   "execution_count": null
  },
  {
   "metadata": {},
   "cell_type": "markdown",
   "source": "##### Задача F"
  },
  {
   "metadata": {},
   "cell_type": "code",
   "source": [
    "import pandas as pd\n",
    "\n",
    "\n",
    "def best(df):\n",
    "    return df.loc[(df['maths'] > 3) & (df['physics'] > 3) & (df['computer science'] > 3)]"
   ],
   "outputs": [],
   "execution_count": null
  },
  {
   "metadata": {},
   "cell_type": "markdown",
   "source": "##### Задача G"
  },
  {
   "metadata": {},
   "cell_type": "code",
   "source": [
    "import pandas as pd\n",
    "\n",
    "\n",
    "def need_to_work_better(df):\n",
    "    return df.loc[(df['maths'] == 2) | (df['physics'] == 2) | (df['computer science'] == 2)]"
   ],
   "outputs": [],
   "execution_count": null
  },
  {
   "metadata": {},
   "cell_type": "markdown",
   "source": "##### Задача H"
  },
  {
   "metadata": {},
   "cell_type": "code",
   "source": [
    "import pandas as pd\n",
    "\n",
    "\n",
    "def update(df):\n",
    "    new_df = df.copy()\n",
    "    new_df['average'] = new_df[['maths', 'physics', 'computer science']].mean(axis=1)\n",
    "    new_df.sort_values(by=['average', 'name'], ascending=[False, True], inplace=True)\n",
    "    return new_df"
   ],
   "outputs": [],
   "execution_count": null
  },
  {
   "metadata": {},
   "cell_type": "markdown",
   "source": "##### Задача I"
  },
  {
   "metadata": {},
   "cell_type": "code",
   "source": [
    "import pandas as pd\n",
    "\n",
    "\n",
    "x1, y1 = map(int, input().split())\n",
    "x2, y2 = map(int, input().split())\n",
    "df = pd.read_csv('data.csv')\n",
    "print(df.loc[(df['x'] >= x1) & (df['x'] <= x2) & (df['y'] >= y2) & (df['y'] <= y1)])"
   ],
   "outputs": [],
   "execution_count": null
  },
  {
   "metadata": {},
   "cell_type": "markdown",
   "source": [
    "\n",
    "##### Задача J"
   ]
  },
  {
   "metadata": {},
   "cell_type": "code",
   "source": [
    "import pandas as pd\n",
    "import numpy as np\n",
    "\n",
    "\n",
    "def values(func, start, end, step):\n",
    "    coord_x = np.arange(start, end + step, step)\n",
    "    return pd.Series(func(coord_x), coord_x)\n",
    "\n",
    "\n",
    "def min_extremum(dataframe):\n",
    "    return dataframe.idxmin()\n",
    "\n",
    "\n",
    "def max_extremum(dataframe):\n",
    "    return dataframe.idxmax()"
   ],
   "outputs": [],
   "execution_count": null
  },
  {
   "metadata": {},
   "cell_type": "markdown",
   "source": "#### 6.3. Модуль requests"
  },
  {
   "metadata": {},
   "cell_type": "markdown",
   "source": "##### Задача A"
  },
  {
   "metadata": {},
   "cell_type": "code",
   "source": [
    "from requests import get\n",
    "\n",
    "\n",
    "response = get(\"http://127.0.0.1:5000\")\n",
    "print(response.content.decode('utf-8'))"
   ],
   "outputs": [],
   "execution_count": null
  },
  {
   "metadata": {},
   "cell_type": "markdown",
   "source": "##### Задача B"
  },
  {
   "metadata": {},
   "cell_type": "code",
   "source": [
    "from requests import get\n",
    "\n",
    "\n",
    "in_http = input()\n",
    "sum_response = 0\n",
    "\n",
    "while True:\n",
    "    try:\n",
    "        response = get(f\"http://{in_http}\")\n",
    "        data = int(response.text)\n",
    "        sum_response += data\n",
    "        if data == 0:\n",
    "            break\n",
    "    except Exception:\n",
    "        break\n",
    "\n",
    "print(sum_response)"
   ],
   "outputs": [],
   "execution_count": null
  },
  {
   "metadata": {},
   "cell_type": "markdown",
   "source": "##### Задача C"
  },
  {
   "metadata": {},
   "cell_type": "code",
   "source": [
    "from requests import get\n",
    "\n",
    "\n",
    "in_http = input()\n",
    "\n",
    "try:\n",
    "    response = get(f\"http://{in_http}\")\n",
    "    response.raise_for_status()\n",
    "    data = response.json()\n",
    "    sum_response = sum(item for item in data if isinstance(item, int))\n",
    "\n",
    "except Exception as e:\n",
    "    print(f\"Ошибка: {e}\")\n",
    "\n",
    "print(sum_response)"
   ],
   "outputs": [],
   "execution_count": null
  },
  {
   "metadata": {},
   "cell_type": "markdown",
   "source": "##### Задача D"
  },
  {
   "metadata": {},
   "cell_type": "code",
   "source": [
    "from requests import get\n",
    "\n",
    "\n",
    "in_http = input()\n",
    "key = input()\n",
    "\n",
    "try:\n",
    "    response = get(f\"http://{in_http}\")\n",
    "    response.raise_for_status()\n",
    "    data = response.json()\n",
    "    value = data[key]\n",
    "\n",
    "except KeyError:\n",
    "    value = 'No data'\n",
    "\n",
    "except Exception as e:\n",
    "    print(f\"Ошибка: {e}\")\n",
    "\n",
    "print(value)"
   ],
   "outputs": [],
   "execution_count": null
  },
  {
   "metadata": {},
   "cell_type": "markdown",
   "source": "##### Задача E"
  },
  {
   "metadata": {},
   "cell_type": "code",
   "source": [
    "from sys import stdin\n",
    "from requests import get\n",
    "\n",
    "\n",
    "server = input()\n",
    "pathes = [line.strip(\"\\n\") for line in stdin]\n",
    "sum_response = 0\n",
    "\n",
    "for path in pathes:\n",
    "    try:\n",
    "        response = get(f\"http://{server}{path}\")\n",
    "        response.raise_for_status()\n",
    "        data = response.json()\n",
    "        sum_response += sum(data)\n",
    "    \n",
    "    except Exception as e:\n",
    "        print(f\"Ошибка: {e}\")\n",
    "\n",
    "print(sum_response)"
   ],
   "outputs": [],
   "execution_count": null
  },
  {
   "metadata": {},
   "cell_type": "markdown",
   "source": "##### Задача F"
  },
  {
   "metadata": {},
   "cell_type": "code",
   "source": [
    "from requests import get\n",
    "\n",
    "\n",
    "server = input()\n",
    "value = []\n",
    "\n",
    "try:\n",
    "    response = get(f\"http://{server}/users\")\n",
    "    response.raise_for_status()\n",
    "    data = response.json()\n",
    "    users = sorted(data, key=lambda user: (user['last_name'], user['first_name']))  \n",
    "    for user in users:\n",
    "        print(f\"{user['last_name']} {user['first_name']}\")\n",
    "\n",
    "except Exception as e:\n",
    "    print(f\"Ошибка: {e}\")"
   ],
   "outputs": [],
   "execution_count": null
  },
  {
   "metadata": {},
   "cell_type": "markdown",
   "source": "##### Задача G"
  },
  {
   "metadata": {},
   "cell_type": "code",
   "source": [
    "from requests import get\n",
    "from sys import stdin\n",
    "\n",
    "address = 'http://' + input() + '/users/' + input()\n",
    "d = ''.join(line for line in stdin)\n",
    "\n",
    "try:\n",
    "    data = dict(get(address).json())\n",
    "    for key in data:\n",
    "        d = d.replace('{' + key + '}', str(data[key]))\n",
    "    print(d)  \n",
    "except ValueError:\n",
    "    print('Пользователь не найден')"
   ],
   "outputs": [],
   "execution_count": null
  },
  {
   "metadata": {},
   "cell_type": "markdown",
   "source": "##### Задача H"
  },
  {
   "metadata": {},
   "cell_type": "code",
   "source": [
    "from requests import post\n",
    "from json import dumps\n",
    "\n",
    "\n",
    "address = 'http://' + input() + '/users'\n",
    "data = dict()\n",
    "data[\"username\"] = input()\n",
    "data[\"last_name\"] = input()\n",
    "data[\"first_name\"] = input()\n",
    "data[\"email\"] = input()\n",
    "post(address, data=dumps(data))"
   ],
   "outputs": [],
   "execution_count": null
  },
  {
   "metadata": {},
   "cell_type": "markdown",
   "source": "##### Задача I"
  },
  {
   "metadata": {},
   "cell_type": "code",
   "source": [
    "from requests import put\n",
    "from json import dumps\n",
    "from sys import stdin\n",
    "\n",
    "\n",
    "address = 'http://' + input() + '/users/' + input()\n",
    "line = [i.strip().split('=') for i in stdin]\n",
    "data = {}\n",
    "for j in line:\n",
    "    data[j[0]] = j[1]\n",
    "put(address, data=dumps(data))"
   ],
   "outputs": [],
   "execution_count": null
  },
  {
   "metadata": {},
   "cell_type": "markdown",
   "source": "##### Задача J"
  },
  {
   "metadata": {},
   "cell_type": "code",
   "source": [
    "from requests import delete\n",
    "\n",
    "\n",
    "delete('http://' + input() + '/users/' + input())"
   ],
   "outputs": [],
   "execution_count": null
  }
 ],
 "metadata": {
  "kernelspec": {
   "display_name": "Python 3",
   "language": "python",
   "name": "python3"
  },
  "language_info": {
   "codemirror_mode": {
    "name": "ipython",
    "version": 3
   },
   "file_extension": ".py",
   "mimetype": "text/x-python",
   "name": "python",
   "nbconvert_exporter": "python",
   "pygments_lexer": "ipython3",
   "version": "3.12.0"
  }
 },
 "nbformat": 4,
 "nbformat_minor": 2
}
