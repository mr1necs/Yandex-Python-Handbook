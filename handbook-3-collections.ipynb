{
 "cells": [
  {
   "cell_type": "markdown",
   "metadata": {},
   "source": [
    "### 3. Коллекции и работа с памятью"
   ]
  },
  {
   "cell_type": "markdown",
   "metadata": {},
   "source": [
    "#### 3.1. Строки, кортежи, списки"
   ]
  },
  {
   "cell_type": "markdown",
   "metadata": {},
   "source": [
    "##### Задача A"
   ]
  },
  {
   "cell_type": "code",
   "metadata": {},
   "source": [
    "n = int(input())\n",
    "fl = True\n",
    "\n",
    "for _ in range(n):\n",
    "    if not input().lower().startswith(('а', 'б', 'в')):\n",
    "        fl = False\n",
    "    \n",
    "print(\"YES\" if fl else \"NO\")\n"
   ],
   "outputs": [],
   "execution_count": null
  },
  {
   "cell_type": "markdown",
   "metadata": {},
   "source": [
    "##### Задача B"
   ]
  },
  {
   "cell_type": "code",
   "metadata": {},
   "source": [
    "new_list = list(input())\n",
    "for letter in new_list:\n",
    "    print(letter)"
   ],
   "outputs": [],
   "execution_count": null
  },
  {
   "cell_type": "markdown",
   "metadata": {},
   "source": [
    "##### Задача C"
   ]
  },
  {
   "cell_type": "code",
   "metadata": {},
   "source": [
    "max_len = int(input())\n",
    "n = int(input())\n",
    "\n",
    "for _ in range(n):\n",
    "    s = input()\n",
    "    print(s[:(max_len - 3)] + '...') if len(s) > max_len else print(s)"
   ],
   "outputs": [],
   "execution_count": null
  },
  {
   "cell_type": "markdown",
   "metadata": {},
   "source": [
    "##### Задача D"
   ]
  },
  {
   "cell_type": "code",
   "metadata": {},
   "source": [
    "while (s := input()) != '':\n",
    "    if not s.endswith(\"@@@\"):\n",
    "        print(s.lstrip(\"##\"))"
   ],
   "outputs": [],
   "execution_count": null
  },
  {
   "cell_type": "markdown",
   "metadata": {},
   "source": [
    "##### Задача E"
   ]
  },
  {
   "cell_type": "code",
   "metadata": {},
   "source": [
    "new_str = list(input())\n",
    "print(\"YES\" if new_str == list(reversed(new_str)) else \"NO\")"
   ],
   "outputs": [],
   "execution_count": null
  },
  {
   "cell_type": "markdown",
   "metadata": {},
   "source": [
    "##### Задача F"
   ]
  },
  {
   "cell_type": "code",
   "metadata": {},
   "source": [
    "count = 0\n",
    "\n",
    "for _ in range(int(input())):\n",
    "    count += input().lower().count(\"зайка\")\n",
    "\n",
    "print(count)"
   ],
   "outputs": [],
   "execution_count": null
  },
  {
   "cell_type": "markdown",
   "metadata": {},
   "source": [
    "##### Задача G"
   ]
  },
  {
   "cell_type": "code",
   "metadata": {},
   "source": [
    "a, b = map(int, input().split())\n",
    "print(a + b)"
   ],
   "outputs": [],
   "execution_count": null
  },
  {
   "cell_type": "markdown",
   "metadata": {},
   "source": [
    "##### Задача H"
   ]
  },
  {
   "cell_type": "code",
   "metadata": {},
   "source": [
    "for _ in range(int(input())):\n",
    "    s = input().lower().find(\"зайка\")\n",
    "    print(s + 1 if s != -1 else \"Заек нет =(\")"
   ],
   "outputs": [],
   "execution_count": null
  },
  {
   "cell_type": "markdown",
   "metadata": {},
   "source": [
    "##### Задача I"
   ]
  },
  {
   "cell_type": "code",
   "metadata": {},
   "source": [
    "while (s := input()) != '':\n",
    "    if not (pos := s.find('#')) + 1:\n",
    "        print(s)\n",
    "    elif s[:pos]:\n",
    "        print(s[:pos])"
   ],
   "outputs": [],
   "execution_count": null
  },
  {
   "cell_type": "markdown",
   "metadata": {},
   "source": [
    "##### Задача J"
   ]
  },
  {
   "cell_type": "code",
   "metadata": {},
   "source": [
    "char_count = {}\n",
    "\n",
    "while (line := input()) != 'ФИНИШ':\n",
    "    for char in line.lower():\n",
    "        if 'а' <= char <= 'я':\n",
    "            char_count[char] = char_count.get(char, 0) + 1\n",
    "\n",
    "print(min([char for char in char_count if char_count[char] == max(char_count.values())]))  "
   ],
   "outputs": [],
   "execution_count": null
  },
  {
   "cell_type": "markdown",
   "metadata": {},
   "source": [
    "##### Задача K"
   ]
  },
  {
   "cell_type": "code",
   "metadata": {},
   "source": [
    "n = int(input())\n",
    "sites = []\n",
    "\n",
    "for i in range(n):\n",
    "    sites.append(input())\n",
    "\n",
    "key = input().lower()\n",
    "\n",
    "for i in range(n):\n",
    "    if key in sites[i].lower():\n",
    "        print(sites[i])"
   ],
   "outputs": [],
   "execution_count": null
  },
  {
   "cell_type": "markdown",
   "metadata": {},
   "source": [
    "##### Задача L"
   ]
  },
  {
   "cell_type": "code",
   "metadata": {},
   "source": [
    "lib = ['Манная', 'Гречневая', 'Пшённая', 'Овсяная', 'Рисовая']\n",
    "\n",
    "for i in range(int(input())):\n",
    "    print(lib[i % 5])"
   ],
   "outputs": [],
   "execution_count": null
  },
  {
   "cell_type": "markdown",
   "metadata": {},
   "source": [
    "##### Задача M"
   ]
  },
  {
   "cell_type": "code",
   "metadata": {},
   "source": [
    "n = int(input())\n",
    "el = []\n",
    "[el.append(int(input())) for _ in range(n)]\n",
    "\n",
    "p = int(input())\n",
    "for i in el:\n",
    "    print(i ** p)\n"
   ],
   "outputs": [],
   "execution_count": null
  },
  {
   "cell_type": "markdown",
   "metadata": {},
   "source": [
    "##### Задача N"
   ]
  },
  {
   "cell_type": "code",
   "metadata": {},
   "source": [
    "el = list(map(int, input().split()))\n",
    "p = int(input())\n",
    "\n",
    "for i in el:\n",
    "    print(i ** p, end=' ')\n"
   ],
   "outputs": [],
   "execution_count": null
  },
  {
   "cell_type": "markdown",
   "metadata": {},
   "source": [
    "##### Задача O"
   ]
  },
  {
   "cell_type": "code",
   "metadata": {},
   "source": [
    "mas = list(map(int, input().split()))\n",
    "a = mas[0]\n",
    "for i in range(1, len(mas)):\n",
    "    while mas[i]:\n",
    "        a, mas[i] = mas[i], a % mas[i]\n",
    "print(a)"
   ],
   "outputs": [],
   "execution_count": null
  },
  {
   "cell_type": "markdown",
   "metadata": {},
   "source": [
    "##### Задача P"
   ]
  },
  {
   "cell_type": "code",
   "metadata": {},
   "source": [
    "max_len = int(input()) - 3 \n",
    "for _ in range(int(input())):\n",
    "    s = input()\n",
    "    if len(s) < max_len:\n",
    "        print(len(s))\n",
    "        max_len -= len(s)\n",
    "    else:\n",
    "        print(s[:max_len] + '...')\n",
    "        break"
   ],
   "outputs": [],
   "execution_count": null
  },
  {
   "cell_type": "markdown",
   "metadata": {},
   "source": [
    "##### Задача Q"
   ]
  },
  {
   "cell_type": "code",
   "metadata": {},
   "source": [
    "my_str = \"\".join(input().lower().split())\n",
    "print(\"YES\" if my_str == my_str[::-1] else \"NO\")"
   ],
   "outputs": [],
   "execution_count": null
  },
  {
   "cell_type": "markdown",
   "metadata": {},
   "source": [
    "##### Задача R"
   ]
  },
  {
   "cell_type": "code",
   "metadata": {},
   "source": [
    "s = input()\n",
    "count = 1\n",
    "\n",
    "for i in range(1, len(s)):\n",
    "    if s[i] == s[i - 1]:\n",
    "        count += 1\n",
    "    else:\n",
    "        print(s[i - 1], count)\n",
    "        count = 1\n",
    "\n",
    "print(s[-1], count)"
   ],
   "outputs": [],
   "execution_count": null
  },
  {
   "cell_type": "markdown",
   "metadata": {},
   "source": [
    "##### Задача S"
   ]
  },
  {
   "cell_type": "code",
   "metadata": {},
   "source": [
    "s = input().split()\n",
    "stack = []\n",
    "\n",
    "for i in s:\n",
    "    if i in \"*+-\":\n",
    "        a, b = stack.pop(), stack.pop()\n",
    "        stack.append(b * a if i == '*' else b + a if i == '+' else b - a)\n",
    "    else:\n",
    "        stack.append(int(i))\n",
    "\n",
    "print(stack.pop())"
   ],
   "outputs": [],
   "execution_count": null
  },
  {
   "metadata": {},
   "cell_type": "markdown",
   "source": "##### Задача T"
  },
  {
   "metadata": {},
   "cell_type": "code",
   "source": [
    "s = input().split()\n",
    "stack = []\n",
    "\n",
    "for i in s:\n",
    "    if i in \"+-*/\":\n",
    "        a, b = stack.pop(), stack.pop()\n",
    "        stack.append(b + a if i == '+' else b - a if i == '-' else b * a if i == '*' else b // a)\n",
    "    elif i == '~':\n",
    "        stack.append(-stack.pop())\n",
    "    elif i == '!':\n",
    "        a = stack.pop()\n",
    "        factorial = 1\n",
    "        for j in range(2, a + 1):\n",
    "            factorial *= j\n",
    "        stack.append(factorial)\n",
    "    elif i == '#':\n",
    "        stack.append(stack[-1])\n",
    "    elif i == '@':\n",
    "        a, b, c = stack.pop(), stack.pop(), stack.pop()\n",
    "        stack.extend([b, a, c])\n",
    "    else:\n",
    "        stack.append(int(i))\n",
    "\n",
    "print(stack.pop())"
   ],
   "outputs": [],
   "execution_count": null
  },
  {
   "cell_type": "markdown",
   "metadata": {},
   "source": [
    "#### 3.2. Множества, словари"
   ]
  },
  {
   "cell_type": "markdown",
   "metadata": {},
   "source": [
    "##### Задача A"
   ]
  },
  {
   "cell_type": "code",
   "metadata": {},
   "source": [
    "line = set(input())\n",
    "for ch in line:\n",
    "    print(ch, end='')"
   ],
   "outputs": [],
   "execution_count": null
  },
  {
   "cell_type": "markdown",
   "metadata": {},
   "source": [
    "##### Задача B"
   ]
  },
  {
   "cell_type": "code",
   "metadata": {},
   "source": [
    "line1 = set(input())\n",
    "line2 = set(input())\n",
    "for ch in line1 & line2:\n",
    "    print(ch, end='')"
   ],
   "outputs": [],
   "execution_count": null
  },
  {
   "cell_type": "markdown",
   "metadata": {},
   "source": [
    "##### Задача C"
   ]
  },
  {
   "cell_type": "code",
   "metadata": {},
   "source": [
    "words = dict()\n",
    "\n",
    "for _ in range(int(input())):\n",
    "    for word in input().split():\n",
    "        words[word] = words.get(word, [])\n",
    "\n",
    "for key in words.keys():\n",
    "    print(key)"
   ],
   "outputs": [],
   "execution_count": null
  },
  {
   "cell_type": "markdown",
   "metadata": {},
   "source": [
    "##### Задача D"
   ]
  },
  {
   "cell_type": "code",
   "metadata": {},
   "source": [
    "semolina = dict()\n",
    "oatmeal = dict()\n",
    "\n",
    "n_semolina, n_oatmeal = int(input()), int(input())\n",
    "for i in range(n_semolina):\n",
    "    name = input()\n",
    "    semolina[name] = semolina.get(name, [])\n",
    "\n",
    "for i in range(n_oatmeal):\n",
    "    name = input()\n",
    "    oatmeal[name] = oatmeal.get(name, [])\n",
    "\n",
    "count = 0\n",
    "for name in semolina.keys():\n",
    "    if name in oatmeal.keys():\n",
    "        count += 1\n",
    "        \n",
    "print(count if count != 0 else 'Таких нет')"
   ],
   "outputs": [],
   "execution_count": null
  },
  {
   "cell_type": "markdown",
   "metadata": {},
   "source": [
    "##### Задача E"
   ]
  },
  {
   "cell_type": "code",
   "metadata": {},
   "source": [
    "semolina = dict()\n",
    "\n",
    "n_semolina, n_oatmeal = int(input()), int(input())\n",
    "for i in range(n_semolina + n_oatmeal):\n",
    "    name = input()\n",
    "    semolina[name] = semolina.get(name, 0) + 1\n",
    "\n",
    "count = 0\n",
    "for name in semolina.values():\n",
    "    if name == 0:\n",
    "        count += 1\n",
    "\n",
    "print(count if count != 0 else 'Таких нет')"
   ],
   "outputs": [],
   "execution_count": null
  },
  {
   "cell_type": "markdown",
   "metadata": {},
   "source": [
    "##### Задача F"
   ]
  },
  {
   "cell_type": "code",
   "metadata": {},
   "source": [
    "porridge = dict()\n",
    "\n",
    "n_semolina, n_oatmeal = int(input()), int(input())\n",
    "for i in range(n_semolina + n_oatmeal):\n",
    "    name = input()\n",
    "    porridge[name] = porridge.get(name, 0) + 1\n",
    "\n",
    "names = []\n",
    "for name in porridge.keys():\n",
    "    if porridge[name] == 1:\n",
    "        names.append(name)\n",
    "\n",
    "names.sort()        \n",
    "if names:\n",
    "    for name in names:\n",
    "        print(name)\n",
    "else:\n",
    "    print('Таких нет')"
   ],
   "outputs": [],
   "execution_count": null
  },
  {
   "cell_type": "markdown",
   "metadata": {},
   "source": [
    "##### Задача G"
   ]
  },
  {
   "cell_type": "code",
   "metadata": {},
   "source": [
    "changer = {'A': '.-', 'B': '-...', 'C': '-.-.', 'D': '-..', 'E': '.',\n",
    "         'F': '..-.', 'G': '--.', 'H': '....', 'I': '..', 'J': '.---', 'K':\n",
    "         '-.-', 'L': '.-..', 'M': '--', 'N': '-.', 'O': '---', 'P': '.--.',\n",
    "         'Q': '--.-', 'R': '.-.', 'S': '...', 'T': '-', 'U': '..-',\n",
    "         'V': '...-', 'W': '.--', 'X': '-..-', 'Y': '-.--', 'Z': '--..',\n",
    "         '0': '-----', '1': '.----', '2': '..---', '3': '...--', '4': '....-',\n",
    "         '5': '.....', '6': '-....', '7': '--...', '8': '---..', '9': '----.'}\n",
    "\n",
    "for char in input():\n",
    "    if char != ' ':\n",
    "        print(changer[char.upper()], end=' ')\n",
    "    else:\n",
    "        print()"
   ],
   "outputs": [],
   "execution_count": null
  },
  {
   "cell_type": "markdown",
   "metadata": {},
   "source": [
    "##### Задача H"
   ]
  },
  {
   "cell_type": "code",
   "metadata": {},
   "source": [
    "n = int(input())\n",
    "porridge = dict()\n",
    "\n",
    "for _ in range(n):\n",
    "    line = input().split()\n",
    "    for i in range(1, len(line)):\n",
    "        porridge[line[i]] = porridge.get(line[i], ' ') + str(line[0]) + ' '\n",
    "    \n",
    "verification = input()\n",
    "try:\n",
    "    names = str(porridge[verification]).split()\n",
    "    names.sort()\n",
    "except KeyError:\n",
    "    names = []\n",
    "    \n",
    "if names:\n",
    "    for name in names:\n",
    "        print(name)\n",
    "else:\n",
    "    print('Таких нет')"
   ],
   "outputs": [],
   "execution_count": null
  },
  {
   "cell_type": "markdown",
   "metadata": {},
   "source": [
    "##### Задача I"
   ]
  },
  {
   "cell_type": "code",
   "metadata": {},
   "source": [
    "objects = dict()\n",
    "\n",
    "while (line := input()) != '':\n",
    "    line = line.split()\n",
    "    for i in range(len(line)):\n",
    "        objects[line[i]] = objects.get(line[i], 0) + 1\n",
    "\n",
    "for name in objects.keys():\n",
    "    print(name, objects[name])"
   ],
   "outputs": [],
   "execution_count": null
  },
  {
   "cell_type": "markdown",
   "metadata": {},
   "source": [
    "##### Задача J"
   ]
  },
  {
   "cell_type": "code",
   "metadata": {},
   "source": [
    "Transcript = {'А': 'A', 'Б': 'B', 'В': 'V', 'Г': 'G', 'Д': 'D', 'Е': 'E', 'Ё': 'E', 'Ж': 'ZH', \n",
    "              'З': 'Z', 'И': 'I', 'Й': 'I', 'К': 'K', 'Л': 'L', 'М': 'M', 'Н': 'N', 'О': 'O', \n",
    "              'П': 'P', 'Р': 'R', 'С': 'S', 'Т': 'T', 'У': 'U', 'Ф': 'F', 'Х': 'KH', 'Ц': 'TC', \n",
    "              'Ч': 'CH', 'Ш': 'SH', 'Щ': 'SHCH', 'Ы': 'Y', 'Э': 'E', 'Ю': 'IU', 'Я': 'IA'}\n",
    "\n",
    "line = input()\n",
    "for i in range(len(line)):\n",
    "    if line[i].upper() in Transcript:\n",
    "        if line[i].isupper():\n",
    "            print(Transcript[line[i].upper()].title(), end='')\n",
    "        else:\n",
    "            print(Transcript[line[i].upper()].lower(), end='')\n",
    "    elif line[i].lower() not in ['ь', \"ъ\"]: \n",
    "        print(line[i], end='')"
   ],
   "outputs": [],
   "execution_count": null
  },
  {
   "cell_type": "markdown",
   "metadata": {},
   "source": [
    "##### Задача K"
   ]
  },
  {
   "cell_type": "code",
   "metadata": {},
   "source": [
    "names = dict()\n",
    "\n",
    "for _ in range(int(input())):\n",
    "    name = input()\n",
    "    names[name] = names.get(name, 0) + 1\n",
    "\n",
    "count_flag = False\n",
    "new_names = []\n",
    "for name in names:\n",
    "    if names[name] > 1:\n",
    "        new_names.append(name)\n",
    "        \n",
    "new_names.sort()\n",
    "for name in new_names:\n",
    "    print(f\"{name} - {names[name]}\")\n",
    "    count_flag = True\n",
    "\n",
    "if not count_flag:\n",
    "    print(\"Однофамильцев нет\")"
   ],
   "outputs": [],
   "execution_count": null
  },
  {
   "cell_type": "markdown",
   "metadata": {},
   "source": [
    "##### Задача L"
   ]
  },
  {
   "cell_type": "code",
   "metadata": {},
   "source": [
    "dishes = dict()\n",
    "\n",
    "for _ in range(int(input())):\n",
    "    dish = input()\n",
    "    dishes[dish] = dishes.get(dish, 0) + 1\n",
    "\n",
    "n = int(input())\n",
    "for _ in range(n):\n",
    "    for _ in range(int(input())):\n",
    "        dish = input()\n",
    "        dishes[dish] = dishes[dish] + 1\n",
    "    \n",
    "curr_dishes = []\n",
    "for dish in dishes:\n",
    "    if dishes[dish] == 1:\n",
    "        curr_dishes.append(dish)\n",
    "\n",
    "if curr_dishes:\n",
    "    curr_dishes.sort()\n",
    "    for dish in curr_dishes:\n",
    "        print(dish)\n",
    "else:\n",
    "    print(\"Готовить нечего\")"
   ],
   "outputs": [],
   "execution_count": null
  },
  {
   "cell_type": "markdown",
   "metadata": {},
   "source": [
    "##### Задача M"
   ]
  },
  {
   "cell_type": "code",
   "metadata": {},
   "source": [
    "dishes = dict()\n",
    "\n",
    "for _ in range(int(input())):\n",
    "    dish = input()\n",
    "    dishes[dish] = dishes.get(dish, 0) + 1\n",
    "\n",
    "n = int(input())\n",
    "for _ in range(n):\n",
    "    for _ in range(int(input())):\n",
    "        dish = input()\n",
    "        dishes[dish] = dishes[dish] + 1\n",
    "    \n",
    "curr_dishes = []\n",
    "for dish in dishes:\n",
    "    if dishes[dish] == 1:\n",
    "        curr_dishes.append(dish)\n",
    "\n",
    "if curr_dishes:\n",
    "    curr_dishes.sort()\n",
    "    for dish in curr_dishes:\n",
    "        print(dish)\n",
    "else:\n",
    "    print(\"Готовить нечего\")"
   ],
   "outputs": [],
   "execution_count": null
  },
  {
   "cell_type": "markdown",
   "metadata": {},
   "source": [
    "##### Задача N"
   ]
  },
  {
   "cell_type": "code",
   "metadata": {},
   "source": [
    "dishes = dict()\n",
    "products = {input(): 0 for _ in range(int(input()))}\n",
    "\n",
    "for _ in range(int(input())):\n",
    "    dish = input()\n",
    "    n_products = int(input())\n",
    "    enough = 0\n",
    "    for _ in range(n_products):\n",
    "            enough += 1 if input() in products else 0\n",
    "    if enough == n_products:\n",
    "        dishes[dish] = dishes.get(dish, 0)\n",
    "\n",
    "curr_dishes = sorted(dishes)\n",
    "\n",
    "if curr_dishes:\n",
    "    for dish in curr_dishes:\n",
    "        print(dish)\n",
    "else:\n",
    "    print(\"Готовить нечего\")"
   ],
   "outputs": [],
   "execution_count": null
  },
  {
   "cell_type": "markdown",
   "metadata": {},
   "source": [
    "##### Задача O"
   ]
  },
  {
   "cell_type": "code",
   "metadata": {},
   "source": [
    "numbers = list(map(int, input().split()))\n",
    "print(\"[\")\n",
    "for (i, decimal_number) in enumerate(numbers):\n",
    "    binary_number = bin(decimal_number)[2:]\n",
    "    print(\"{\")\n",
    "    print(f'\"digits\": {len(binary_number)},')\n",
    "    print(f'\"units\": {binary_number.count('1')},')\n",
    "    print(f'\"zeros\": {binary_number.count('0')}')\n",
    "    print(\"}\", end=\"\\n\" if i == len(numbers) - 1 else \",\\n\")\n",
    "print(\"]\")\n",
    "    "
   ],
   "outputs": [],
   "execution_count": null
  },
  {
   "cell_type": "markdown",
   "metadata": {},
   "source": [
    "##### Задача P"
   ]
  },
  {
   "cell_type": "code",
   "metadata": {},
   "source": [
    "objects = set()\n",
    "\n",
    "while line := input().split():\n",
    "    for i in range(len(line)):\n",
    "        if line[i] == 'зайка':\n",
    "            if i > 1:\n",
    "                objects.add(line[i - 1])\n",
    "            if i < len(line) - 1:\n",
    "                objects.add(line[i + 1])\n",
    "\n",
    "for name in objects:\n",
    "    print(name)"
   ],
   "outputs": [],
   "execution_count": null
  },
  {
   "metadata": {},
   "cell_type": "code",
   "source": "",
   "outputs": [],
   "execution_count": null
  },
  {
   "cell_type": "markdown",
   "metadata": {},
   "source": [
    "##### Задача Q"
   ]
  },
  {
   "cell_type": "code",
   "metadata": {},
   "source": [
    "friends = {}\n",
    "\n",
    "while pair := input():\n",
    "    friend1, friend2 = pair.split()\n",
    "    friends[friend1] = friends.get(friend1, set()) | {friend2}\n",
    "    friends[friend2] = friends.get(friend2, set()) | {friend1}\n",
    "\n",
    "friends_of_friends = {}\n",
    "for name in sorted(friends):\n",
    "    for person in friends[name]:\n",
    "        friends_of_friends[name] = friends_of_friends.get(\n",
    "            name, set()) | friends[person]\n",
    "\n",
    "for name in friends_of_friends:\n",
    "    friends_of_friends[name].discard(name)\n",
    "    friends_of_friends[name] -= friends[name]\n",
    "\n",
    "    friends_of_friends[name] = sorted(friends_of_friends[name])\n",
    "\n",
    "    print(f'{name}: {\", \".join(friends_of_friends[name])}')"
   ],
   "outputs": [],
   "execution_count": null
  },
  {
   "cell_type": "markdown",
   "metadata": {},
   "source": [
    "##### Задача R"
   ]
  },
  {
   "cell_type": "code",
   "metadata": {},
   "source": [
    "treasures = dict()\n",
    "\n",
    "for _ in range(count := int(input())):\n",
    "    x, y = input().split()\n",
    "    index = (int(x) // 10, int(y) // 10)\n",
    "    treasures[index] = treasures.get(index, 0) + 1\n",
    "\n",
    "print(max(treasures.values()))"
   ],
   "outputs": [],
   "execution_count": null
  },
  {
   "cell_type": "markdown",
   "metadata": {},
   "source": [
    "##### Задача S"
   ]
  },
  {
   "cell_type": "code",
   "metadata": {},
   "source": [
    "toys = []\n",
    "unique = []\n",
    "\n",
    "for _ in range(int(input())):\n",
    "    name, string = input().split(': ')\n",
    "    toys.extend(set(string.split(', ')))  \n",
    "\n",
    "for i in range(len(toys)):\n",
    "    toy = toys.pop(0)\n",
    "    if toy not in toys:\n",
    "        unique.append(toy)\n",
    "    toys.append(toy)\n",
    "\n",
    "print('\\n'.join(sorted(unique)))"
   ],
   "outputs": [],
   "execution_count": null
  },
  {
   "cell_type": "markdown",
   "metadata": {},
   "source": [
    "##### Задача T"
   ]
  },
  {
   "cell_type": "code",
   "metadata": {},
   "source": [
    "items = set(input().split('; '))\n",
    "\n",
    "numbers = []\n",
    "\n",
    "for item in items:\n",
    "    numbers.append(int(item))\n",
    "\n",
    "numbers.sort()\n",
    "\n",
    "for num1 in numbers:\n",
    "    mutually = []\n",
    "    for num2 in numbers:\n",
    "        if num1 != num2:\n",
    "            a, b = num1, num2\n",
    "            while b != 0:\n",
    "                a, b = b, a % b\n",
    "            if a == 1:\n",
    "                mutually.append(str(num2))\n",
    "    if mutually:\n",
    "        print(num1, '-', \", \".join(mutually))"
   ],
   "outputs": [],
   "execution_count": null
  },
  {
   "cell_type": "markdown",
   "metadata": {},
   "source": "#### 3.3. Списочные выражения. Модель памяти для типов языка Python"
  },
  {
   "cell_type": "markdown",
   "metadata": {},
   "source": [
    "##### Задача A"
   ]
  },
  {
   "cell_type": "code",
   "metadata": {},
   "source": [
    "a = int(input())\n",
    "b = int(input())\n",
    "\n",
    "print([i ** 2 for i in range(a, b + 1)])"
   ],
   "outputs": [],
   "execution_count": null
  },
  {
   "cell_type": "markdown",
   "metadata": {},
   "source": [
    "##### Задача B"
   ]
  },
  {
   "cell_type": "code",
   "metadata": {},
   "source": [
    "n = int(input())\n",
    "\n",
    "print([[i * j for i in range(1, n + 1)] for j in range(1, n + 1)])"
   ],
   "outputs": [],
   "execution_count": null
  },
  {
   "cell_type": "markdown",
   "metadata": {},
   "source": [
    "##### Задача C"
   ]
  },
  {
   "cell_type": "code",
   "metadata": {},
   "source": [
    "sentence = input()\n",
    "\n",
    "print([len(word) for word in sentence.split()])"
   ],
   "outputs": [],
   "execution_count": null
  },
  {
   "cell_type": "markdown",
   "metadata": {},
   "source": [
    "##### Задача D"
   ]
  },
  {
   "cell_type": "code",
   "metadata": {},
   "source": [
    "numbers = [int(i) for i in input().split()]\n",
    "\n",
    "print({number for number in numbers if number % 2 == 1})"
   ],
   "outputs": [],
   "execution_count": null
  },
  {
   "cell_type": "markdown",
   "metadata": {},
   "source": [
    "##### Задача E"
   ]
  },
  {
   "cell_type": "code",
   "metadata": {},
   "source": [
    "numbers = [int(i) for i in input().split()]\n",
    "\n",
    "print({num for num in numbers if num ** 0.5 % 1 == 0})"
   ],
   "outputs": [],
   "execution_count": null
  },
  {
   "cell_type": "markdown",
   "metadata": {},
   "source": [
    "##### Задача F"
   ]
  },
  {
   "cell_type": "code",
   "metadata": {},
   "source": [
    "text = input()\n",
    "\n",
    "print({letter: text.lower().count(letter) for letter in set(text.lower()) if letter.isalpha()})"
   ],
   "outputs": [],
   "execution_count": null
  },
  {
   "cell_type": "markdown",
   "metadata": {},
   "source": [
    "##### Задача G"
   ]
  },
  {
   "cell_type": "code",
   "metadata": {},
   "source": [
    "numbers = [int(i) for i in input().split()]\n",
    "\n",
    "print({num: [i for i in range(1, num + 1) if num % i == 0] for num in numbers})"
   ],
   "outputs": [],
   "execution_count": null
  },
  {
   "cell_type": "markdown",
   "metadata": {},
   "source": [
    "##### Задача H"
   ]
  },
  {
   "cell_type": "code",
   "metadata": {},
   "source": [
    "string = input()\n",
    "\n",
    "print(''.join(word[0].upper() for word in string.split()))"
   ],
   "outputs": [],
   "execution_count": null
  },
  {
   "cell_type": "markdown",
   "metadata": {},
   "source": [
    "##### Задача I"
   ]
  },
  {
   "cell_type": "code",
   "metadata": {},
   "source": [
    "numbers = [int(i) for i in input().split()]\n",
    "\n",
    "print(' - '.join(str(num) for num in sorted(set(numbers))))"
   ],
   "outputs": [],
   "execution_count": null
  },
  {
   "cell_type": "markdown",
   "metadata": {},
   "source": [
    "##### Задача J"
   ]
  },
  {
   "cell_type": "code",
   "metadata": {},
   "source": [
    "rle = [('a', 2), ('b', 3), ('c', 1)]\n",
    "\n",
    "print(''.join(''.join(ch for _ in range(value)) for (ch, value) in rle))"
   ],
   "outputs": [],
   "execution_count": null
  },
  {
   "cell_type": "markdown",
   "metadata": {},
   "source": [
    "#### 3.4. Встроенные возможности по работе с коллекциями"
   ]
  },
  {
   "cell_type": "markdown",
   "metadata": {},
   "source": [
    "##### Задача A"
   ]
  },
  {
   "cell_type": "code",
   "metadata": {},
   "source": [
    "for i, value in enumerate(input().split(), 1):\n",
    "    print(f\"{i}. {value}\")"
   ],
   "outputs": [],
   "execution_count": null
  },
  {
   "cell_type": "markdown",
   "metadata": {},
   "source": [
    "##### Задача B"
   ]
  },
  {
   "cell_type": "code",
   "metadata": {},
   "source": [
    "comb = list(zip(input().split(\", \"), input().split(\", \")))\n",
    "print(\"\\n\".join(f\"{name1} - {name2}\" for (name1, name2) in comb))"
   ],
   "outputs": [],
   "execution_count": null
  },
  {
   "cell_type": "markdown",
   "metadata": {},
   "source": [
    "##### Задача C"
   ]
  },
  {
   "cell_type": "code",
   "metadata": {},
   "source": [
    "from itertools import count\n",
    "\n",
    "start, end, step = map(float, input().split())\n",
    "\n",
    "for value in count(start, step):\n",
    "    if value <= end:\n",
    "        print(round(value, 1))\n",
    "    else:\n",
    "        break"
   ],
   "outputs": [],
   "execution_count": null
  },
  {
   "cell_type": "markdown",
   "metadata": {},
   "source": [
    "##### Задача D"
   ]
  },
  {
   "cell_type": "code",
   "metadata": {},
   "source": [
    "from itertools import accumulate\n",
    "\n",
    "print('\\n'.join(list(accumulate([word + ' ' for word in input().split()]))))"
   ],
   "outputs": [],
   "execution_count": null
  },
  {
   "cell_type": "markdown",
   "metadata": {},
   "source": [
    "##### Задача E"
   ]
  },
  {
   "cell_type": "code",
   "metadata": {},
   "source": [
    "products = ' '.join(input() for _ in range(3))\n",
    "for i, value in enumerate(sorted(products.split()), 1):\n",
    "    print(f\"{i}. {value}\")"
   ],
   "outputs": [],
   "execution_count": null
  },
  {
   "cell_type": "markdown",
   "metadata": {},
   "source": [
    "##### Задача F"
   ]
  },
  {
   "cell_type": "code",
   "metadata": {},
   "source": [
    "from itertools import product\n",
    "\n",
    "cards = [2, 3, 4, 5, 6, 7, 8, 9, 10, 'валет', 'дама', 'король', 'туз']\n",
    "suits = ['пик', 'треф', 'бубен', 'червей']\n",
    "\n",
    "suits.remove(input())\n",
    "\n",
    "for card, suit in product(cards, suits):\n",
    "    print(card, suit)"
   ],
   "outputs": [],
   "execution_count": null
  },
  {
   "cell_type": "markdown",
   "metadata": {},
   "source": [
    "##### Задача G"
   ]
  },
  {
   "cell_type": "code",
   "metadata": {},
   "source": [
    "from itertools import combinations\n",
    "\n",
    "names = []\n",
    "for _ in range(int(input())):\n",
    "    names.append(input())\n",
    "\n",
    "names = list(combinations(names, 2))\n",
    "print(\"\\n\".join(f\"{name1} - {name2}\" for (name1, name2) in names))"
   ],
   "outputs": [],
   "execution_count": null
  },
  {
   "cell_type": "markdown",
   "metadata": {},
   "source": [
    "##### Задача H"
   ]
  },
  {
   "cell_type": "code",
   "metadata": {},
   "source": [
    "from itertools import cycle, islice\n",
    "\n",
    "porrige = [input() for _ in range(int(input()))]\n",
    "print('\\n'.join(islice(cycle(porrige), int(input()))))"
   ],
   "outputs": [],
   "execution_count": null
  },
  {
   "cell_type": "markdown",
   "metadata": {},
   "source": [
    "##### Задача I"
   ]
  },
  {
   "cell_type": "code",
   "metadata": {},
   "source": [
    "from itertools import product\n",
    "\n",
    "size = int(input())\n",
    "table = [x * y for x, y in product(range(1, size + 1), range(1, size + 1))]\n",
    "\n",
    "for row in range(size):\n",
    "    print(*table[row * size:(row + 1) * size])"
   ],
   "outputs": [],
   "execution_count": null
  },
  {
   "cell_type": "markdown",
   "metadata": {},
   "source": "##### Задача J"
  },
  {
   "cell_type": "code",
   "metadata": {},
   "source": [
    "from itertools import product\n",
    "\n",
    "size = int(input())\n",
    "values = list(product(range(1, size - 1), repeat=3))\n",
    "print('А, Б, В')\n",
    "print('\\n'.join(f'{i} {j} {k}' for (i, j, k) in values if (i + j + k) == size))"
   ],
   "outputs": [],
   "execution_count": null
  },
  {
   "cell_type": "markdown",
   "metadata": {},
   "source": [
    "##### Задача K"
   ]
  },
  {
   "metadata": {},
   "cell_type": "code",
   "source": [
    "from itertools import product\n",
    "\n",
    "x = int(input())\n",
    "y = int(input())\n",
    "\n",
    "ln = len(str(x * y))\n",
    "\n",
    "for i, j in product(range(1, x + 1), range(1, y + 1)):\n",
    "    print(f'{((i - 1) * y + j):>{ln}}', end=' ')\n",
    "    if j == y:\n",
    "        print()"
   ],
   "outputs": [],
   "execution_count": null
  },
  {
   "cell_type": "markdown",
   "metadata": {},
   "source": [
    "##### Задача L"
   ]
  },
  {
   "cell_type": "code",
   "metadata": {},
   "source": [
    "products = ', '.join(input() for _ in range(int(input())))\n",
    "for i, value in enumerate(sorted(products.split(\", \")), 1):\n",
    "    print(f\"{i}. {value}\")"
   ],
   "outputs": [],
   "execution_count": null
  },
  {
   "cell_type": "markdown",
   "metadata": {},
   "source": [
    "##### Задача M"
   ]
  },
  {
   "cell_type": "code",
   "metadata": {},
   "source": [
    "from itertools import permutations\n",
    "\n",
    "number = int(input())\n",
    "for name_list in permutations([input() for _ in range(number)], number):\n",
    "    print(', '.join(name_list))"
   ],
   "outputs": [],
   "execution_count": null
  },
  {
   "cell_type": "markdown",
   "metadata": {},
   "source": [
    "##### Задача N"
   ]
  },
  {
   "cell_type": "code",
   "metadata": {},
   "source": [
    "from itertools import permutations\n",
    "\n",
    "number = int(input())\n",
    "for name_list in permutations(sorted([input() for _ in range(number)]), 3):\n",
    "    print(', '.join(name_list))"
   ],
   "outputs": [],
   "execution_count": null
  },
  {
   "cell_type": "markdown",
   "metadata": {},
   "source": [
    "##### Задача O"
   ]
  },
  {
   "cell_type": "code",
   "metadata": {},
   "source": [
    "from itertools import permutations\n",
    "\n",
    "products = ', '.join(input() for _ in range(int(input())))\n",
    "for name_list in permutations(sorted(products.split(\", \")), 3):\n",
    "    print(' '.join(name_list))"
   ],
   "outputs": [],
   "execution_count": null
  },
  {
   "cell_type": "markdown",
   "metadata": {},
   "source": [
    "##### Задача P"
   ]
  },
  {
   "cell_type": "code",
   "metadata": {},
   "source": [
    "from itertools import chain, permutations, product\n",
    "\n",
    "suit = input().strip()\n",
    "rank = input().strip()\n",
    "\n",
    "suits = {'буби': 'бубен', 'пики': 'пик', 'трефы': 'треф', 'черви': 'червей'}\n",
    "ranks = ['10', '2', '3', '4', '5', '6', '7', '8', '9', 'валет', 'дама', 'король', 'туз']\n",
    "\n",
    "ranks.remove(rank)\n",
    "\n",
    "deck = product(ranks, suits.values())\n",
    "\n",
    "triplets = permutations(deck, 3)\n",
    "\n",
    "triplets = [triplet for triplet in triplets if suits[suit] in chain.from_iterable(triplet)]\n",
    "# triplets.sort()\n",
    "\n",
    "sorted_combinations = sorted(triplets)\n",
    "for combination in sorted_combinations[:10]:\n",
    "    print(', '.join(f'{rank} {suit}' for rank, suit in combination))"
   ],
   "outputs": [],
   "execution_count": null
  },
  {
   "cell_type": "markdown",
   "metadata": {},
   "source": [
    "##### Задача Q"
   ]
  },
  {
   "cell_type": "code",
   "metadata": {},
   "source": [
    "from itertools import chain, combinations, product\n",
    "\n",
    "suit = input().strip()\n",
    "rank = input().strip()\n",
    "hand = input()\n",
    "\n",
    "suits = {'буби': 'бубен', 'пики': 'пик', 'трефы': 'треф', 'черви': 'червей'}\n",
    "ranks = ['10', '2', '3', '4', '5', '6', '7', '8', '9', 'валет', 'дама', 'король', 'туз']\n",
    "\n",
    "ranks.remove(rank)\n",
    "\n",
    "deck = product(ranks, suits.values())\n",
    "\n",
    "triplets = combinations(deck, 3)\n",
    "triplets = [triplet for triplet in triplets if suits[suit] in chain.from_iterable(triplet)]\n",
    "triplets.sort()\n",
    "\n",
    "print_next = False\n",
    "\n",
    "for triplet in triplets:\n",
    "    if print_next:\n",
    "        print(', '.join(f'{rank} {suit}' for rank, suit in triplet))\n",
    "        break\n",
    "    if ', '.join(f'{rank} {suit}' for rank, suit in triplet) == hand:\n",
    "        print_next = True"
   ],
   "outputs": [],
   "execution_count": null
  },
  {
   "cell_type": "markdown",
   "metadata": {},
   "source": [
    "##### Задача R"
   ]
  },
  {
   "cell_type": "code",
   "metadata": {},
   "source": [
    "from itertools import product\n",
    "\n",
    "expression = input()\n",
    "print('a b c f')\n",
    "for a, b, c in product([0, 1], repeat=3):\n",
    "    print(a, b, c, int(eval(expression, {'a': a, 'b': b, 'c': c})))"
   ],
   "outputs": [],
   "execution_count": null
  },
  {
   "cell_type": "markdown",
   "metadata": {},
   "source": [
    "##### Задача S"
   ]
  },
  {
   "cell_type": "code",
   "metadata": {},
   "source": [
    "from itertools import product\n",
    "\n",
    "expression = input()\n",
    "\n",
    "variables = [item for item in sorted(set(expression.split())) if item.isupper()]\n",
    "\n",
    "length = len(variables)\n",
    "\n",
    "print(*[v for v in variables], \"F\")\n",
    "\n",
    "for values in product([0, 1], repeat=length):\n",
    "    glo = {key: value for key, value in zip(variables, values)}\n",
    "    print(*[int(v) for v in values], int(eval(expression, glo)))\n"
   ],
   "outputs": [],
   "execution_count": null
  },
  {
   "cell_type": "markdown",
   "metadata": {},
   "source": [
    "##### Задача T"
   ]
  },
  {
   "cell_type": "code",
   "metadata": {},
   "source": [
    "from itertools import product\n",
    "\n",
    "OPERATORS = {\n",
    "    'not': 'not',\n",
    "    'and': 'and',\n",
    "    'or': 'or',\n",
    "    '^': '!=',\n",
    "    '->': '<=',\n",
    "    '~': '==',\n",
    "}\n",
    "\n",
    "PRIORITY = {\n",
    "    'not': 0,\n",
    "    'and': 1,\n",
    "    'or': 2,\n",
    "    '^': 3,\n",
    "    '->': 4,\n",
    "    '~': 5,\n",
    "    '(': 6,\n",
    "}\n",
    "\n",
    "\n",
    "def parse_expression(exp, var):\n",
    "    st = []\n",
    "    result = []\n",
    "\n",
    "    exp = exp.replace('(', '( ').replace(')', ' )')\n",
    "\n",
    "    for itm in exp.split():\n",
    "        if itm in var:\n",
    "            result.append(itm)\n",
    "        elif itm == '(':\n",
    "            st.append(itm)\n",
    "        elif itm == ')':\n",
    "            while st[-1] != '(':\n",
    "                result.append(OPERATORS[st.pop()])\n",
    "            st.pop()\n",
    "        elif itm in OPERATORS:\n",
    "            while st and PRIORITY[itm] >= PRIORITY[st[-1]]:\n",
    "                result.append(OPERATORS[st.pop()])\n",
    "            st.append(itm)\n",
    "    while st:\n",
    "        result.append(OPERATORS[st.pop()])\n",
    "    return result\n",
    "\n",
    "\n",
    "def evaluate(var, exp):\n",
    "    st = []\n",
    "    for it in exp:\n",
    "        if it in var:\n",
    "            st.append(var[it])\n",
    "        else:\n",
    "            if it == 'not':\n",
    "                st.append(not st.pop())\n",
    "            else:\n",
    "                variable2, variable1 = st.pop(), st.pop()\n",
    "                st.append(eval(f'{variable1} {it} {variable2}'))  # noqa\n",
    "    return int(st.pop())\n",
    "\n",
    "\n",
    "expression = input()\n",
    "variables = sorted(set([item for item in expression if item.isupper()]))\n",
    "parsed_expression = parse_expression(expression, variables)\n",
    "table = product([0, 1], repeat=len(variables))\n",
    "\n",
    "print(*variables, 'F')\n",
    "for values in table:\n",
    "    glo = {key: value for key, value in zip(variables, values)}\n",
    "    print(*values, evaluate(parsed_expression, glo))\n"
   ],
   "outputs": [],
   "execution_count": null
  },
  {
   "cell_type": "markdown",
   "metadata": {},
   "source": [
    "#### 3.5. Потоковый ввод/вывод. Работа с текстовыми файлами. JSON"
   ]
  },
  {
   "cell_type": "markdown",
   "metadata": {},
   "source": [
    "##### Задача A"
   ]
  },
  {
   "metadata": {},
   "cell_type": "code",
   "source": [
    "from sys import stdin\n",
    "\n",
    "print(sum(sum(map(int, line.split())) for line in stdin))"
   ],
   "outputs": [],
   "execution_count": null
  },
  {
   "cell_type": "markdown",
   "metadata": {},
   "source": [
    "##### Задача B"
   ]
  },
  {
   "cell_type": "code",
   "metadata": {},
   "source": [
    "from sys import stdin\n",
    "\n",
    "data = [int(line.split()[2]) - int(line.split()[1]) for line in stdin]\n",
    "print(round(sum(data) / len(data)))"
   ],
   "outputs": [],
   "execution_count": null
  },
  {
   "cell_type": "markdown",
   "metadata": {},
   "source": [
    "##### Задача C"
   ]
  },
  {
   "cell_type": "code",
   "metadata": {},
   "source": [
    "from sys import stdin\n",
    "\n",
    "for line in stdin:\n",
    "    if data := line.split('#')[0]:\n",
    "        print(data)"
   ],
   "outputs": [],
   "execution_count": null
  },
  {
   "cell_type": "markdown",
   "metadata": {},
   "source": [
    "##### Задача D"
   ]
  },
  {
   "cell_type": "code",
   "metadata": {},
   "source": [
    "from sys import stdin\n",
    "\n",
    "data = [line.strip(\"\\n\") for line in stdin]\n",
    "for line in data[:len(data) - 1]:\n",
    "    if line.lower().find(data[-1].lower()) != -1:\n",
    "        print(line)"
   ],
   "outputs": [],
   "execution_count": null
  },
  {
   "cell_type": "markdown",
   "metadata": {},
   "source": [
    "##### Задача E"
   ]
  },
  {
   "cell_type": "code",
   "metadata": {},
   "source": [
    "from sys import stdin\n",
    "\n",
    "for line in stdin:\n",
    "    data = {word for word in line.split() if word.lower() == word[::-1].lower()}\n",
    "\n",
    "print(*sorted(data), sep=\"\\n\")"
   ],
   "outputs": [],
   "execution_count": null
  },
  {
   "cell_type": "markdown",
   "metadata": {},
   "source": [
    "##### Задача F"
   ]
  },
  {
   "cell_type": "code",
   "metadata": {},
   "source": [
    "Transcript = {'А': 'A', 'Б': 'B', 'В': 'V', 'Г': 'G', 'Д': 'D', 'Е': 'E', 'Ё': 'E', 'Ж': 'ZH', \n",
    "              'З': 'Z', 'И': 'I', 'Й': 'I', 'К': 'K', 'Л': 'L', 'М': 'M', 'Н': 'N', 'О': 'O', \n",
    "              'П': 'P', 'Р': 'R', 'С': 'S', 'Т': 'T', 'У': 'U', 'Ф': 'F', 'Х': 'KH', 'Ц': 'TC', \n",
    "              'Ч': 'CH', 'Ш': 'SH', 'Щ': 'SHCH', 'Ы': 'Y', 'Э': 'E', 'Ю': 'IU', 'Я': 'IA'}\n",
    "\n",
    "with (open('cyrillic.txt', 'r', encoding='utf-8') as file_in,\n",
    "      open('transliteration.txt', 'w', encoding='utf-8') as file_out):\n",
    "    for line in file_in:\n",
    "        for char in line:\n",
    "            if char.upper() in Transcript:\n",
    "                file_out.write(Transcript[char.upper()].title() if char.isupper() else Transcript[char.upper()].lower())\n",
    "            elif char.lower() not in ['ь', \"ъ\"]:\n",
    "                file_out.write(char)"
   ],
   "outputs": [],
   "execution_count": null
  },
  {
   "cell_type": "markdown",
   "metadata": {},
   "source": [
    "##### Задача G"
   ]
  },
  {
   "cell_type": "code",
   "metadata": {},
   "source": [
    "data = []\n",
    "with open(input(), 'r', encoding='utf-8') as file_in:\n",
    "    for line in file_in:\n",
    "        data.extend(map(int, line.split()))\n",
    "\n",
    "print(len(data))\n",
    "print(sum(1 for el in data if el > 0))\n",
    "print(min(data))\n",
    "print(max(data))\n",
    "print(sum(data))\n",
    "print(f\"{sum(data) / len(data):.2f}\")"
   ],
   "outputs": [],
   "execution_count": null
  },
  {
   "cell_type": "markdown",
   "metadata": {},
   "source": [
    "##### Задача H"
   ]
  },
  {
   "cell_type": "code",
   "metadata": {},
   "source": [
    "with (open(input(), 'r', encoding='utf-8') as f1, open(input(), 'r', encoding='utf-8') as f2):\n",
    "    words1 = set(f1.read().split())\n",
    "    words2 = set(f2.read().split())\n",
    "\n",
    "with open(input(), 'w', encoding='utf-8') as f3:\n",
    "    f3.write('\\n'.join(sorted((words1 ^ words2))))"
   ],
   "outputs": [],
   "execution_count": null
  },
  {
   "cell_type": "markdown",
   "metadata": {},
   "source": [
    "##### Задача I"
   ]
  },
  {
   "cell_type": "code",
   "metadata": {},
   "source": [
    "with (open(input(), 'r', encoding='utf-8') as f1, open(input(), 'w', encoding='utf-8') as f2):\n",
    "    for line in f1:\n",
    "        words = line.replace('\\t', '').strip().split()\n",
    "        f2.write(' '.join(words))\n",
    "        if words:\n",
    "            f2.write('\\n')"
   ],
   "outputs": [],
   "execution_count": null
  },
  {
   "cell_type": "markdown",
   "metadata": {},
   "source": [
    "##### Задача J"
   ]
  },
  {
   "cell_type": "code",
   "metadata": {},
   "source": [
    "filename = input()\n",
    "n = int(input())\n",
    "with open(filename, 'r', encoding='utf-8') as f1:\n",
    "    line = f1.readlines()\n",
    "    print(''.join(line[-n:]))"
   ],
   "outputs": [],
   "execution_count": null
  },
  {
   "cell_type": "markdown",
   "metadata": {},
   "source": [
    "##### Задача K"
   ]
  },
  {
   "cell_type": "code",
   "metadata": {},
   "source": [
    "import json\n",
    "\n",
    "data = []\n",
    "with open(input(), 'r', encoding='utf-8') as file_in:\n",
    "    for line in file_in:\n",
    "        data.extend(map(int, line.split()))\n",
    "\n",
    "records = {\n",
    "    \"count\": len(data),\n",
    "    \"positive_count\": sum(1 for el in data if el > 0),\n",
    "    \"min\": min(data),\n",
    "    \"max\": max(data),\n",
    "    \"sum\": sum(data),\n",
    "    \"average\": round(sum(data) / len(data), 2)\n",
    "}\n",
    "\n",
    "with open(input(), 'w', encoding='utf-8') as file_out:\n",
    "    json.dump(records, file_out, ensure_ascii=False, indent=4)"
   ],
   "outputs": [],
   "execution_count": null
  },
  {
   "cell_type": "markdown",
   "metadata": {},
   "source": [
    "##### Задача L"
   ]
  },
  {
   "cell_type": "code",
   "metadata": {},
   "source": [
    "with open(input(\"Input file: \"), 'r', encoding='utf-8') as file_in, \\\n",
    "     open(input(\"Even file: \"), 'w', encoding='utf-8') as file_even, \\\n",
    "     open(input(\"Odd file: \"), 'w', encoding='utf-8') as file_odd, \\\n",
    "     open(input(\"Equal file: \"), 'w', encoding='utf-8') as file_eq:\n",
    "\n",
    "    for line in file_in:\n",
    "        even_numbers = []\n",
    "        odd_numbers = []\n",
    "        equal_numbers = []\n",
    "\n",
    "        for number in line.split():\n",
    "            count = sum(1 if int(ch) % 2 == 0 else -1 for ch in number)\n",
    "\n",
    "            if count > 0:\n",
    "                even_numbers.append(number)\n",
    "            elif count < 0:\n",
    "                odd_numbers.append(number)\n",
    "            else:\n",
    "                equal_numbers.append(number)\n",
    "\n",
    "        file_even.write(' '.join(even_numbers) + '\\n')\n",
    "        file_odd.write(' '.join(odd_numbers) + '\\n')\n",
    "        file_eq.write(' '.join(equal_numbers) + '\\n')"
   ],
   "outputs": [],
   "execution_count": null
  },
  {
   "cell_type": "markdown",
   "metadata": {},
   "source": [
    "##### Задача M"
   ]
  },
  {
   "cell_type": "code",
   "metadata": {},
   "source": [
    "import json\n",
    "from sys import stdin\n",
    "\n",
    "json_file = input()\n",
    "with open(json_file, encoding=\"UTF-8\") as file_in:\n",
    "    records = json.load(file_in)\n",
    "\n",
    "for line in stdin:\n",
    "    name, value = line.strip().split(\" == \", maxsplit=1)\n",
    "    records[name] = value\n",
    "\n",
    "with open(json_file, \"w\", encoding=\"UTF-8\") as file_out:\n",
    "    json.dump(records, file_out, ensure_ascii=False, indent=2)"
   ],
   "outputs": [],
   "execution_count": null
  },
  {
   "cell_type": "markdown",
   "metadata": {},
   "source": [
    "##### Задача N"
   ]
  },
  {
   "cell_type": "code",
   "metadata": {},
   "source": [
    "import json\n",
    "\n",
    "json_name = input()\n",
    "json_update = input()\n",
    "\n",
    "with open(json_name) as file:\n",
    "    source = json.load(file)\n",
    "with open(json_update) as file:\n",
    "    updates = json.load(file)\n",
    "\n",
    "name_key = 'name'\n",
    "new_dict = {}\n",
    "\n",
    "for update in updates:\n",
    "    for data in source:\n",
    "        if update[name_key] == data[name_key]:\n",
    "            for key in update.keys():\n",
    "                if update[key] > data.get(key, ''):\n",
    "                    data[key] = update[key]\n",
    "\n",
    "for data in source:\n",
    "    name = data.pop(name_key)\n",
    "    new_dict[name] = data\n",
    "\n",
    "with open(json_name, 'w') as file:\n",
    "    json.dump(new_dict, file, sort_keys=False, indent=4, ensure_ascii=False)"
   ],
   "outputs": [],
   "execution_count": null
  },
  {
   "cell_type": "markdown",
   "metadata": {},
   "source": [
    "##### Задача O"
   ]
  },
  {
   "cell_type": "code",
   "metadata": {},
   "source": [
    "from sys import stdin\n",
    "import json\n",
    "\n",
    "json_name = 'scoring.json'\n",
    "\n",
    "with open(json_name) as file:\n",
    "    data = json.load(file)\n",
    "\n",
    "answers = stdin.readlines()\n",
    "\n",
    "score = 0\n",
    "\n",
    "for tests in data:\n",
    "    multiplier = int(tests['points'] / len(tests['tests']))\n",
    "    for test in tests['tests']:\n",
    "        result = test['pattern']\n",
    "        for answer in answers:\n",
    "            if result == answer.strip('\\n'):\n",
    "                score += multiplier\n",
    "\n",
    "print(score)"
   ],
   "outputs": [],
   "execution_count": null
  },
  {
   "cell_type": "markdown",
   "metadata": {},
   "source": [
    "##### Задача P"
   ]
  },
  {
   "cell_type": "code",
   "metadata": {},
   "source": [
    "from sys import stdin\n",
    "\n",
    "search_for, *file_names = [string.strip() for string in stdin]\n",
    "\n",
    "found = False\n",
    "\n",
    "for file_name in file_names:\n",
    "    with open(file_name, encoding='UTF-8') as file:\n",
    "        data = ' '.join(file.read().replace(' ', ' ').lower().split())\n",
    "\n",
    "        if search_for.lower() in data:\n",
    "            print(file_name)\n",
    "            found = True\n",
    "\n",
    "if not found:\n",
    "    print('404. Not Found')"
   ],
   "outputs": [],
   "execution_count": null
  },
  {
   "cell_type": "markdown",
   "metadata": {},
   "source": [
    "##### Задача Q"
   ]
  },
  {
   "cell_type": "code",
   "metadata": {},
   "source": [
    "file_name = 'secret.txt'\n",
    "\n",
    "with open(file_name, encoding='UTF-8') as file:\n",
    "    data = file.read()\n",
    "    decoded = ''\n",
    "    for char in data:\n",
    "        code = ord(char)\n",
    "        code = code % 256 if code >= 128 else code\n",
    "        decoded += chr(code)\n",
    "\n",
    "    print(decoded)"
   ],
   "outputs": [],
   "execution_count": null
  },
  {
   "cell_type": "markdown",
   "metadata": {},
   "source": [
    "##### Задача R"
   ]
  },
  {
   "cell_type": "code",
   "metadata": {},
   "source": [
    "import os\n",
    "\n",
    "file_name = input()\n",
    "\n",
    "size = os.path.getsize(file_name)\n",
    "\n",
    "scale = ['Б', 'КБ', 'МБ', 'ГБ', 'ТБ']\n",
    "weight = 0\n",
    "\n",
    "while size > 1024 and weight < len(scale):\n",
    "    weight += 1\n",
    "    size, overload = divmod(size, 1024)\n",
    "    size += int(overload > 0)\n",
    "\n",
    "print(f'{size}{scale[weight]}')"
   ],
   "outputs": [],
   "execution_count": null
  },
  {
   "cell_type": "markdown",
   "metadata": {},
   "source": [
    "##### Задача S"
   ]
  },
  {
   "cell_type": "code",
   "metadata": {},
   "source": [
    "file_in = 'public.txt'\n",
    "file_out = 'private.txt'\n",
    "\n",
    "chars = 'abcdefghijklmnopqrstuvwxyz'\n",
    "\n",
    "shift = int(input()) % len(chars)\n",
    "\n",
    "shifted_chars = chars[shift:] + chars[:shift]\n",
    "\n",
    "alphabet = {key: value for key, value in zip(chars, shifted_chars)}\n",
    "output = ''\n",
    "\n",
    "with open(file_in, encoding='UTF-8') as file:\n",
    "    data = file.read()\n",
    "\n",
    "    for char in data:\n",
    "        new_char = alphabet[char.lower()] if char.lower() in alphabet else char\n",
    "        output += new_char.upper() if char.isupper() else new_char\n",
    "\n",
    "# print(output)\n",
    "with open(file_out, 'w', encoding='UTF-8') as file:\n",
    "    file.write(output)"
   ],
   "outputs": [],
   "execution_count": null
  },
  {
   "cell_type": "markdown",
   "metadata": {},
   "source": "##### Задача T"
  },
  {
   "cell_type": "code",
   "metadata": {},
   "source": [
    "file_in = 'numbers.num'\n",
    "sum = 0\n",
    "\n",
    "with open(file_in, 'rb') as file:\n",
    "    while chunk := file.read(2):\n",
    "        sum += int.from_bytes(chunk)\n",
    "\n",
    "print(sum % 0x10000)"
   ],
   "outputs": [],
   "execution_count": null
  }
 ],
 "metadata": {
  "kernelspec": {
   "display_name": "Python 3",
   "language": "python",
   "name": "python3"
  },
  "language_info": {
   "codemirror_mode": {
    "name": "ipython",
    "version": 3
   },
   "file_extension": ".py",
   "mimetype": "text/x-python",
   "name": "python",
   "nbconvert_exporter": "python",
   "pygments_lexer": "ipython3",
   "version": "3.12.0"
  }
 },
 "nbformat": 4,
 "nbformat_minor": 2
}
