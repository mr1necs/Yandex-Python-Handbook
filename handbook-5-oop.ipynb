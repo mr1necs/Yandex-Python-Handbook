{
 "cells": [
  {
   "cell_type": "markdown",
   "metadata": {},
   "source": "### 5. Объектно-ориентированное программирование"
  },
  {
   "cell_type": "markdown",
   "metadata": {},
   "source": "#### 5.1. Объектная модель Python. Классы, поля и методы"
  },
  {
   "cell_type": "markdown",
   "metadata": {},
   "source": [
    "##### Задача A"
   ]
  },
  {
   "cell_type": "code",
   "metadata": {},
   "source": [
    "class Point1:\n",
    "    \n",
    "    def __init__(self, x, y):\n",
    "        self.x = x\n",
    "        self.y = y"
   ],
   "outputs": [],
   "execution_count": null
  },
  {
   "cell_type": "markdown",
   "metadata": {},
   "source": [
    "##### Задача B"
   ]
  },
  {
   "cell_type": "code",
   "metadata": {},
   "source": [
    "class Point:\n",
    "    \n",
    "    def __init__(self, x, y):\n",
    "        self.x = x\n",
    "        self.y = y\n",
    "    \n",
    "    def move(self, mvx, mvy):\n",
    "        self.x += mvx\n",
    "        self.y += mvy\n",
    "\n",
    "    def length(self, new_point):\n",
    "        return round(((self.x - new_point.x) ** 2 + (self.y - new_point.y) ** 2) ** 0.5, 2)"
   ],
   "outputs": [],
   "execution_count": null
  },
  {
   "cell_type": "markdown",
   "metadata": {},
   "source": [
    "##### Задача C"
   ]
  },
  {
   "cell_type": "code",
   "metadata": {},
   "source": [
    "class RedButton:\n",
    "\n",
    "    def __init__(self):\n",
    "        self.count_pressed = 0\n",
    "\n",
    "    def click(self):\n",
    "        self.count_pressed += 1\n",
    "        print('Тревога!')\n",
    "\n",
    "    def count(self):\n",
    "        return self.count_pressed"
   ],
   "outputs": [],
   "execution_count": null
  },
  {
   "cell_type": "markdown",
   "metadata": {},
   "source": [
    "##### Задача D"
   ]
  },
  {
   "cell_type": "code",
   "metadata": {},
   "source": [
    "class Programmer:\n",
    "\n",
    "    def __init__(self, name, post):\n",
    "        self.name = name\n",
    "        self.post = post\n",
    "        self.worktime = 0\n",
    "        self.salary = 10\n",
    "        self.payments = 0\n",
    "\n",
    "    def work(self, time):\n",
    "        self.worktime += time\n",
    "        self.payments += self.salary * time\n",
    "\n",
    "    def rise(self):\n",
    "        match self.post:\n",
    "            case 'Junior': \n",
    "                self.post = 'Middle'\n",
    "                self.salary = 15\n",
    "            case 'Middle': \n",
    "                self.post = 'Senior'\n",
    "                self.salary = 20\n",
    "            case 'Senior': \n",
    "                self.salary += 1\n",
    "    \n",
    "    def info(self):\n",
    "        return f'{self.name} {self.worktime}ч. {self.payments}тгр.'"
   ],
   "outputs": [],
   "execution_count": null
  },
  {
   "cell_type": "markdown",
   "metadata": {},
   "source": [
    "##### Задача E"
   ]
  },
  {
   "cell_type": "code",
   "metadata": {},
   "source": [
    "class Rectangle1:\n",
    "    \n",
    "    def __init__(self, point1, point2):\n",
    "        self.a = abs(point1[0] - point2[0])\n",
    "        self.b = abs(point1[1] - point2[1])\n",
    "    \n",
    "    def perimeter(self):\n",
    "        return round(2 * (self.a + self.b), 2)\n",
    "    \n",
    "    def area(self):\n",
    "        return round(self.a * self.b, 2)"
   ],
   "outputs": [],
   "execution_count": null
  },
  {
   "cell_type": "markdown",
   "metadata": {},
   "source": "##### Задача F"
  },
  {
   "cell_type": "code",
   "metadata": {},
   "source": [
    "class Rectangle2:\n",
    "    def __init__(self, corner1, corner2) -> None:\n",
    "        self.left_down = [min(corner1[0], corner2[0]),\n",
    "                          min(corner1[1], corner2[1])]\n",
    "        self.right_ups = [max(corner1[0], corner2[0]),\n",
    "                         max(corner1[1], corner2[1])]\n",
    "\n",
    "    def perimeter(self):\n",
    "        return round((self.right_ups[0] - self.left_down[0]) * 2 +\n",
    "                     (self.right_ups[1] - self.left_down[1]) * 2, 2)\n",
    "\n",
    "    def area(self):\n",
    "        return round((self.right_ups[0] - self.left_down[0]) *\n",
    "                     (self.right_ups[1] - self.left_down[1]), 2)\n",
    "\n",
    "    def get_pos(self):\n",
    "        return round(self.left_down[0], 2), round(self.right_ups[1], 2)\n",
    "\n",
    "    def get_size(self):\n",
    "        return round(self.right_ups[0] - self.left_down[0], 2), \\\n",
    "            round(self.right_ups[1] - self.left_down[1], 2)\n",
    "\n",
    "    def move(self, dx, dy):\n",
    "        self.left_down[0] += dx\n",
    "        self.left_down[1] += dy\n",
    "        self.right_ups[0] += dx\n",
    "        self.right_ups[1] += dy\n",
    "\n",
    "    def resize(self, width, height):\n",
    "        self.right_ups[0] = self.left_down[0] + width\n",
    "        self.left_down[1] = self.right_ups[1] - height"
   ],
   "outputs": [],
   "execution_count": null
  },
  {
   "cell_type": "markdown",
   "metadata": {},
   "source": [
    "\n",
    "##### Задача G"
   ]
  },
  {
   "cell_type": "code",
   "metadata": {},
   "source": [
    "class Rectangle:\n",
    "    def __init__(self, corner1, corner2) -> None:\n",
    "        self.left_down = [min(corner1[0], corner2[0]), min(corner1[1], corner2[1])]\n",
    "        self.right_ups = [max(corner1[0], corner2[0]), max(corner1[1], corner2[1])]\n",
    "\n",
    "    def perimeter(self):\n",
    "        return round((self.right_ups[0] - self.left_down[0]) * 2 + \n",
    "                     (self.right_ups[1] - self.left_down[1]) * 2, 2)\n",
    "\n",
    "    def area(self):\n",
    "        return round((self.right_ups[0] - self.left_down[0]) * \n",
    "                     (self.right_ups[1] - self.left_down[1]), 2)\n",
    "\n",
    "    def get_pos(self):\n",
    "        return (round(self.left_down[0], 2), \n",
    "                round(self.right_ups[1], 2))\n",
    "\n",
    "    def get_size(self):\n",
    "        return (round(self.right_ups[0] - self.left_down[0], 2), \n",
    "                round(self.right_ups[1] - self.left_down[1], 2))\n",
    "\n",
    "    def move(self, dx, dy):\n",
    "        self.left_down = [self.left_down[0] + dx, self.left_down[1] + dy]\n",
    "        self.right_ups = [self.right_ups[0] + dx, self.right_ups[1] + dy]\n",
    "\n",
    "    def resize(self, width, height):\n",
    "        self.right_ups[0] = self.left_down[0] + width\n",
    "        self.left_down[1] = self.right_ups[1] - height\n",
    "        \n",
    "    def turn(self):\n",
    "        x1 = (self.right_ups[0] + self.left_down[0] - self.right_ups[1] + self.left_down[1]) / 2\n",
    "        x2 = (self.right_ups[0] + self.left_down[0] + self.right_ups[1] - self.left_down[1]) / 2\n",
    "        y1 = (self.right_ups[1] + self.left_down[1] - self.right_ups[0] + self.left_down[0]) / 2\n",
    "        y2 = (self.right_ups[1] + self.left_down[1] + self.right_ups[0] - self.left_down[0]) / 2\n",
    "        self.left_down = [x1, y1]\n",
    "        self.right_ups = [x2, y2]\n",
    "    \n",
    "    def scale(self, factor):\n",
    "        w = self.right_ups[0] - self.left_down[0]\n",
    "        h = self.right_ups[1] - self.left_down[1]\n",
    "        dx = round((w * (factor - 1)), 2)\n",
    "        dy = round((h * (factor - 1)), 2)\n",
    "        self.move(-dx / 2, dy / 2)\n",
    "        self.resize(w * factor, h * factor)"
   ],
   "outputs": [],
   "execution_count": null
  },
  {
   "cell_type": "markdown",
   "metadata": {},
   "source": [
    "##### Задача H"
   ]
  },
  {
   "cell_type": "code",
   "metadata": {},
   "source": [
    "class Cell:\n",
    "    def __init__(self, state='X'):\n",
    "        self.state = state\n",
    "    \n",
    "    def status(self):\n",
    "        return self.state\n",
    "    \n",
    "    def set(self, check):\n",
    "        self.state = check\n",
    "    \n",
    "    def clear(self):\n",
    "        check, self.state = self.state, 'X'\n",
    "        return check\n",
    "    \n",
    "\n",
    "class Checkers:\n",
    "    def __init__(self):\n",
    "        checker_board = ['XBXBXBXB', 'BXBXBXBX', 'XBXBXBXB', 'XXXXXXXX', \n",
    "                         'XXXXXXXX', 'WXWXWXWX', 'XWXWXWXW', 'WXWXWXWX']\n",
    "        \n",
    "        self.cells = { \n",
    "            col + row: Cell(cell_type) \n",
    "            for row, line in zip('87654321', checker_board) \n",
    "            for col, cell_type in zip('ABCDEFGH', line)\n",
    "        }\n",
    "                \n",
    "    def get_cell(self, cell):\n",
    "        return self.cells[cell]\n",
    "\n",
    "    def move(self, where_from, where_to):\n",
    "        self.cells[where_to].set(self.cells[where_from].clear())\n"
   ],
   "outputs": [],
   "execution_count": null
  },
  {
   "cell_type": "markdown",
   "metadata": {},
   "source": [
    "##### Задача I"
   ]
  },
  {
   "cell_type": "code",
   "metadata": {},
   "source": [
    "class Queue:\n",
    "    def __init__(self):\n",
    "        self.queue = []\n",
    "    \n",
    "    def push(self, item):\n",
    "        self.queue.append(item)\n",
    "    \n",
    "    def pop(self):\n",
    "        return self.queue.pop(0)\n",
    "    \n",
    "    def is_empty(self):\n",
    "        return len(self.queue) == 0"
   ],
   "outputs": [],
   "execution_count": null
  },
  {
   "cell_type": "markdown",
   "metadata": {},
   "source": [
    "##### Задача J"
   ]
  },
  {
   "cell_type": "code",
   "metadata": {},
   "source": [
    "class Stack:\n",
    "    def __init__(self):\n",
    "        self.stack = []\n",
    "    \n",
    "    def push(self, item):\n",
    "        self.stack.append(item)\n",
    "    \n",
    "    def pop(self):\n",
    "        return self.stack.pop()\n",
    "    \n",
    "    def is_empty(self):\n",
    "        return len(self.stack) == 0"
   ],
   "outputs": [],
   "execution_count": null
  },
  {
   "metadata": {},
   "cell_type": "markdown",
   "source": "#### 5.2. Волшебные методы, переопределение методов. Наследование"
  },
  {
   "metadata": {},
   "cell_type": "markdown",
   "source": "##### Задача A\n"
  },
  {
   "metadata": {},
   "cell_type": "code",
   "source": "",
   "outputs": [],
   "execution_count": null
  },
  {
   "metadata": {},
   "cell_type": "markdown",
   "source": "##### Задача B"
  },
  {
   "metadata": {},
   "cell_type": "code",
   "source": "",
   "outputs": [],
   "execution_count": null
  },
  {
   "metadata": {},
   "cell_type": "markdown",
   "source": "##### Задача C"
  },
  {
   "metadata": {},
   "cell_type": "code",
   "source": "",
   "outputs": [],
   "execution_count": null
  },
  {
   "metadata": {},
   "cell_type": "markdown",
   "source": "##### Задача D"
  },
  {
   "metadata": {},
   "cell_type": "code",
   "source": "",
   "outputs": [],
   "execution_count": null
  },
  {
   "metadata": {},
   "cell_type": "markdown",
   "source": "##### Задача E"
  },
  {
   "metadata": {},
   "cell_type": "code",
   "source": "",
   "outputs": [],
   "execution_count": null
  },
  {
   "metadata": {},
   "cell_type": "markdown",
   "source": "##### Задача F"
  },
  {
   "metadata": {},
   "cell_type": "code",
   "source": "",
   "outputs": [],
   "execution_count": null
  },
  {
   "metadata": {},
   "cell_type": "markdown",
   "source": "##### Задача G"
  },
  {
   "metadata": {},
   "cell_type": "code",
   "source": "",
   "outputs": [],
   "execution_count": null
  },
  {
   "metadata": {},
   "cell_type": "markdown",
   "source": "##### Задача H"
  },
  {
   "metadata": {},
   "cell_type": "code",
   "source": "",
   "outputs": [],
   "execution_count": null
  },
  {
   "metadata": {},
   "cell_type": "markdown",
   "source": "##### Задача I"
  },
  {
   "metadata": {},
   "cell_type": "code",
   "source": "",
   "outputs": [],
   "execution_count": null
  },
  {
   "metadata": {},
   "cell_type": "markdown",
   "source": [
    "\n",
    "##### Задача J"
   ]
  },
  {
   "metadata": {},
   "cell_type": "code",
   "source": "",
   "outputs": [],
   "execution_count": null
  },
  {
   "metadata": {},
   "cell_type": "markdown",
   "source": "#### 5.3. Модель исключений Python. Try, except, else, finally. Модули"
  },
  {
   "metadata": {},
   "cell_type": "markdown",
   "source": "##### Задача A"
  },
  {
   "metadata": {},
   "cell_type": "code",
   "source": "",
   "outputs": [],
   "execution_count": null
  },
  {
   "metadata": {},
   "cell_type": "markdown",
   "source": "##### Задача B"
  },
  {
   "metadata": {},
   "cell_type": "code",
   "source": "",
   "outputs": [],
   "execution_count": null
  },
  {
   "metadata": {},
   "cell_type": "markdown",
   "source": "##### Задача C"
  },
  {
   "metadata": {},
   "cell_type": "code",
   "source": "",
   "outputs": [],
   "execution_count": null
  },
  {
   "metadata": {},
   "cell_type": "markdown",
   "source": "##### Задача D"
  },
  {
   "metadata": {},
   "cell_type": "code",
   "source": "",
   "outputs": [],
   "execution_count": null
  },
  {
   "metadata": {},
   "cell_type": "markdown",
   "source": "##### Задача E"
  },
  {
   "metadata": {},
   "cell_type": "code",
   "source": "",
   "outputs": [],
   "execution_count": null
  },
  {
   "metadata": {},
   "cell_type": "markdown",
   "source": "##### Задача F"
  },
  {
   "metadata": {},
   "cell_type": "code",
   "source": "",
   "outputs": [],
   "execution_count": null
  },
  {
   "metadata": {},
   "cell_type": "markdown",
   "source": "##### Задача G"
  },
  {
   "metadata": {},
   "cell_type": "code",
   "source": "",
   "outputs": [],
   "execution_count": null
  },
  {
   "metadata": {},
   "cell_type": "markdown",
   "source": "##### Задача H"
  },
  {
   "metadata": {},
   "cell_type": "code",
   "source": "",
   "outputs": [],
   "execution_count": null
  },
  {
   "metadata": {},
   "cell_type": "markdown",
   "source": "##### Задача I"
  },
  {
   "metadata": {},
   "cell_type": "code",
   "source": "",
   "outputs": [],
   "execution_count": null
  },
  {
   "metadata": {},
   "cell_type": "markdown",
   "source": "##### Задача J"
  },
  {
   "metadata": {},
   "cell_type": "code",
   "source": "",
   "outputs": [],
   "execution_count": null
  }
 ],
 "metadata": {
  "kernelspec": {
   "display_name": "Python 3",
   "language": "python",
   "name": "python3"
  },
  "language_info": {
   "codemirror_mode": {
    "name": "ipython",
    "version": 3
   },
   "file_extension": ".py",
   "mimetype": "text/x-python",
   "name": "python",
   "nbconvert_exporter": "python",
   "pygments_lexer": "ipython3",
   "version": "3.12.0"
  }
 },
 "nbformat": 4,
 "nbformat_minor": 2
}
