{
 "cells": [
  {
   "cell_type": "markdown",
   "metadata": {},
   "source": [
    "### 2. Базовые конструкции Python"
   ]
  },
  {
   "cell_type": "markdown",
   "metadata": {},
   "source": [
    "#### 2.1. Ввод и вывод данных. Операции с числами, строками. Форматирование"
   ]
  },
  {
   "cell_type": "markdown",
   "metadata": {},
   "source": [
    "##### Задача A"
   ]
  },
  {
   "cell_type": "code",
   "execution_count": null,
   "metadata": {},
   "outputs": [],
   "source": [
    "print('Привет, Яндекс!')"
   ]
  },
  {
   "cell_type": "markdown",
   "metadata": {},
   "source": [
    "##### Задача B"
   ]
  },
  {
   "cell_type": "code",
   "execution_count": null,
   "metadata": {},
   "outputs": [],
   "source": [
    "name = input('Как Вас зовут?')\n",
    "print(f'Привет, {name}')"
   ]
  },
  {
   "cell_type": "markdown",
   "metadata": {},
   "source": [
    "##### Задача C"
   ]
  },
  {
   "cell_type": "code",
   "execution_count": null,
   "metadata": {},
   "outputs": [],
   "source": [
    "ex = input()\n",
    "for _ in range(3):\n",
    "    print(ex)"
   ]
  },
  {
   "cell_type": "markdown",
   "metadata": {},
   "source": [
    "##### Задача D"
   ]
  },
  {
   "cell_type": "code",
   "execution_count": null,
   "metadata": {},
   "outputs": [],
   "source": [
    "money = int(input())\n",
    "print(int(money - (2.5 * 38)))"
   ]
  },
  {
   "cell_type": "markdown",
   "metadata": {},
   "source": [
    "##### Задача E"
   ]
  },
  {
   "cell_type": "code",
   "execution_count": null,
   "metadata": {},
   "outputs": [],
   "source": [
    "a = int(input())\n",
    "b = int(input())\n",
    "c = int(input())\n",
    "print(c - (a * b))"
   ]
  },
  {
   "cell_type": "markdown",
   "metadata": {},
   "source": [
    "##### Задача F"
   ]
  },
  {
   "cell_type": "code",
   "execution_count": null,
   "metadata": {},
   "outputs": [],
   "source": [
    "product_name = input()\n",
    "product_price = input(input())\n",
    "product_weight = int(input())\n",
    "deposit = int(input())\n",
    "\n",
    "print(\"Чек\")\n",
    "print(f\"{product_name} - {product_weight}кг - {product_price}руб/кг\")\n",
    "print(f\"Итого: {product_weight * product_price}руб\")\n",
    "print(f\"Внесено: {deposit}руб\")\n",
    "print(f\"Сдача: {deposit - product_weight * product_price}руб\")"
   ]
  },
  {
   "cell_type": "markdown",
   "metadata": {},
   "source": [
    "##### Задача G"
   ]
  },
  {
   "cell_type": "code",
   "execution_count": null,
   "metadata": {},
   "outputs": [],
   "source": [
    "n = int(input())\n",
    "for _ in range(n):\n",
    "    print(\"Купи слона!\")"
   ]
  },
  {
   "cell_type": "markdown",
   "metadata": {},
   "source": [
    "##### Задача H"
   ]
  },
  {
   "cell_type": "code",
   "execution_count": null,
   "metadata": {},
   "outputs": [],
   "source": [
    "n = int(input())\n",
    "phrase = input()\n",
    "for _ in range(n):\n",
    "    print(f'Я больше никогда не буду писать \"{phrase}\"!')"
   ]
  },
  {
   "cell_type": "markdown",
   "metadata": {},
   "source": [
    "##### Задача I"
   ]
  },
  {
   "cell_type": "code",
   "execution_count": null,
   "metadata": {},
   "outputs": [],
   "source": [
    "n = int(input())\n",
    "m = int(input())\n",
    "print(int(n / 2 * m))"
   ]
  },
  {
   "cell_type": "markdown",
   "metadata": {},
   "source": [
    "##### Задача J"
   ]
  },
  {
   "cell_type": "code",
   "execution_count": null,
   "metadata": {},
   "outputs": [],
   "source": [
    "name = input()\n",
    "case = int(input())\n",
    "print(f\"Группа №{int(case // 100)}.\")\n",
    "print(f\"{int(case % 10)}. {name}.\")\n",
    "print(f\"Шкафчик: {case}.\")\n",
    "print(f\"Кроватка: {int(case // 10 % 10)}.\")"
   ]
  },
  {
   "cell_type": "markdown",
   "metadata": {},
   "source": [
    "##### Задача K"
   ]
  },
  {
   "cell_type": "code",
   "execution_count": null,
   "metadata": {},
   "outputs": [],
   "source": [
    "n = input()\n",
    "print(f\"{n[1]}{n[0]}{n[3]}{n[2]}\")"
   ]
  },
  {
   "cell_type": "markdown",
   "metadata": {},
   "source": [
    "##### Задача L"
   ]
  },
  {
   "cell_type": "code",
   "execution_count": null,
   "metadata": {},
   "outputs": [],
   "source": [
    "def lens(line):\n",
    "    new_s = my_str('0' * (3 - len(line)) + line) \n",
    "    return new_s\n",
    "\n",
    "\n",
    "s1 = lens(input())\n",
    "s2 = lens(input())\n",
    "sums = ''\n",
    "\n",
    "for i in range(-1, -4, -1):\n",
    "    sums += str((int(s1[i]) + int(s2[i])) % 10)\n",
    "\n",
    "print(sums[::-1])"
   ]
  },
  {
   "cell_type": "markdown",
   "metadata": {},
   "source": [
    "##### Задача M"
   ]
  },
  {
   "cell_type": "code",
   "execution_count": null,
   "metadata": {},
   "outputs": [],
   "source": [
    "n = int(input())\n",
    "m = int(input())\n",
    "print(int(m // n))\n",
    "print(int(m - (m // n) * n))"
   ]
  },
  {
   "cell_type": "markdown",
   "metadata": {},
   "source": [
    "##### Задача N"
   ]
  },
  {
   "cell_type": "code",
   "execution_count": null,
   "metadata": {},
   "outputs": [],
   "source": [
    "red = int(input())\n",
    "green = int(input())\n",
    "blue = int(input())\n",
    "print(red + blue + 1)"
   ]
  },
  {
   "cell_type": "markdown",
   "metadata": {},
   "source": [
    "##### Задача O"
   ]
  },
  {
   "cell_type": "code",
   "execution_count": null,
   "metadata": {},
   "outputs": [],
   "source": [
    "hour = int(input())\n",
    "minute = int(input())\n",
    "delivery = int(input())\n",
    "\n",
    "hour = (hour + (delivery + minute) // 60) % 24\n",
    "minute = (delivery + minute) % 60\n",
    "print(f\"{hour:0>2}:{minute:0>2}\")"
   ]
  },
  {
   "cell_type": "markdown",
   "metadata": {},
   "source": [
    "##### Задача P"
   ]
  },
  {
   "cell_type": "code",
   "execution_count": null,
   "metadata": {},
   "outputs": [],
   "source": [
    "a = int(input())\n",
    "b = int(input())\n",
    "c = int(input())\n",
    "result = (b - a) / c\n",
    "print(f\"{result:.2f}\")"
   ]
  },
  {
   "cell_type": "markdown",
   "metadata": {},
   "source": [
    "##### Задача Q"
   ]
  },
  {
   "cell_type": "code",
   "execution_count": null,
   "metadata": {},
   "outputs": [],
   "source": [
    "n = int(input())\n",
    "s = input()\n",
    "s = int(s, 2)\n",
    "print(s + n)"
   ]
  },
  {
   "cell_type": "markdown",
   "metadata": {},
   "source": [
    "##### Задача R"
   ]
  },
  {
   "cell_type": "code",
   "execution_count": null,
   "metadata": {},
   "outputs": [],
   "source": [
    "s = input()\n",
    "n = int(input())\n",
    "s = int(s, 2)\n",
    "print(n - s)"
   ]
  },
  {
   "cell_type": "markdown",
   "metadata": {},
   "source": [
    "##### Задача S"
   ]
  },
  {
   "cell_type": "code",
   "execution_count": null,
   "metadata": {},
   "outputs": [],
   "source": [
    "def format_line(label, value):\n",
    "    line = str(f\"{label}: {' ' * (35 - len(label) - 2 - len(str(value)))}{value}\")\n",
    "    return line\n",
    "\n",
    "\n",
    "name = input()\n",
    "price = int(input())\n",
    "weight = int(input())\n",
    "enter = int(input())\n",
    "\n",
    "total_cost = price * weight\n",
    "change = enter - total_cost\n",
    "\n",
    "print(\"================Чек================\")\n",
    "print(format_line(\"Товар\", name))\n",
    "print(format_line(\"Цена\", f\"{weight}кг * {price}руб/кг\"))\n",
    "print(format_line(\"Итого\", f\"{total_cost}руб\"))\n",
    "print(format_line(\"Внесено\", f\"{enter}руб\"))\n",
    "print(format_line(\"Сдача\", f\"{change}руб\"))\n",
    "print(\"===================================\")"
   ]
  },
  {
   "cell_type": "markdown",
   "metadata": {},
   "source": [
    "##### Задача T"
   ]
  },
  {
   "cell_type": "code",
   "execution_count": null,
   "metadata": {},
   "outputs": [],
   "source": [
    "n = int(input())\n",
    "m = int(input())\n",
    "k1 = int(input())\n",
    "k2 = int(input())\n",
    "\n",
    "x, y = 0, n\n",
    "while (k1 - m) * x != (m - k2) * y:\n",
    "    x += 1\n",
    "    y -= 1\n",
    "\n",
    "print(x, y)"
   ]
  },
  {
   "cell_type": "markdown",
   "metadata": {},
   "source": [
    "#### 2.2. Условный оператор"
   ]
  },
  {
   "cell_type": "markdown",
   "metadata": {},
   "source": [
    "##### Задача A"
   ]
  },
  {
   "cell_type": "code",
   "execution_count": null,
   "metadata": {},
   "outputs": [],
   "source": [
    "name = input()\n",
    "mood = input()\n",
    "\n",
    "print(\"Как Вас зовут?\")\n",
    "print(f\"Здравствуйте, {name}!\")\n",
    "print(\"Как дела?\")\n",
    "print(\"Я за вас рада!\" if mood == 'хорошо' else \"Всё наладится!\")"
   ]
  },
  {
   "cell_type": "markdown",
   "metadata": {},
   "source": [
    "##### Задача B"
   ]
  },
  {
   "cell_type": "code",
   "execution_count": null,
   "metadata": {},
   "outputs": [],
   "source": [
    "v1 = int(input())\n",
    "v2 = int(input())\n",
    "print(\"Вася\" if v1 < v2 else \"Петя\")"
   ]
  },
  {
   "cell_type": "markdown",
   "metadata": {},
   "source": [
    "##### Задача C"
   ]
  },
  {
   "cell_type": "code",
   "execution_count": null,
   "metadata": {},
   "outputs": [],
   "source": [
    "v1 = int(input())\n",
    "v2 = int(input())\n",
    "v3 = int(input())\n",
    "\n",
    "if v1 > v2:\n",
    "    print(\"Петя\" if v1 > v3 else \"Толя\")\n",
    "else:\n",
    "    print(\"Вася\" if v2 > v3 else \"Толя\")"
   ]
  },
  {
   "cell_type": "markdown",
   "metadata": {},
   "source": [
    "##### Задача D"
   ]
  },
  {
   "cell_type": "code",
   "execution_count": null,
   "metadata": {},
   "outputs": [],
   "source": [
    "v1 = int(input())\n",
    "v2 = int(input())\n",
    "v3 = int(input())\n",
    "\n",
    "match (v1, v2, v3):\n",
    "    case (a, b, c) if a > b and a > c:\n",
    "        print(\"1. Петя\")\n",
    "        print(\"2. Вася\\n3. Толя\" if b > c else \"2. Толя\\n3. Вася\")\n",
    "    case (a, b, c) if b > a and b > c:\n",
    "        print(\"1. Вася\")\n",
    "        print(\"2. Петя\\n3. Толя\" if a > c else \"2. Толя\\n3. Петя\")\n",
    "    case (a, b, c) if c > a and c > b:\n",
    "        print(\"1. Толя\")\n",
    "        print(\"2. Петя\\n3. Вася\" if a > b else \"2. Вася\\n3. Петя\")"
   ]
  },
  {
   "cell_type": "markdown",
   "metadata": {},
   "source": [
    "##### Задача E"
   ]
  },
  {
   "cell_type": "code",
   "execution_count": null,
   "metadata": {},
   "outputs": [],
   "source": [
    "n = 6 + int(input())\n",
    "m = 12 + int(input())\n",
    "\n",
    "print(\"Петя\" if n > m else \"Вася\")"
   ]
  },
  {
   "cell_type": "markdown",
   "metadata": {},
   "source": [
    "##### Задача F"
   ]
  },
  {
   "cell_type": "code",
   "execution_count": null,
   "metadata": {},
   "outputs": [],
   "source": [
    "year = int(input())\n",
    "print(\"YES\" if (year % 400 == 0) or (year % 4 == 0 and year % 100 != 0) else \"NO\")"
   ]
  },
  {
   "cell_type": "markdown",
   "metadata": {},
   "source": [
    "##### Задача G"
   ]
  },
  {
   "cell_type": "code",
   "execution_count": null,
   "metadata": {},
   "outputs": [],
   "source": [
    "s_num = input()\n",
    "print(\"YES\" if s_num == ''.join(reversed(s_num)) else \"NO\")"
   ]
  },
  {
   "cell_type": "markdown",
   "metadata": {},
   "source": [
    "##### Задача H"
   ]
  },
  {
   "cell_type": "code",
   "execution_count": null,
   "metadata": {},
   "outputs": [],
   "source": [
    "string = input()\n",
    "print(\"YES\" if string.find('зайка') != -1 else \"NO\")"
   ]
  },
  {
   "cell_type": "markdown",
   "metadata": {},
   "source": [
    "##### Задача I"
   ]
  },
  {
   "cell_type": "code",
   "execution_count": null,
   "metadata": {},
   "outputs": [],
   "source": [
    "names = []\n",
    "\n",
    "for _ in range(3):\n",
    "    names.append(input())\n",
    "    \n",
    "print(min(names))"
   ]
  },
  {
   "cell_type": "markdown",
   "metadata": {},
   "source": [
    "##### Задача J"
   ]
  },
  {
   "cell_type": "code",
   "execution_count": null,
   "metadata": {},
   "outputs": [],
   "source": [
    "password = input()\n",
    "ch1 = int(password[0]) + int(password[1])\n",
    "ch2 = int(password[1]) + int(password[2])\n",
    "print(str(ch1) + str(ch2) if ch1 > ch2 else str(ch2) + str(ch1))"
   ]
  },
  {
   "cell_type": "markdown",
   "metadata": {},
   "source": [
    "##### Задача K"
   ]
  },
  {
   "cell_type": "code",
   "execution_count": null,
   "metadata": {},
   "outputs": [],
   "source": [
    "num = input()\n",
    "digits = [int(i) for i in num]\n",
    "\n",
    "min_d = min(digits)\n",
    "max_d = max(digits)\n",
    "mid_d = sum(digits) - min_d - max_d \n",
    "\n",
    "print(\"YES\" if min_d + max_d == 2 * mid_d else \"NO\")"
   ]
  },
  {
   "cell_type": "markdown",
   "metadata": {},
   "source": [
    "##### Задача L"
   ]
  },
  {
   "cell_type": "code",
   "execution_count": null,
   "metadata": {},
   "outputs": [],
   "source": [
    "def is_triangle(num1, num2, num3):\n",
    "    if num1 + num2 > num3 and num1 + num3 > num2 and num3 + num2 > num1:\n",
    "        return True\n",
    "    else:\n",
    "        return False\n",
    "\n",
    "\n",
    "a = int(input())\n",
    "b = int(input())\n",
    "c = int(input())\n",
    "print(\"YES\" if is_triangle(a, b, c) else \"NO\")"
   ]
  },
  {
   "cell_type": "markdown",
   "metadata": {},
   "source": [
    "##### Задача M"
   ]
  },
  {
   "cell_type": "code",
   "execution_count": null,
   "metadata": {},
   "outputs": [],
   "source": [
    "a = input()\n",
    "b = input()\n",
    "c = input()\n",
    "\n",
    "print(a[0] if a[0] == b[0] == c[0] else a[1])"
   ]
  },
  {
   "cell_type": "markdown",
   "metadata": {},
   "source": [
    "##### Задача N"
   ]
  },
  {
   "cell_type": "code",
   "execution_count": null,
   "metadata": {},
   "outputs": [],
   "source": [
    "num = input()\n",
    "\n",
    "nums = [int(num[0] + num[1]),\n",
    "        int(num[0] + num[2]),\n",
    "        int(num[1] + num[0]),\n",
    "        int(num[1] + num[2]),\n",
    "        int(num[2] + num[0]),\n",
    "        int(num[2] + num[1])]\n",
    "\n",
    "min_n = 99\n",
    "max_n = 9\n",
    "for i in nums:\n",
    "    if i > max_n and i > 9:\n",
    "        max_n = i\n",
    "    if min_n > i > 9:\n",
    "        min_n = i\n",
    "\n",
    "print(min_n, max_n)"
   ]
  },
  {
   "cell_type": "markdown",
   "metadata": {},
   "source": [
    "##### Задача O"
   ]
  },
  {
   "cell_type": "code",
   "execution_count": null,
   "metadata": {},
   "outputs": [],
   "source": [
    "a = input()\n",
    "b = input()\n",
    "\n",
    "digits = [int(a[0]), int(a[1]), int(b[0]), int(b[1])]\n",
    "print(str(max(digits)) + str((sum(digits) - max(digits) - min(digits)) % 10) + str(min(digits)))"
   ]
  },
  {
   "cell_type": "markdown",
   "metadata": {},
   "source": [
    "##### Задача P"
   ]
  },
  {
   "cell_type": "code",
   "execution_count": null,
   "metadata": {},
   "outputs": [],
   "source": [
    "v1 = int(input())\n",
    "v2 = int(input())\n",
    "v3 = int(input())\n",
    "\n",
    "first, second, third = '', '', ''\n",
    "\n",
    "match (v1, v2, v3):\n",
    "    case (a, b, c) if a > b and a > c:\n",
    "        first = \"Петя\"\n",
    "        if b > c:\n",
    "            second = \"Вася\" \n",
    "            third = \"Толя\" \n",
    "        else:\n",
    "            second = \"Толя\" \n",
    "            third = \"Вася\"\n",
    "    case (a, b, c) if b > a and b > c:\n",
    "        first = \"Вася\"\n",
    "        if a > c:\n",
    "            second = \"Петя\" \n",
    "            third = \"Толя\" \n",
    "        else:\n",
    "            second = \"Толя\" \n",
    "            third = \"Петя\"\n",
    "    case (a, b, c) if c > a and c > b:\n",
    "        first = \"Толя\" \n",
    "        if a > b:\n",
    "            second = \"Петя\" \n",
    "            third = \"Вася\" \n",
    "        else:\n",
    "            second = \"Вася\"\n",
    "            third = \"Петя\"\n",
    "\n",
    "print(f\"          {first}          \")\n",
    "print(f\"  {second}  \")\n",
    "print(f\"                  {third}  \")\n",
    "print(\"   II      I      III   \")"
   ]
  },
  {
   "cell_type": "markdown",
   "metadata": {},
   "source": [
    "##### Задача Q"
   ]
  },
  {
   "cell_type": "code",
   "execution_count": null,
   "metadata": {},
   "outputs": [],
   "source": [
    "a = float(input())\n",
    "b = float(input())\n",
    "c = float(input())\n",
    "\n",
    "if a != 0:\n",
    "    D = b ** 2 - 4 * a * c\n",
    "    if D < 0:\n",
    "        print(\"No solution\")\n",
    "    elif D == 0:\n",
    "        print(f\"{(-b / (2 * a)):.2f}\")\n",
    "    else:\n",
    "        x1 = (-b - D ** 0.5) / (2 * a)\n",
    "        x2 = (-b + D ** 0.5) / (2 * a)\n",
    "        print(f\"{min(x1, x2):.2f} {max(x1, x2):.2f}\")\n",
    "elif b != 0:\n",
    "    print(f\"{(-c / b):.2f}\")\n",
    "elif c != 0:\n",
    "    print(\"No solution\")\n",
    "else:\n",
    "    print(\"Infinite solutions\")\n"
   ]
  },
  {
   "cell_type": "markdown",
   "metadata": {},
   "source": [
    "##### Задача R"
   ]
  },
  {
   "cell_type": "code",
   "execution_count": null,
   "metadata": {},
   "outputs": [],
   "source": [
    "a = int(input())\n",
    "b = int(input())\n",
    "c = int(input())\n",
    "\n",
    "a, b, c = sorted([a, b, c])\n",
    "\n",
    "if a**2 + b**2 > c**2:\n",
    "    print(\"крайне мала\")\n",
    "elif a**2 + b**2 == c**2:\n",
    "    print(\"100%\")\n",
    "else:\n",
    "    print(\"велика\")"
   ]
  },
  {
   "cell_type": "markdown",
   "metadata": {},
   "source": [
    "##### Задача S"
   ]
  },
  {
   "cell_type": "code",
   "execution_count": null,
   "metadata": {},
   "outputs": [],
   "source": [
    "x = float(input())\n",
    "y = float(input()) \n",
    "\n",
    "if (x ** 2 + y ** 2) ** 0.5 > 10:\n",
    "    print('Вы вышли в море и рискуете быть съеденным акулой!')\n",
    "elif x >= 0 and y >= 0 and (x ** 2 + y ** 2) ** 0.5 <= 5:\n",
    "    print('Опасность! Покиньте зону как можно скорее!')\n",
    "elif -4 <= x < 0 <= y <= 5:\n",
    "    print('Опасность! Покиньте зону как можно скорее!')\n",
    "elif -7 <= x < -4 and 0 <= y <= 5 and (5 * x - 3 * y) > -35:\n",
    "    print('Опасность! Покиньте зону как можно скорее!')\n",
    "elif (0.25 * x ** 2 + 0.5 * x - 9) <= y <= 0:\n",
    "    print('Опасность! Покиньте зону как можно скорее!')\n",
    "else:\n",
    "    print('Зона безопасна. Продолжайте работу.')"
   ]
  },
  {
   "cell_type": "markdown",
   "metadata": {},
   "source": [
    "##### Задача T"
   ]
  },
  {
   "cell_type": "code",
   "execution_count": null,
   "metadata": {},
   "outputs": [],
   "source": [
    "nature1 = input()\n",
    "nature2 = input()\n",
    "nature3 = input()\n",
    "\n",
    "if nature1 > nature2:\n",
    "    nature1, nature2 = nature2, nature1\n",
    "if nature1 > nature3:\n",
    "    nature1, nature3 = nature3, nature1\n",
    "if nature2 > nature3:\n",
    "    nature2, nature3 = nature3, nature2\n",
    "\n",
    "if 'зайка' in nature1:\n",
    "    print(nature1, len(nature1))\n",
    "elif 'зайка' in nature2:\n",
    "    print(nature2, len(nature2))\n",
    "elif 'зайка' in nature3:\n",
    "    print(nature3, len(nature3))"
   ]
  },
  {
   "cell_type": "markdown",
   "metadata": {},
   "source": [
    "#### 2.3.Циклы"
   ]
  },
  {
   "cell_type": "markdown",
   "metadata": {},
   "source": [
    "##### Задача A"
   ]
  },
  {
   "cell_type": "code",
   "execution_count": null,
   "metadata": {},
   "outputs": [],
   "source": [
    "while (n := input()) != \"Три!\":\n",
    "    print(\"Режим ожидания...\")\n",
    "print(\"Ёлочка, гори!\")"
   ]
  },
  {
   "cell_type": "markdown",
   "metadata": {},
   "source": [
    "##### Задача B"
   ]
  },
  {
   "cell_type": "code",
   "execution_count": null,
   "metadata": {},
   "outputs": [],
   "source": [
    "count_bunny = 0\n",
    "while (n := input()) != \"Приехали!\":\n",
    "    count_bunny += 1 if n.find(\"зайка\") != -1 else 0\n",
    "print(count_bunny)"
   ]
  },
  {
   "cell_type": "markdown",
   "metadata": {},
   "source": [
    "##### Задача C"
   ]
  },
  {
   "cell_type": "code",
   "execution_count": null,
   "metadata": {},
   "outputs": [],
   "source": [
    "k = int(input())\n",
    "num = int(input())\n",
    "\n",
    "for i in range(k, num + 1):\n",
    "    print(i, end=\" \")"
   ]
  },
  {
   "cell_type": "markdown",
   "metadata": {},
   "source": [
    "##### Задача D"
   ]
  },
  {
   "cell_type": "code",
   "execution_count": null,
   "metadata": {},
   "outputs": [],
   "source": [
    "k = int(input())\n",
    "n = int(input())\n",
    "\n",
    "if k < n:\n",
    "    for i in range(k, n + 1):\n",
    "        print(i, end=' ')\n",
    "else:\n",
    "    for i in range(k, n - 1, -1):\n",
    "        print(i, end=' ')"
   ]
  },
  {
   "cell_type": "markdown",
   "metadata": {},
   "source": [
    "##### Задача E"
   ]
  },
  {
   "cell_type": "code",
   "execution_count": null,
   "metadata": {},
   "outputs": [],
   "source": [
    "sum_p = 0\n",
    "\n",
    "while (n := float(input())) != 0:\n",
    "    sum_p += n if n < 500 else n * 0.9\n",
    "\n",
    "print(f\"{sum_p:.2f}\")"
   ]
  },
  {
   "cell_type": "markdown",
   "metadata": {},
   "source": [
    "##### Задача F"
   ]
  },
  {
   "cell_type": "code",
   "execution_count": null,
   "metadata": {},
   "outputs": [],
   "source": [
    "num = int(input())\n",
    "m = int(input())\n",
    "\n",
    "while min(num, m) != 0:\n",
    "    if num > m:\n",
    "        num = num % m\n",
    "    else:\n",
    "        m = m % num\n",
    "\n",
    "print(max(num, m))"
   ]
  },
  {
   "cell_type": "markdown",
   "metadata": {},
   "source": [
    "##### Задача G"
   ]
  },
  {
   "cell_type": "code",
   "execution_count": null,
   "metadata": {},
   "outputs": [],
   "source": [
    "n = int(input())\n",
    "m = int(input())\n",
    "\n",
    "gcd = max(n, m)\n",
    "while (gcd % n != 0) or (gcd % m != 0):\n",
    "    gcd += 1\n",
    "\n",
    "print(gcd)"
   ]
  },
  {
   "cell_type": "markdown",
   "metadata": {},
   "source": [
    "##### Задача H"
   ]
  },
  {
   "cell_type": "code",
   "execution_count": null,
   "metadata": {},
   "outputs": [],
   "source": [
    "s = input()\n",
    "n = int(input())\n",
    "\n",
    "for _ in range(n):\n",
    "    print(s)"
   ]
  },
  {
   "cell_type": "markdown",
   "metadata": {},
   "source": [
    "##### Задача I"
   ]
  },
  {
   "cell_type": "code",
   "execution_count": null,
   "metadata": {},
   "outputs": [],
   "source": [
    "n = int(input())\n",
    "fact = 1\n",
    "\n",
    "for i in range(1, n + 1):\n",
    "    fact = fact * i\n",
    "\n",
    "print(fact)"
   ]
  },
  {
   "cell_type": "markdown",
   "metadata": {},
   "source": [
    "##### Задача J"
   ]
  },
  {
   "cell_type": "code",
   "execution_count": null,
   "metadata": {},
   "outputs": [],
   "source": [
    "pos_x, pos_y = 0, 0\n",
    "\n",
    "while (in_str := input()) != \"СТОП\":\n",
    "    n = int(input())\n",
    "    match in_str:\n",
    "        case \"СЕВЕР\":\n",
    "            pos_y += n\n",
    "        case \"ЮГ\":\n",
    "            pos_y -= n\n",
    "        case \"ЗАПАД\":\n",
    "            pos_x -= n\n",
    "        case _:\n",
    "            pos_x += n\n",
    "\n",
    "print(pos_y)\n",
    "print(pos_x)"
   ]
  },
  {
   "cell_type": "markdown",
   "metadata": {},
   "source": [
    "##### Задача K"
   ]
  },
  {
   "cell_type": "code",
   "execution_count": null,
   "metadata": {},
   "outputs": [],
   "source": [
    "s = input()\n",
    "\n",
    "sum_n = 0\n",
    "for i in s:\n",
    "    sum_n += int(i)\n",
    "\n",
    "print(sum_n)"
   ]
  },
  {
   "cell_type": "markdown",
   "metadata": {},
   "source": [
    "##### Задача L"
   ]
  },
  {
   "cell_type": "code",
   "execution_count": null,
   "metadata": {},
   "outputs": [],
   "source": [
    "s = input()\n",
    "mas = [int(i) for i in s]\n",
    "print(max(mas))"
   ]
  },
  {
   "cell_type": "markdown",
   "metadata": {},
   "source": [
    "##### Задача M"
   ]
  },
  {
   "cell_type": "code",
   "execution_count": null,
   "metadata": {},
   "outputs": [],
   "source": [
    "n = int(input())\n",
    "s = []\n",
    "\n",
    "for _ in range(n):\n",
    "    s.append(input())\n",
    "\n",
    "print(min(s))"
   ]
  },
  {
   "cell_type": "markdown",
   "metadata": {},
   "source": [
    "##### Задача N"
   ]
  },
  {
   "cell_type": "code",
   "execution_count": null,
   "metadata": {},
   "outputs": [],
   "source": [
    "num = int(input())\n",
    "\n",
    "divisor = 2\n",
    "prime = True\n",
    "\n",
    "if -1 <= num <= 1:\n",
    "    prime = False\n",
    "else:\n",
    "    while divisor ** 2 <= num and prime is True:\n",
    "        if num % divisor == 0:\n",
    "            prime = False\n",
    "        else:\n",
    "            divisor = divisor + 1\n",
    "\n",
    "if prime is True:\n",
    "    print('YES')\n",
    "else:\n",
    "    print('NO')"
   ]
  },
  {
   "cell_type": "markdown",
   "metadata": {},
   "source": [
    "##### Задача O"
   ]
  },
  {
   "cell_type": "code",
   "execution_count": null,
   "metadata": {},
   "outputs": [],
   "source": [
    "n = int(input())\n",
    "count_bunny = 0\n",
    "for _ in range(n):\n",
    "    s = input()\n",
    "    count_bunny += 1 if s.find(\"зайка\") != -1 else 0\n",
    "print(count_bunny)"
   ]
  },
  {
   "cell_type": "markdown",
   "metadata": {},
   "source": [
    "##### Задача P"
   ]
  },
  {
   "cell_type": "code",
   "execution_count": null,
   "metadata": {},
   "outputs": [],
   "source": [
    "n = input()\n",
    "print(\"YES\" if n == ''.join(reversed(n)) else \"NO\")"
   ]
  },
  {
   "cell_type": "markdown",
   "metadata": {},
   "source": [
    "##### Задача Q"
   ]
  },
  {
   "cell_type": "code",
   "execution_count": null,
   "metadata": {},
   "outputs": [],
   "source": [
    "n = input()\n",
    "s = ''\n",
    "for i in n:\n",
    "    if int(i) % 2 != 0:\n",
    "        s += i\n",
    "print(s)"
   ]
  },
  {
   "cell_type": "markdown",
   "metadata": {},
   "source": [
    "##### Задача R"
   ]
  },
  {
   "cell_type": "code",
   "execution_count": null,
   "metadata": {},
   "outputs": [],
   "source": [
    "number = int(input())\n",
    "divisor = 1\n",
    "\n",
    "if number < 2:\n",
    "    print(number)\n",
    "while number > 1:\n",
    "    divisor += 1\n",
    "    if not number % divisor:\n",
    "        print(divisor, end='')\n",
    "        if number != divisor:\n",
    "            print(' *', end=' ')\n",
    "        number //= divisor\n",
    "        divisor = 1"
   ]
  },
  {
   "cell_type": "markdown",
   "metadata": {},
   "source": [
    "##### Задача S"
   ]
  },
  {
   "cell_type": "code",
   "execution_count": null,
   "metadata": {},
   "outputs": [],
   "source": [
    "ask = 500\n",
    "delta = ask // 2\n",
    "\n",
    "my_str = ''\n",
    "\n",
    "while my_str != 'Угадал!':\n",
    "    print(ask)\n",
    "    my_str = input()\n",
    "    if my_str == 'Меньше':\n",
    "        ask = ask - delta\n",
    "    if my_str == 'Больше':\n",
    "        ask = ask + delta\n",
    "    if delta >= 2:\n",
    "        delta = (delta + 1) // 2\n"
   ]
  },
  {
   "cell_type": "markdown",
   "metadata": {},
   "source": [
    "##### Задача T"
   ]
  },
  {
   "cell_type": "code",
   "execution_count": null,
   "metadata": {},
   "outputs": [],
   "source": [
    "q = int(input())\n",
    "\n",
    "last_hash = 0\n",
    "err = 0\n",
    "is_error = False\n",
    "\n",
    "for i in range(q):\n",
    "    block = int(input())\n",
    "    current_hash = block % 256\n",
    "    r = (block // 256) % 256\n",
    "    m = block // 256 ** 2\n",
    "    new_hash = (37 * (m + r + last_hash)) % 256\n",
    "    if new_hash != current_hash or new_hash >= 100:\n",
    "        if is_error is False:\n",
    "            err = i\n",
    "            is_error = True\n",
    "    last_hash = current_hash\n",
    "\n",
    "if is_error is False:\n",
    "    print(-1)\n",
    "else:\n",
    "    print(err)"
   ]
  },
  {
   "cell_type": "markdown",
   "metadata": {},
   "source": [
    "#### 2.4. Вложенные циклы"
   ]
  },
  {
   "cell_type": "markdown",
   "metadata": {},
   "source": [
    "##### Задача A"
   ]
  },
  {
   "cell_type": "code",
   "execution_count": null,
   "metadata": {},
   "outputs": [],
   "source": [
    "n = int(input())\n",
    "\n",
    "for j in range(1, n + 1):\n",
    "    for i in range(1, n + 1):\n",
    "        print(f\"{i * j}\", end=' ')\n",
    "    print() "
   ]
  },
  {
   "cell_type": "markdown",
   "metadata": {},
   "source": [
    "##### Задача B"
   ]
  },
  {
   "cell_type": "code",
   "execution_count": null,
   "metadata": {},
   "outputs": [],
   "source": [
    "n = int(input())\n",
    "\n",
    "for j in range(1, n + 1):\n",
    "    for i in range(1, n + 1):\n",
    "        print(f\"{i} * {j} = {i * j}\")"
   ]
  },
  {
   "cell_type": "markdown",
   "metadata": {},
   "source": [
    "##### Задача C"
   ]
  },
  {
   "cell_type": "code",
   "execution_count": null,
   "metadata": {},
   "outputs": [],
   "source": [
    "n = int(input())\n",
    "\n",
    "count = 1\n",
    "corr = 1\n",
    "\n",
    "while count <= n:\n",
    "    for i in range(corr):\n",
    "        if count > n:\n",
    "            break\n",
    "        print(f\"{count}\", end=' ')\n",
    "        count += 1\n",
    "    corr += 1\n",
    "    print() "
   ]
  },
  {
   "cell_type": "markdown",
   "metadata": {},
   "source": [
    "##### Задача D"
   ]
  },
  {
   "cell_type": "code",
   "execution_count": null,
   "metadata": {},
   "outputs": [],
   "source": [
    "n = int(input())\n",
    "sum_el = 0\n",
    "\n",
    "for _ in range(n):\n",
    "    s = input()\n",
    "    for ch in s:\n",
    "        sum_el += int(ch) \n",
    "\n",
    "print(sum_el)"
   ]
  },
  {
   "cell_type": "markdown",
   "metadata": {},
   "source": [
    "##### Задача E"
   ]
  },
  {
   "cell_type": "code",
   "execution_count": null,
   "metadata": {},
   "outputs": [],
   "source": [
    "n = int(input())\n",
    "count_bunny = 0\n",
    "\n",
    "for _ in range(n):\n",
    "    new_str = ''\n",
    "    while (s := input()) != \"ВСЁ\":\n",
    "        new_str = new_str + s + ' '\n",
    "    count_bunny += 1 if new_str.find(\"зайка\") != -1 else 0\n",
    "\n",
    "print(count_bunny)"
   ]
  },
  {
   "cell_type": "markdown",
   "metadata": {},
   "source": [
    "##### Задача F"
   ]
  },
  {
   "cell_type": "code",
   "execution_count": null,
   "metadata": {},
   "outputs": [],
   "source": [
    "def nod(first_num, second_num):\n",
    "    while min(second_num, first_num) != 0:\n",
    "        if second_num > first_num:\n",
    "            second_num = second_num % first_num\n",
    "        else:\n",
    "            first_num = first_num % second_num\n",
    "    return max(second_num, first_num)\n",
    "\n",
    "\n",
    "n = int(input())\n",
    "may_nod = int(input())\n",
    "    \n",
    "for _ in range(n - 1):\n",
    "    s = int(input())\n",
    "    may_nod = nod(may_nod, s)\n",
    "\n",
    "print(may_nod)"
   ]
  },
  {
   "cell_type": "markdown",
   "metadata": {},
   "source": [
    "##### Задача G"
   ]
  },
  {
   "cell_type": "code",
   "execution_count": null,
   "metadata": {},
   "outputs": [],
   "source": [
    "n = int(input())\n",
    "count = 2\n",
    "\n",
    "for i in range(1, n + 1):\n",
    "    count += 1\n",
    "    for j in range(count, 0, -1):\n",
    "        print(f\"До старта {j} секунд(ы)\")\n",
    "    print(f\"Старт {i}!!!\")"
   ]
  },
  {
   "cell_type": "markdown",
   "metadata": {},
   "source": [
    "##### Задача H"
   ]
  },
  {
   "cell_type": "code",
   "execution_count": null,
   "metadata": {},
   "outputs": [],
   "source": [
    "n = int(input())\n",
    "tuple_list = [(input(), sum_el(int(x) for x in input())) for _ in range(n)]\n",
    "tuple_list = sorted(tuple_list, key=lambda element: element[1])\n",
    "print(tuple_list[-1][0])"
   ]
  },
  {
   "cell_type": "markdown",
   "metadata": {},
   "source": [
    "##### Задача I"
   ]
  },
  {
   "cell_type": "code",
   "execution_count": null,
   "metadata": {},
   "outputs": [],
   "source": [
    "n = int(input())\n",
    "tuple_list = ''\n",
    "for _ in range(n):\n",
    "    tuple_list += my_str(max(int(x) for x in input()))\n",
    "print(tuple_list)"
   ]
  },
  {
   "cell_type": "markdown",
   "metadata": {},
   "source": [
    "##### Задача J"
   ]
  },
  {
   "cell_type": "code",
   "execution_count": null,
   "metadata": {},
   "outputs": [],
   "source": [
    "n = int(input())\n",
    "print(\"А Б В\")\n",
    "\n",
    "for a in range(1, n - 1):\n",
    "    for b in range(1, n - a):\n",
    "        c = n - a - b\n",
    "        if c >= 1: \n",
    "            print(a, b, c) "
   ]
  },
  {
   "cell_type": "markdown",
   "metadata": {},
   "source": [
    "##### Задача K"
   ]
  },
  {
   "cell_type": "code",
   "execution_count": null,
   "metadata": {},
   "outputs": [],
   "source": [
    "def is_prime(mynum):\n",
    "    div = 2\n",
    "    if not (-1 <= mynum <= 1):\n",
    "        while div ** 2 <= mynum:\n",
    "            if mynum % div == 0:\n",
    "                return False\n",
    "            else:\n",
    "                div = div + 1\n",
    "    else:\n",
    "        return False\n",
    "    return True\n",
    "\n",
    "\n",
    "primer = []\n",
    "n = int(input())\n",
    "for _ in range(n):\n",
    "    num = int(input())\n",
    "    if is_prime(num): \n",
    "        primer.append(num)\n",
    "\n",
    "print(len(set(primer)))"
   ]
  },
  {
   "cell_type": "markdown",
   "metadata": {},
   "source": [
    "##### Задача L"
   ]
  },
  {
   "cell_type": "code",
   "execution_count": null,
   "metadata": {},
   "outputs": [],
   "source": [
    "n = int(input())\n",
    "m = int(input())\n",
    "\n",
    "space = len(my_str(n * m))\n",
    "count = 0\n",
    "for _ in range(n):\n",
    "    for _ in range(m):\n",
    "        count += 1\n",
    "        print(f\"{' ' * (space - len(my_str(count)))}{count}\", end=' ')\n",
    "    print()"
   ]
  },
  {
   "cell_type": "markdown",
   "metadata": {},
   "source": [
    "##### Задача M"
   ]
  },
  {
   "cell_type": "code",
   "execution_count": null,
   "metadata": {},
   "outputs": [],
   "source": [
    "n = int(input())\n",
    "m = int(input())\n",
    "\n",
    "space = len(my_str(n * m))\n",
    "count = 0\n",
    "for i in range(n):\n",
    "    count = i + 1\n",
    "    for _ in range(m):\n",
    "        print(f\"{' ' * (space - len(my_str(count)))}{count}\", end=' ')\n",
    "        count += n\n",
    "    print()"
   ]
  },
  {
   "cell_type": "markdown",
   "metadata": {},
   "source": [
    "##### Задача N"
   ]
  },
  {
   "cell_type": "code",
   "execution_count": null,
   "metadata": {},
   "outputs": [],
   "source": [
    "height = int(input())\n",
    "width = int(input())\n",
    "\n",
    "for row in range(height):\n",
    "    for column in range(width):\n",
    "        number = row * width + column + 1 if (row % 2) == 0 else (row + 1) * width - column\n",
    "        print(f\"{number:>{len(my_str(height * width))}}\", end=' ')\n",
    "    print()"
   ]
  },
  {
   "cell_type": "markdown",
   "metadata": {},
   "source": [
    "##### Задача O"
   ]
  },
  {
   "cell_type": "code",
   "execution_count": null,
   "metadata": {},
   "outputs": [],
   "source": [
    "height = int(input())\n",
    "width = int(input())\n",
    "\n",
    "for row in range(height):\n",
    "    for column in range(width):\n",
    "        number = column * height + row + 1 if (column % 2) == 0 else (column + 1) * height - row\n",
    "        print(f\"{number:>{len(my_str(height * width))}}\", end=' ')\n",
    "    print()"
   ]
  },
  {
   "cell_type": "markdown",
   "metadata": {},
   "source": [
    "##### Задача P"
   ]
  },
  {
   "cell_type": "code",
   "execution_count": null,
   "metadata": {},
   "outputs": [],
   "source": [
    "size = int(input())\n",
    "width = int(input())\n",
    "\n",
    "for row in range(1, size + 1):\n",
    "    for column in range(1, size + 1):\n",
    "        print(f\"{(row * column):^{width}}\", end='')\n",
    "        print('') if column == size else print('|', end='')\n",
    "    if row != size:\n",
    "        print(f\"{'-' * (width * size + (size - 1))}\")\n"
   ]
  },
  {
   "cell_type": "markdown",
   "metadata": {},
   "source": [
    "##### Задача Q"
   ]
  },
  {
   "cell_type": "code",
   "execution_count": null,
   "metadata": {},
   "outputs": [],
   "source": [
    "n = int(input())\n",
    "count = 0\n",
    "\n",
    "for _ in range(n):\n",
    "    new_str = input()\n",
    "    if new_str == ''.join(reversed(new_str)):\n",
    "        count += 1\n",
    "\n",
    "print(count)"
   ]
  },
  {
   "cell_type": "code",
   "execution_count": null,
   "metadata": {},
   "outputs": [],
   "source": [
    "n = int(input())\n",
    "count = 0\n",
    "\n",
    "for _ in range(n):\n",
    "    new_str = input()\n",
    "    fl = True\n",
    "    for i in range(len(new_str)):\n",
    "        if new_str[i] != new_str[-1 - i]:\n",
    "            fl = False\n",
    "    if fl:\n",
    "        count += 1\n",
    "\n",
    "print(count)"
   ]
  },
  {
   "cell_type": "markdown",
   "metadata": {},
   "source": [
    "##### Задача R"
   ]
  },
  {
   "cell_type": "code",
   "execution_count": null,
   "metadata": {},
   "outputs": [],
   "source": [
    "limit = int(input())\n",
    "\n",
    "counter = 0\n",
    "width = 1\n",
    "max_length = 0\n",
    "\n",
    "while counter <= limit:\n",
    "    string_length = 0\n",
    "    for position in range(width):\n",
    "        counter += 1\n",
    "        if counter <= limit:\n",
    "            string_length += len(my_str(counter))\n",
    "        if position < width - 1 and counter < limit:\n",
    "            string_length += 1\n",
    "\n",
    "    if max_length < string_length:\n",
    "        max_length = string_length\n",
    "\n",
    "    width += 1\n",
    "\n",
    "counter = 0\n",
    "width = 1\n",
    "\n",
    "while counter <= limit:\n",
    "    string = ''\n",
    "    for position in range(width):\n",
    "        counter += 1\n",
    "        if counter <= limit:\n",
    "            string += my_str(counter)\n",
    "        if position < width - 1 and counter < limit:\n",
    "            string += ' '\n",
    "    width += 1\n",
    "    print(f'{string:^{max_length}}')"
   ]
  },
  {
   "cell_type": "markdown",
   "metadata": {},
   "source": [
    "##### Задача S"
   ]
  },
  {
   "cell_type": "code",
   "execution_count": null,
   "metadata": {},
   "outputs": [],
   "source": [
    "size = int(input())\n",
    "\n",
    "cell_width = len(my_str((size + 1) // 2))\n",
    "\n",
    "for i in range(size):\n",
    "    for j in range(size):\n",
    "        point = min(i + 1, j + 1, size - i, size - j)\n",
    "        print(f\"{point:>{cell_width}}\", end=' ') if j < size - 1 else print(f\"{point:>{cell_width}}\") "
   ]
  },
  {
   "cell_type": "markdown",
   "metadata": {},
   "source": [
    "##### Задача T"
   ]
  },
  {
   "cell_type": "code",
   "execution_count": null,
   "metadata": {},
   "outputs": [],
   "source": [
    "number = int(input())\n",
    "\n",
    "best_value = 0\n",
    "best_base = 0\n",
    "\n",
    "for base in range(10, 1, -1):\n",
    "    summa = 0\n",
    "    num = number\n",
    "    while num > 0:\n",
    "        summa += (num % base)\n",
    "        num //= base\n",
    "    if summa >= best_value:\n",
    "        best_value = summa\n",
    "        best_base = base\n",
    "\n",
    "print(best_base)"
   ]
  }
 ],
 "metadata": {
  "kernelspec": {
   "display_name": "Python 3",
   "language": "python",
   "name": "python3"
  },
  "language_info": {
   "codemirror_mode": {
    "name": "ipython",
    "version": 3
   },
   "file_extension": ".py",
   "mimetype": "text/x-python",
   "name": "python",
   "nbconvert_exporter": "python",
   "pygments_lexer": "ipython3",
   "version": "3.12.0"
  }
 },
 "nbformat": 4,
 "nbformat_minor": 2
}
